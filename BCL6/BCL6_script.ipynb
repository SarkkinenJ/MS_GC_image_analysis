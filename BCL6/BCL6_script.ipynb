{
 "cells": [
  {
   "cell_type": "code",
   "execution_count": 1,
   "metadata": {},
   "outputs": [
    {
     "name": "stdout",
     "output_type": "stream",
     "text": [
      "Running SCIMAP  2.2.7\n"
     ]
    }
   ],
   "source": [
    "import pandas as pd\n",
    "import sys\n",
    "import os\n",
    "import anndata as ad\n",
    "import pandas as pd\n",
    "import scanpy as sc\n",
    "import seaborn as sns; sns.set(color_codes=True)\n",
    "import numpy as np\n",
    "# Import Scimap\n",
    "import scimap as sm\n",
    "import matplotlib.pyplot as plt\n",
    "from sklearn.mixture import GaussianMixture\n",
    "from sklearn.preprocessing import MinMaxScaler\n",
    "\n",
    "import matplotlib.pyplot as plt\n",
    "import scanpy as sc\n",
    "import anndata as ad\n"
   ]
  },
  {
   "cell_type": "code",
   "execution_count": null,
   "metadata": {},
   "outputs": [],
   "source": []
  },
  {
   "cell_type": "markdown",
   "metadata": {},
   "source": [
    "Process files"
   ]
  },
  {
   "cell_type": "code",
   "execution_count": 15,
   "metadata": {},
   "outputs": [],
   "source": [
    "def gather_txt_files_by_folder(main_folder):\n",
    "    txt_files = []\n",
    "    for root, dirs, files in os.walk(main_folder):\n",
    "        for file in files:\n",
    "            if file.endswith('.csv'):\n",
    "                txt_files.append(os.path.join(root, file))\n",
    "    return txt_files\n",
    "\n",
    "# Specify the main folder to search in\n",
    "main_folder_path = \"/TMA_reduced_quantified_bcl6_five/\"  # Replace with your folder path\n",
    "txt_file_list = gather_txt_files_by_folder(main_folder_path)"
   ]
  },
  {
   "cell_type": "code",
   "execution_count": 16,
   "metadata": {
    "scrolled": true
   },
   "outputs": [
    {
     "name": "stdout",
     "output_type": "stream",
     "text": [
      "/Volumes/Kek_2Tt_7T/TMA_analysis/TMA_reduced_quantified_bcl6_five/801_GC1.csv\n",
      "/Volumes/Kek_2Tt_7T/TMA_analysis/TMA_reduced_quantified_bcl6_five/801_GC2.csv\n",
      "/Volumes/Kek_2Tt_7T/TMA_analysis/TMA_reduced_quantified_bcl6_five/803_GC1.csv\n",
      "/Volumes/Kek_2Tt_7T/TMA_analysis/TMA_reduced_quantified_bcl6_five/803_GC2.csv\n",
      "/Volumes/Kek_2Tt_7T/TMA_analysis/TMA_reduced_quantified_bcl6_five/805_GC1.csv\n",
      "/Volumes/Kek_2Tt_7T/TMA_analysis/TMA_reduced_quantified_bcl6_five/807_GC1.csv\n",
      "/Volumes/Kek_2Tt_7T/TMA_analysis/TMA_reduced_quantified_bcl6_five/807_GC2.csv\n",
      "/Volumes/Kek_2Tt_7T/TMA_analysis/TMA_reduced_quantified_bcl6_five/809_GC1.csv\n",
      "/Volumes/Kek_2Tt_7T/TMA_analysis/TMA_reduced_quantified_bcl6_five/809_GC2.csv\n",
      "/Volumes/Kek_2Tt_7T/TMA_analysis/TMA_reduced_quantified_bcl6_five/811_GC1.csv\n",
      "/Volumes/Kek_2Tt_7T/TMA_analysis/TMA_reduced_quantified_bcl6_five/811_GC2.csv\n",
      "/Volumes/Kek_2Tt_7T/TMA_analysis/TMA_reduced_quantified_bcl6_five/813_GC1.csv\n",
      "/Volumes/Kek_2Tt_7T/TMA_analysis/TMA_reduced_quantified_bcl6_five/813_GC2.csv\n",
      "/Volumes/Kek_2Tt_7T/TMA_analysis/TMA_reduced_quantified_bcl6_five/815_GC1.csv\n",
      "/Volumes/Kek_2Tt_7T/TMA_analysis/TMA_reduced_quantified_bcl6_five/815_GC2.csv\n",
      "/Volumes/Kek_2Tt_7T/TMA_analysis/TMA_reduced_quantified_bcl6_five/817_GC1.csv\n",
      "/Volumes/Kek_2Tt_7T/TMA_analysis/TMA_reduced_quantified_bcl6_five/818_GC1.csv\n",
      "/Volumes/Kek_2Tt_7T/TMA_analysis/TMA_reduced_quantified_bcl6_five/818_GC2.csv\n",
      "/Volumes/Kek_2Tt_7T/TMA_analysis/TMA_reduced_quantified_bcl6_five/820_GC1.csv\n",
      "/Volumes/Kek_2Tt_7T/TMA_analysis/TMA_reduced_quantified_bcl6_five/820_GC2.csv\n",
      "/Volumes/Kek_2Tt_7T/TMA_analysis/TMA_reduced_quantified_bcl6_five/822_GC1.csv\n",
      "/Volumes/Kek_2Tt_7T/TMA_analysis/TMA_reduced_quantified_bcl6_five/822_GC2.csv\n",
      "/Volumes/Kek_2Tt_7T/TMA_analysis/TMA_reduced_quantified_bcl6_five/824_GC1.csv\n",
      "/Volumes/Kek_2Tt_7T/TMA_analysis/TMA_reduced_quantified_bcl6_five/824_GC2.csv\n",
      "/Volumes/Kek_2Tt_7T/TMA_analysis/TMA_reduced_quantified_bcl6_five/826_GC1.csv\n",
      "/Volumes/Kek_2Tt_7T/TMA_analysis/TMA_reduced_quantified_bcl6_five/826_GC2.csv\n",
      "/Volumes/Kek_2Tt_7T/TMA_analysis/TMA_reduced_quantified_bcl6_five/828_GC1.csv\n",
      "/Volumes/Kek_2Tt_7T/TMA_analysis/TMA_reduced_quantified_bcl6_five/828_GC2.csv\n",
      "/Volumes/Kek_2Tt_7T/TMA_analysis/TMA_reduced_quantified_bcl6_five/830_GC1.csv\n",
      "/Volumes/Kek_2Tt_7T/TMA_analysis/TMA_reduced_quantified_bcl6_five/830_GC2.csv\n",
      "/Volumes/Kek_2Tt_7T/TMA_analysis/TMA_reduced_quantified_bcl6_five/832_GC1.csv\n",
      "/Volumes/Kek_2Tt_7T/TMA_analysis/TMA_reduced_quantified_bcl6_five/832_GC2.csv\n",
      "/Volumes/Kek_2Tt_7T/TMA_analysis/TMA_reduced_quantified_bcl6_five/834_GC1.csv\n",
      "/Volumes/Kek_2Tt_7T/TMA_analysis/TMA_reduced_quantified_bcl6_five/834_GC2.csv\n",
      "/Volumes/Kek_2Tt_7T/TMA_analysis/TMA_reduced_quantified_bcl6_five/836_GC1.csv\n",
      "/Volumes/Kek_2Tt_7T/TMA_analysis/TMA_reduced_quantified_bcl6_five/836_GC2.csv\n",
      "/Volumes/Kek_2Tt_7T/TMA_analysis/TMA_reduced_quantified_bcl6_five/840_GC2.csv\n",
      "/Volumes/Kek_2Tt_7T/TMA_analysis/TMA_reduced_quantified_bcl6_five/842_GC1.csv\n",
      "/Volumes/Kek_2Tt_7T/TMA_analysis/TMA_reduced_quantified_bcl6_five/843_GC1.csv\n",
      "/Volumes/Kek_2Tt_7T/TMA_analysis/TMA_reduced_quantified_bcl6_five/843_GC2.csv\n",
      "/Volumes/Kek_2Tt_7T/TMA_analysis/TMA_reduced_quantified_bcl6_five/845_GC1.csv\n",
      "/Volumes/Kek_2Tt_7T/TMA_analysis/TMA_reduced_quantified_bcl6_five/845_GC2.csv\n",
      "/Volumes/Kek_2Tt_7T/TMA_analysis/TMA_reduced_quantified_bcl6_five/847_GC1.csv\n",
      "/Volumes/Kek_2Tt_7T/TMA_analysis/TMA_reduced_quantified_bcl6_five/847_GC2.csv\n",
      "/Volumes/Kek_2Tt_7T/TMA_analysis/TMA_reduced_quantified_bcl6_five/849_GC1.csv\n",
      "/Volumes/Kek_2Tt_7T/TMA_analysis/TMA_reduced_quantified_bcl6_five/849_GC2.csv\n",
      "/Volumes/Kek_2Tt_7T/TMA_analysis/TMA_reduced_quantified_bcl6_five/851_GC1.csv\n",
      "/Volumes/Kek_2Tt_7T/TMA_analysis/TMA_reduced_quantified_bcl6_five/851_GC2.csv\n",
      "/Volumes/Kek_2Tt_7T/TMA_analysis/TMA_reduced_quantified_bcl6_five/853_GC1.csv\n",
      "/Volumes/Kek_2Tt_7T/TMA_analysis/TMA_reduced_quantified_bcl6_five/853_GC2.csv\n",
      "/Volumes/Kek_2Tt_7T/TMA_analysis/TMA_reduced_quantified_bcl6_five/855_GC1.csv\n",
      "/Volumes/Kek_2Tt_7T/TMA_analysis/TMA_reduced_quantified_bcl6_five/855_GC2.csv\n",
      "/Volumes/Kek_2Tt_7T/TMA_analysis/TMA_reduced_quantified_bcl6_five/857_GC1.csv\n",
      "/Volumes/Kek_2Tt_7T/TMA_analysis/TMA_reduced_quantified_bcl6_five/857_GC2.csv\n",
      "/Volumes/Kek_2Tt_7T/TMA_analysis/TMA_reduced_quantified_bcl6_five/859_GC1.csv\n",
      "/Volumes/Kek_2Tt_7T/TMA_analysis/TMA_reduced_quantified_bcl6_five/860_GC1.csv\n",
      "/Volumes/Kek_2Tt_7T/TMA_analysis/TMA_reduced_quantified_bcl6_five/860_GC2.csv\n",
      "/Volumes/Kek_2Tt_7T/TMA_analysis/TMA_reduced_quantified_bcl6_five/862_GC1.csv\n",
      "/Volumes/Kek_2Tt_7T/TMA_analysis/TMA_reduced_quantified_bcl6_five/862_GC2.csv\n",
      "/Volumes/Kek_2Tt_7T/TMA_analysis/TMA_reduced_quantified_bcl6_five/864_GC1.csv\n",
      "/Volumes/Kek_2Tt_7T/TMA_analysis/TMA_reduced_quantified_bcl6_five/864_GC2.csv\n",
      "/Volumes/Kek_2Tt_7T/TMA_analysis/TMA_reduced_quantified_bcl6_five/866_GC1.csv\n",
      "/Volumes/Kek_2Tt_7T/TMA_analysis/TMA_reduced_quantified_bcl6_five/866_GC2.csv\n",
      "/Volumes/Kek_2Tt_7T/TMA_analysis/TMA_reduced_quantified_bcl6_five/868_GC1.csv\n",
      "/Volumes/Kek_2Tt_7T/TMA_analysis/TMA_reduced_quantified_bcl6_five/868_GC2.csv\n",
      "/Volumes/Kek_2Tt_7T/TMA_analysis/TMA_reduced_quantified_bcl6_five/870_GC1.csv\n",
      "/Volumes/Kek_2Tt_7T/TMA_analysis/TMA_reduced_quantified_bcl6_five/870_GC2.csv\n",
      "/Volumes/Kek_2Tt_7T/TMA_analysis/TMA_reduced_quantified_bcl6_five/872_GC1.csv\n",
      "/Volumes/Kek_2Tt_7T/TMA_analysis/TMA_reduced_quantified_bcl6_five/872_GC2.csv\n",
      "/Volumes/Kek_2Tt_7T/TMA_analysis/TMA_reduced_quantified_bcl6_five/874_GC1.csv\n",
      "/Volumes/Kek_2Tt_7T/TMA_analysis/TMA_reduced_quantified_bcl6_five/874_GC2.csv\n",
      "/Volumes/Kek_2Tt_7T/TMA_analysis/TMA_reduced_quantified_bcl6_five/876_GC1.csv\n",
      "/Volumes/Kek_2Tt_7T/TMA_analysis/TMA_reduced_quantified_bcl6_five/876_GC2.csv\n",
      "/Volumes/Kek_2Tt_7T/TMA_analysis/TMA_reduced_quantified_bcl6_five/878_GC1.csv\n",
      "/Volumes/Kek_2Tt_7T/TMA_analysis/TMA_reduced_quantified_bcl6_five/878_GC2.csv\n",
      "/Volumes/Kek_2Tt_7T/TMA_analysis/TMA_reduced_quantified_bcl6_five/880_GC1.csv\n",
      "/Volumes/Kek_2Tt_7T/TMA_analysis/TMA_reduced_quantified_bcl6_five/880_GC2.csv\n",
      "/Volumes/Kek_2Tt_7T/TMA_analysis/TMA_reduced_quantified_bcl6_five/901_GC2.csv\n",
      "/Volumes/Kek_2Tt_7T/TMA_analysis/TMA_reduced_quantified_bcl6_five/903_GC1.csv\n",
      "/Volumes/Kek_2Tt_7T/TMA_analysis/TMA_reduced_quantified_bcl6_five/903_GC2.csv\n",
      "/Volumes/Kek_2Tt_7T/TMA_analysis/TMA_reduced_quantified_bcl6_five/905_GC1.csv\n",
      "/Volumes/Kek_2Tt_7T/TMA_analysis/TMA_reduced_quantified_bcl6_five/907_GC1.csv\n",
      "/Volumes/Kek_2Tt_7T/TMA_analysis/TMA_reduced_quantified_bcl6_five/907_GC2.csv\n",
      "/Volumes/Kek_2Tt_7T/TMA_analysis/TMA_reduced_quantified_bcl6_five/909_GC1.csv\n",
      "/Volumes/Kek_2Tt_7T/TMA_analysis/TMA_reduced_quantified_bcl6_five/909_GC2.csv\n",
      "/Volumes/Kek_2Tt_7T/TMA_analysis/TMA_reduced_quantified_bcl6_five/911_GC1.csv\n",
      "/Volumes/Kek_2Tt_7T/TMA_analysis/TMA_reduced_quantified_bcl6_five/911_GC2.csv\n",
      "/Volumes/Kek_2Tt_7T/TMA_analysis/TMA_reduced_quantified_bcl6_five/913_GC1.csv\n",
      "/Volumes/Kek_2Tt_7T/TMA_analysis/TMA_reduced_quantified_bcl6_five/913_GC2.csv\n",
      "/Volumes/Kek_2Tt_7T/TMA_analysis/TMA_reduced_quantified_bcl6_five/917_GC1.csv\n",
      "/Volumes/Kek_2Tt_7T/TMA_analysis/TMA_reduced_quantified_bcl6_five/917_GC2.csv\n",
      "/Volumes/Kek_2Tt_7T/TMA_analysis/TMA_reduced_quantified_bcl6_five/919_GC1.csv\n",
      "/Volumes/Kek_2Tt_7T/TMA_analysis/TMA_reduced_quantified_bcl6_five/919_GC2.csv\n",
      "/Volumes/Kek_2Tt_7T/TMA_analysis/TMA_reduced_quantified_bcl6_five/921_GC1.csv\n",
      "/Volumes/Kek_2Tt_7T/TMA_analysis/TMA_reduced_quantified_bcl6_five/921_GC2.csv\n",
      "/Volumes/Kek_2Tt_7T/TMA_analysis/TMA_reduced_quantified_bcl6_five/923_GC2.csv\n",
      "/Volumes/Kek_2Tt_7T/TMA_analysis/TMA_reduced_quantified_bcl6_five/925_GC1.csv\n",
      "/Volumes/Kek_2Tt_7T/TMA_analysis/TMA_reduced_quantified_bcl6_five/925_GC2.csv\n",
      "/Volumes/Kek_2Tt_7T/TMA_analysis/TMA_reduced_quantified_bcl6_five/927_GC1.csv\n",
      "/Volumes/Kek_2Tt_7T/TMA_analysis/TMA_reduced_quantified_bcl6_five/927_GC2.csv\n",
      "/Volumes/Kek_2Tt_7T/TMA_analysis/TMA_reduced_quantified_bcl6_five/929_GC1.csv\n",
      "/Volumes/Kek_2Tt_7T/TMA_analysis/TMA_reduced_quantified_bcl6_five/930_GC1.csv\n",
      "/Volumes/Kek_2Tt_7T/TMA_analysis/TMA_reduced_quantified_bcl6_five/930_GC2.csv\n",
      "/Volumes/Kek_2Tt_7T/TMA_analysis/TMA_reduced_quantified_bcl6_five/932_GC1.csv\n",
      "/Volumes/Kek_2Tt_7T/TMA_analysis/TMA_reduced_quantified_bcl6_five/932_GC2.csv\n",
      "/Volumes/Kek_2Tt_7T/TMA_analysis/TMA_reduced_quantified_bcl6_five/934_GC1.csv\n",
      "/Volumes/Kek_2Tt_7T/TMA_analysis/TMA_reduced_quantified_bcl6_five/934_GC2.csv\n",
      "/Volumes/Kek_2Tt_7T/TMA_analysis/TMA_reduced_quantified_bcl6_five/936_GC1.csv\n",
      "/Volumes/Kek_2Tt_7T/TMA_analysis/TMA_reduced_quantified_bcl6_five/936_GC2.csv\n",
      "/Volumes/Kek_2Tt_7T/TMA_analysis/TMA_reduced_quantified_bcl6_five/938_GC1.csv\n",
      "/Volumes/Kek_2Tt_7T/TMA_analysis/TMA_reduced_quantified_bcl6_five/939_GC1.csv\n",
      "/Volumes/Kek_2Tt_7T/TMA_analysis/TMA_reduced_quantified_bcl6_five/939_GC2.csv\n",
      "/Volumes/Kek_2Tt_7T/TMA_analysis/TMA_reduced_quantified_bcl6_five/941_GC1.csv\n",
      "/Volumes/Kek_2Tt_7T/TMA_analysis/TMA_reduced_quantified_bcl6_five/941_GC2.csv\n",
      "/Volumes/Kek_2Tt_7T/TMA_analysis/TMA_reduced_quantified_bcl6_five/944_GC1.csv\n",
      "/Volumes/Kek_2Tt_7T/TMA_analysis/TMA_reduced_quantified_bcl6_five/944_GC2.csv\n",
      "/Volumes/Kek_2Tt_7T/TMA_analysis/TMA_reduced_quantified_bcl6_five/946_GC1.csv\n",
      "/Volumes/Kek_2Tt_7T/TMA_analysis/TMA_reduced_quantified_bcl6_five/946_GC2.csv\n",
      "/Volumes/Kek_2Tt_7T/TMA_analysis/TMA_reduced_quantified_bcl6_five/948_GC2.csv\n",
      "/Volumes/Kek_2Tt_7T/TMA_analysis/TMA_reduced_quantified_bcl6_five/950_GC2.csv\n",
      "/Volumes/Kek_2Tt_7T/TMA_analysis/TMA_reduced_quantified_bcl6_five/952_GC1.csv\n",
      "/Volumes/Kek_2Tt_7T/TMA_analysis/TMA_reduced_quantified_bcl6_five/952_GC2.csv\n",
      "/Volumes/Kek_2Tt_7T/TMA_analysis/TMA_reduced_quantified_bcl6_five/954_GC1.csv\n",
      "/Volumes/Kek_2Tt_7T/TMA_analysis/TMA_reduced_quantified_bcl6_five/954_GC2.csv\n",
      "/Volumes/Kek_2Tt_7T/TMA_analysis/TMA_reduced_quantified_bcl6_five/957_GC2.csv\n",
      "/Volumes/Kek_2Tt_7T/TMA_analysis/TMA_reduced_quantified_bcl6_five/959_GC1.csv\n",
      "/Volumes/Kek_2Tt_7T/TMA_analysis/TMA_reduced_quantified_bcl6_five/959_GC2.csv\n",
      "/Volumes/Kek_2Tt_7T/TMA_analysis/TMA_reduced_quantified_bcl6_five/961_GC1.csv\n",
      "/Volumes/Kek_2Tt_7T/TMA_analysis/TMA_reduced_quantified_bcl6_five/964_GC1.csv\n",
      "/Volumes/Kek_2Tt_7T/TMA_analysis/TMA_reduced_quantified_bcl6_five/966_GC1.csv\n",
      "/Volumes/Kek_2Tt_7T/TMA_analysis/TMA_reduced_quantified_bcl6_five/966_GC2.csv\n",
      "/Volumes/Kek_2Tt_7T/TMA_analysis/TMA_reduced_quantified_bcl6_five/968_GC1.csv\n",
      "/Volumes/Kek_2Tt_7T/TMA_analysis/TMA_reduced_quantified_bcl6_five/969_GC1.csv\n",
      "/Volumes/Kek_2Tt_7T/TMA_analysis/TMA_reduced_quantified_bcl6_five/970_GC1.csv\n",
      "/Volumes/Kek_2Tt_7T/TMA_analysis/TMA_reduced_quantified_bcl6_five/970_GC2.csv\n",
      "/Volumes/Kek_2Tt_7T/TMA_analysis/TMA_reduced_quantified_bcl6_five/972_GC1.csv\n",
      "/Volumes/Kek_2Tt_7T/TMA_analysis/TMA_reduced_quantified_bcl6_five/972_GC2.csv\n",
      "/Volumes/Kek_2Tt_7T/TMA_analysis/TMA_reduced_quantified_bcl6_five/974_GC1.csv\n",
      "/Volumes/Kek_2Tt_7T/TMA_analysis/TMA_reduced_quantified_bcl6_five/974_GC2.csv\n",
      "/Volumes/Kek_2Tt_7T/TMA_analysis/TMA_reduced_quantified_bcl6_five/976_GC2.csv\n",
      "/Volumes/Kek_2Tt_7T/TMA_analysis/TMA_reduced_quantified_bcl6_five/601_GC1.csv\n",
      "/Volumes/Kek_2Tt_7T/TMA_analysis/TMA_reduced_quantified_bcl6_five/602_GC1.csv\n",
      "/Volumes/Kek_2Tt_7T/TMA_analysis/TMA_reduced_quantified_bcl6_five/603_GC1.csv\n",
      "/Volumes/Kek_2Tt_7T/TMA_analysis/TMA_reduced_quantified_bcl6_five/603_GC2.csv\n",
      "/Volumes/Kek_2Tt_7T/TMA_analysis/TMA_reduced_quantified_bcl6_five/605_GC1.csv\n",
      "/Volumes/Kek_2Tt_7T/TMA_analysis/TMA_reduced_quantified_bcl6_five/605_GC2.csv\n",
      "/Volumes/Kek_2Tt_7T/TMA_analysis/TMA_reduced_quantified_bcl6_five/607_GC1.csv\n",
      "/Volumes/Kek_2Tt_7T/TMA_analysis/TMA_reduced_quantified_bcl6_five/607_GC2.csv\n",
      "/Volumes/Kek_2Tt_7T/TMA_analysis/TMA_reduced_quantified_bcl6_five/609_GC1.csv\n",
      "/Volumes/Kek_2Tt_7T/TMA_analysis/TMA_reduced_quantified_bcl6_five/609_GC2.csv\n",
      "/Volumes/Kek_2Tt_7T/TMA_analysis/TMA_reduced_quantified_bcl6_five/611_GC1.csv\n",
      "/Volumes/Kek_2Tt_7T/TMA_analysis/TMA_reduced_quantified_bcl6_five/611_GC2.csv\n",
      "/Volumes/Kek_2Tt_7T/TMA_analysis/TMA_reduced_quantified_bcl6_five/613_GC2.csv\n",
      "/Volumes/Kek_2Tt_7T/TMA_analysis/TMA_reduced_quantified_bcl6_five/615_GC1.csv\n",
      "/Volumes/Kek_2Tt_7T/TMA_analysis/TMA_reduced_quantified_bcl6_five/616_GC1.csv\n",
      "/Volumes/Kek_2Tt_7T/TMA_analysis/TMA_reduced_quantified_bcl6_five/617_GC1.csv\n",
      "/Volumes/Kek_2Tt_7T/TMA_analysis/TMA_reduced_quantified_bcl6_five/617_GC2.csv\n",
      "/Volumes/Kek_2Tt_7T/TMA_analysis/TMA_reduced_quantified_bcl6_five/619_GC1.csv\n",
      "/Volumes/Kek_2Tt_7T/TMA_analysis/TMA_reduced_quantified_bcl6_five/619_GC2.csv\n",
      "/Volumes/Kek_2Tt_7T/TMA_analysis/TMA_reduced_quantified_bcl6_five/621_GC1.csv\n",
      "/Volumes/Kek_2Tt_7T/TMA_analysis/TMA_reduced_quantified_bcl6_five/621_GC2.csv\n",
      "/Volumes/Kek_2Tt_7T/TMA_analysis/TMA_reduced_quantified_bcl6_five/623_GC1.csv\n",
      "/Volumes/Kek_2Tt_7T/TMA_analysis/TMA_reduced_quantified_bcl6_five/623_GC2.csv\n",
      "/Volumes/Kek_2Tt_7T/TMA_analysis/TMA_reduced_quantified_bcl6_five/626_GC1.csv\n",
      "/Volumes/Kek_2Tt_7T/TMA_analysis/TMA_reduced_quantified_bcl6_five/626_GC2.csv\n",
      "/Volumes/Kek_2Tt_7T/TMA_analysis/TMA_reduced_quantified_bcl6_five/628_GC1.csv\n",
      "/Volumes/Kek_2Tt_7T/TMA_analysis/TMA_reduced_quantified_bcl6_five/628_GC2.csv\n",
      "/Volumes/Kek_2Tt_7T/TMA_analysis/TMA_reduced_quantified_bcl6_five/630_GC1.csv\n",
      "/Volumes/Kek_2Tt_7T/TMA_analysis/TMA_reduced_quantified_bcl6_five/630_GC2.csv\n",
      "/Volumes/Kek_2Tt_7T/TMA_analysis/TMA_reduced_quantified_bcl6_five/632_GC1.csv\n",
      "/Volumes/Kek_2Tt_7T/TMA_analysis/TMA_reduced_quantified_bcl6_five/632_GC2.csv\n",
      "/Volumes/Kek_2Tt_7T/TMA_analysis/TMA_reduced_quantified_bcl6_five/634_GC1.csv\n",
      "/Volumes/Kek_2Tt_7T/TMA_analysis/TMA_reduced_quantified_bcl6_five/634_GC2.csv\n",
      "/Volumes/Kek_2Tt_7T/TMA_analysis/TMA_reduced_quantified_bcl6_five/636_GC1.csv\n",
      "/Volumes/Kek_2Tt_7T/TMA_analysis/TMA_reduced_quantified_bcl6_five/636_GC2.csv\n",
      "/Volumes/Kek_2Tt_7T/TMA_analysis/TMA_reduced_quantified_bcl6_five/638_GC1.csv\n",
      "/Volumes/Kek_2Tt_7T/TMA_analysis/TMA_reduced_quantified_bcl6_five/638_GC2.csv\n",
      "/Volumes/Kek_2Tt_7T/TMA_analysis/TMA_reduced_quantified_bcl6_five/640_GC1.csv\n",
      "/Volumes/Kek_2Tt_7T/TMA_analysis/TMA_reduced_quantified_bcl6_five/640_GC2.csv\n",
      "/Volumes/Kek_2Tt_7T/TMA_analysis/TMA_reduced_quantified_bcl6_five/642_GC1.csv\n",
      "/Volumes/Kek_2Tt_7T/TMA_analysis/TMA_reduced_quantified_bcl6_five/642_GC2.csv\n",
      "/Volumes/Kek_2Tt_7T/TMA_analysis/TMA_reduced_quantified_bcl6_five/644_GC2.csv\n",
      "/Volumes/Kek_2Tt_7T/TMA_analysis/TMA_reduced_quantified_bcl6_five/701_GC1.csv\n",
      "/Volumes/Kek_2Tt_7T/TMA_analysis/TMA_reduced_quantified_bcl6_five/701_GC2.csv\n",
      "/Volumes/Kek_2Tt_7T/TMA_analysis/TMA_reduced_quantified_bcl6_five/703_GC1.csv\n",
      "/Volumes/Kek_2Tt_7T/TMA_analysis/TMA_reduced_quantified_bcl6_five/704_GC1.csv\n",
      "/Volumes/Kek_2Tt_7T/TMA_analysis/TMA_reduced_quantified_bcl6_five/705_GC1.csv\n",
      "/Volumes/Kek_2Tt_7T/TMA_analysis/TMA_reduced_quantified_bcl6_five/706_GC1.csv\n",
      "/Volumes/Kek_2Tt_7T/TMA_analysis/TMA_reduced_quantified_bcl6_five/707_GC1.csv\n",
      "/Volumes/Kek_2Tt_7T/TMA_analysis/TMA_reduced_quantified_bcl6_five/707_GC2.csv\n",
      "/Volumes/Kek_2Tt_7T/TMA_analysis/TMA_reduced_quantified_bcl6_five/709_GC1.csv\n",
      "/Volumes/Kek_2Tt_7T/TMA_analysis/TMA_reduced_quantified_bcl6_five/709_GC2.csv\n",
      "/Volumes/Kek_2Tt_7T/TMA_analysis/TMA_reduced_quantified_bcl6_five/711_GC1.csv\n",
      "/Volumes/Kek_2Tt_7T/TMA_analysis/TMA_reduced_quantified_bcl6_five/712_GC2.csv\n",
      "/Volumes/Kek_2Tt_7T/TMA_analysis/TMA_reduced_quantified_bcl6_five/714_GC1.csv\n",
      "/Volumes/Kek_2Tt_7T/TMA_analysis/TMA_reduced_quantified_bcl6_five/715_GC1.csv\n",
      "/Volumes/Kek_2Tt_7T/TMA_analysis/TMA_reduced_quantified_bcl6_five/715_GC2.csv\n",
      "/Volumes/Kek_2Tt_7T/TMA_analysis/TMA_reduced_quantified_bcl6_five/717_GC1.csv\n",
      "/Volumes/Kek_2Tt_7T/TMA_analysis/TMA_reduced_quantified_bcl6_five/720_GC1.csv\n",
      "/Volumes/Kek_2Tt_7T/TMA_analysis/TMA_reduced_quantified_bcl6_five/720_GC2.csv\n",
      "/Volumes/Kek_2Tt_7T/TMA_analysis/TMA_reduced_quantified_bcl6_five/722_GC1.csv\n",
      "/Volumes/Kek_2Tt_7T/TMA_analysis/TMA_reduced_quantified_bcl6_five/722_GC2.csv\n",
      "/Volumes/Kek_2Tt_7T/TMA_analysis/TMA_reduced_quantified_bcl6_five/724_GC1.csv\n",
      "/Volumes/Kek_2Tt_7T/TMA_analysis/TMA_reduced_quantified_bcl6_five/725_GC1.csv\n",
      "/Volumes/Kek_2Tt_7T/TMA_analysis/TMA_reduced_quantified_bcl6_five/725_GC2.csv\n",
      "/Volumes/Kek_2Tt_7T/TMA_analysis/TMA_reduced_quantified_bcl6_five/727_GC1.csv\n",
      "/Volumes/Kek_2Tt_7T/TMA_analysis/TMA_reduced_quantified_bcl6_five/727_GC2.csv\n",
      "/Volumes/Kek_2Tt_7T/TMA_analysis/TMA_reduced_quantified_bcl6_five/729_GC1.csv\n",
      "/Volumes/Kek_2Tt_7T/TMA_analysis/TMA_reduced_quantified_bcl6_five/730_GC1.csv\n",
      "/Volumes/Kek_2Tt_7T/TMA_analysis/TMA_reduced_quantified_bcl6_five/730_GC2.csv\n",
      "/Volumes/Kek_2Tt_7T/TMA_analysis/TMA_reduced_quantified_bcl6_five/732_GC1.csv\n",
      "/Volumes/Kek_2Tt_7T/TMA_analysis/TMA_reduced_quantified_bcl6_five/732_GC2.csv\n",
      "/Volumes/Kek_2Tt_7T/TMA_analysis/TMA_reduced_quantified_bcl6_five/101_GC1.csv\n",
      "/Volumes/Kek_2Tt_7T/TMA_analysis/TMA_reduced_quantified_bcl6_five/101_GC2.csv\n",
      "/Volumes/Kek_2Tt_7T/TMA_analysis/TMA_reduced_quantified_bcl6_five/105_GC1.csv\n",
      "/Volumes/Kek_2Tt_7T/TMA_analysis/TMA_reduced_quantified_bcl6_five/105_GC2.csv\n",
      "/Volumes/Kek_2Tt_7T/TMA_analysis/TMA_reduced_quantified_bcl6_five/107_GC1.csv\n",
      "/Volumes/Kek_2Tt_7T/TMA_analysis/TMA_reduced_quantified_bcl6_five/107_GC2.csv\n",
      "/Volumes/Kek_2Tt_7T/TMA_analysis/TMA_reduced_quantified_bcl6_five/109_GC2.csv\n",
      "/Volumes/Kek_2Tt_7T/TMA_analysis/TMA_reduced_quantified_bcl6_five/111_GC1.csv\n",
      "/Volumes/Kek_2Tt_7T/TMA_analysis/TMA_reduced_quantified_bcl6_five/115_GC1.csv\n",
      "/Volumes/Kek_2Tt_7T/TMA_analysis/TMA_reduced_quantified_bcl6_five/117_GC1.csv\n",
      "/Volumes/Kek_2Tt_7T/TMA_analysis/TMA_reduced_quantified_bcl6_five/117_GC2.csv\n",
      "/Volumes/Kek_2Tt_7T/TMA_analysis/TMA_reduced_quantified_bcl6_five/119_GC2.csv\n",
      "/Volumes/Kek_2Tt_7T/TMA_analysis/TMA_reduced_quantified_bcl6_five/125_GC1.csv\n",
      "/Volumes/Kek_2Tt_7T/TMA_analysis/TMA_reduced_quantified_bcl6_five/125_GC2.csv\n",
      "/Volumes/Kek_2Tt_7T/TMA_analysis/TMA_reduced_quantified_bcl6_five/127_GC1.csv\n",
      "/Volumes/Kek_2Tt_7T/TMA_analysis/TMA_reduced_quantified_bcl6_five/127_GC2.csv\n",
      "/Volumes/Kek_2Tt_7T/TMA_analysis/TMA_reduced_quantified_bcl6_five/129_GC1.csv\n",
      "/Volumes/Kek_2Tt_7T/TMA_analysis/TMA_reduced_quantified_bcl6_five/129_GC2.csv\n",
      "/Volumes/Kek_2Tt_7T/TMA_analysis/TMA_reduced_quantified_bcl6_five/131_GC1.csv\n",
      "/Volumes/Kek_2Tt_7T/TMA_analysis/TMA_reduced_quantified_bcl6_five/131_GC2.csv\n",
      "/Volumes/Kek_2Tt_7T/TMA_analysis/TMA_reduced_quantified_bcl6_five/133_GC1.csv\n",
      "/Volumes/Kek_2Tt_7T/TMA_analysis/TMA_reduced_quantified_bcl6_five/134_GC1.csv\n",
      "/Volumes/Kek_2Tt_7T/TMA_analysis/TMA_reduced_quantified_bcl6_five/135_GC1.csv\n",
      "/Volumes/Kek_2Tt_7T/TMA_analysis/TMA_reduced_quantified_bcl6_five/137_GC1.csv\n",
      "/Volumes/Kek_2Tt_7T/TMA_analysis/TMA_reduced_quantified_bcl6_five/137_GC2.csv\n",
      "/Volumes/Kek_2Tt_7T/TMA_analysis/TMA_reduced_quantified_bcl6_five/141_GC1.csv\n",
      "/Volumes/Kek_2Tt_7T/TMA_analysis/TMA_reduced_quantified_bcl6_five/141_GC2.csv\n",
      "/Volumes/Kek_2Tt_7T/TMA_analysis/TMA_reduced_quantified_bcl6_five/143_GC1.csv\n",
      "/Volumes/Kek_2Tt_7T/TMA_analysis/TMA_reduced_quantified_bcl6_five/143_GC2.csv\n",
      "/Volumes/Kek_2Tt_7T/TMA_analysis/TMA_reduced_quantified_bcl6_five/151_GC2.csv\n",
      "/Volumes/Kek_2Tt_7T/TMA_analysis/TMA_reduced_quantified_bcl6_five/157_GC1.csv\n",
      "/Volumes/Kek_2Tt_7T/TMA_analysis/TMA_reduced_quantified_bcl6_five/160_GC2.csv\n",
      "/Volumes/Kek_2Tt_7T/TMA_analysis/TMA_reduced_quantified_bcl6_five/164_GC2.csv\n",
      "/Volumes/Kek_2Tt_7T/TMA_analysis/TMA_reduced_quantified_bcl6_five/166_GC1.csv\n",
      "/Volumes/Kek_2Tt_7T/TMA_analysis/TMA_reduced_quantified_bcl6_five/166_GC2.csv\n",
      "/Volumes/Kek_2Tt_7T/TMA_analysis/TMA_reduced_quantified_bcl6_five/172_GC1.csv\n",
      "/Volumes/Kek_2Tt_7T/TMA_analysis/TMA_reduced_quantified_bcl6_five/172_GC2.csv\n",
      "/Volumes/Kek_2Tt_7T/TMA_analysis/TMA_reduced_quantified_bcl6_five/207_GC2.csv\n",
      "/Volumes/Kek_2Tt_7T/TMA_analysis/TMA_reduced_quantified_bcl6_five/209_GC1.csv\n",
      "/Volumes/Kek_2Tt_7T/TMA_analysis/TMA_reduced_quantified_bcl6_five/209_GC2.csv\n",
      "/Volumes/Kek_2Tt_7T/TMA_analysis/TMA_reduced_quantified_bcl6_five/211_GC1.csv\n",
      "/Volumes/Kek_2Tt_7T/TMA_analysis/TMA_reduced_quantified_bcl6_five/211_GC2.csv\n",
      "/Volumes/Kek_2Tt_7T/TMA_analysis/TMA_reduced_quantified_bcl6_five/214_GC2.csv\n",
      "/Volumes/Kek_2Tt_7T/TMA_analysis/TMA_reduced_quantified_bcl6_five/218_GC1.csv\n",
      "/Volumes/Kek_2Tt_7T/TMA_analysis/TMA_reduced_quantified_bcl6_five/218_GC2.csv\n",
      "/Volumes/Kek_2Tt_7T/TMA_analysis/TMA_reduced_quantified_bcl6_five/220_GC1.csv\n",
      "/Volumes/Kek_2Tt_7T/TMA_analysis/TMA_reduced_quantified_bcl6_five/220_GC2.csv\n",
      "/Volumes/Kek_2Tt_7T/TMA_analysis/TMA_reduced_quantified_bcl6_five/222_GC1.csv\n",
      "/Volumes/Kek_2Tt_7T/TMA_analysis/TMA_reduced_quantified_bcl6_five/229_GC1.csv\n",
      "/Volumes/Kek_2Tt_7T/TMA_analysis/TMA_reduced_quantified_bcl6_five/229_GC2.csv\n",
      "/Volumes/Kek_2Tt_7T/TMA_analysis/TMA_reduced_quantified_bcl6_five/231_GC1.csv\n",
      "/Volumes/Kek_2Tt_7T/TMA_analysis/TMA_reduced_quantified_bcl6_five/231_GC2.csv\n",
      "/Volumes/Kek_2Tt_7T/TMA_analysis/TMA_reduced_quantified_bcl6_five/233_GC1.csv\n",
      "/Volumes/Kek_2Tt_7T/TMA_analysis/TMA_reduced_quantified_bcl6_five/234_GC1.csv\n",
      "/Volumes/Kek_2Tt_7T/TMA_analysis/TMA_reduced_quantified_bcl6_five/234_GC2.csv\n",
      "/Volumes/Kek_2Tt_7T/TMA_analysis/TMA_reduced_quantified_bcl6_five/236_GC1.csv\n",
      "/Volumes/Kek_2Tt_7T/TMA_analysis/TMA_reduced_quantified_bcl6_five/236_GC2.csv\n",
      "/Volumes/Kek_2Tt_7T/TMA_analysis/TMA_reduced_quantified_bcl6_five/238_GC1.csv\n",
      "/Volumes/Kek_2Tt_7T/TMA_analysis/TMA_reduced_quantified_bcl6_five/238_GC2.csv\n",
      "/Volumes/Kek_2Tt_7T/TMA_analysis/TMA_reduced_quantified_bcl6_five/240_GC1.csv\n",
      "/Volumes/Kek_2Tt_7T/TMA_analysis/TMA_reduced_quantified_bcl6_five/240_GC2.csv\n",
      "/Volumes/Kek_2Tt_7T/TMA_analysis/TMA_reduced_quantified_bcl6_five/242_GC1.csv\n",
      "/Volumes/Kek_2Tt_7T/TMA_analysis/TMA_reduced_quantified_bcl6_five/244_GC1.csv\n",
      "/Volumes/Kek_2Tt_7T/TMA_analysis/TMA_reduced_quantified_bcl6_five/244_GC2.csv\n",
      "/Volumes/Kek_2Tt_7T/TMA_analysis/TMA_reduced_quantified_bcl6_five/246_GC1.csv\n",
      "/Volumes/Kek_2Tt_7T/TMA_analysis/TMA_reduced_quantified_bcl6_five/246_GC2.csv\n",
      "/Volumes/Kek_2Tt_7T/TMA_analysis/TMA_reduced_quantified_bcl6_five/248_GC1.csv\n",
      "/Volumes/Kek_2Tt_7T/TMA_analysis/TMA_reduced_quantified_bcl6_five/248_GC2.csv\n",
      "/Volumes/Kek_2Tt_7T/TMA_analysis/TMA_reduced_quantified_bcl6_five/250_GC1.csv\n",
      "/Volumes/Kek_2Tt_7T/TMA_analysis/TMA_reduced_quantified_bcl6_five/250_GC2.csv\n",
      "/Volumes/Kek_2Tt_7T/TMA_analysis/TMA_reduced_quantified_bcl6_five/252_GC2.csv\n",
      "/Volumes/Kek_2Tt_7T/TMA_analysis/TMA_reduced_quantified_bcl6_five/254_GC1.csv\n",
      "/Volumes/Kek_2Tt_7T/TMA_analysis/TMA_reduced_quantified_bcl6_five/254_GC2.csv\n",
      "/Volumes/Kek_2Tt_7T/TMA_analysis/TMA_reduced_quantified_bcl6_five/256_GC1.csv\n",
      "/Volumes/Kek_2Tt_7T/TMA_analysis/TMA_reduced_quantified_bcl6_five/256_GC2.csv\n",
      "/Volumes/Kek_2Tt_7T/TMA_analysis/TMA_reduced_quantified_bcl6_five/258_GC1.csv\n",
      "/Volumes/Kek_2Tt_7T/TMA_analysis/TMA_reduced_quantified_bcl6_five/262_GC1.csv\n",
      "/Volumes/Kek_2Tt_7T/TMA_analysis/TMA_reduced_quantified_bcl6_five/262_GC2.csv\n",
      "/Volumes/Kek_2Tt_7T/TMA_analysis/TMA_reduced_quantified_bcl6_five/264_GC2.csv\n",
      "/Volumes/Kek_2Tt_7T/TMA_analysis/TMA_reduced_quantified_bcl6_five/268_GC2.csv\n",
      "/Volumes/Kek_2Tt_7T/TMA_analysis/TMA_reduced_quantified_bcl6_five/270_GC1.csv\n",
      "/Volumes/Kek_2Tt_7T/TMA_analysis/TMA_reduced_quantified_bcl6_five/303_GC2.csv\n",
      "/Volumes/Kek_2Tt_7T/TMA_analysis/TMA_reduced_quantified_bcl6_five/307_GC2.csv\n",
      "/Volumes/Kek_2Tt_7T/TMA_analysis/TMA_reduced_quantified_bcl6_five/311_GC1.csv\n",
      "/Volumes/Kek_2Tt_7T/TMA_analysis/TMA_reduced_quantified_bcl6_five/311_GC2.csv\n",
      "/Volumes/Kek_2Tt_7T/TMA_analysis/TMA_reduced_quantified_bcl6_five/321_GC1.csv\n",
      "/Volumes/Kek_2Tt_7T/TMA_analysis/TMA_reduced_quantified_bcl6_five/323_GC1.csv\n",
      "/Volumes/Kek_2Tt_7T/TMA_analysis/TMA_reduced_quantified_bcl6_five/323_GC2.csv\n",
      "/Volumes/Kek_2Tt_7T/TMA_analysis/TMA_reduced_quantified_bcl6_five/327_GC1.csv\n",
      "Number of different .csv files: 301\n"
     ]
    }
   ],
   "source": [
    "for txt_file in txt_file_list:\n",
    "    print(txt_file)\n",
    "\n",
    "# Printing the count of different txt files\n",
    "print(f\"Number of different .csv files: {len(txt_file_list)}\")"
   ]
  },
  {
   "cell_type": "code",
   "execution_count": null,
   "metadata": {
    "scrolled": true
   },
   "outputs": [
    {
     "name": "stdout",
     "output_type": "stream",
     "text": [
      "/Volumes/Kek_2Tt_7T/TMA_analysis/TMA_reduced_quantified_bcl6_five/801_GC1_bcl6status.csv\n",
      "/Volumes/Kek_2Tt_7T/TMA_analysis/TMA_reduced_quantified_bcl6_five/801_GC2_bcl6status.csv\n",
      "/Volumes/Kek_2Tt_7T/TMA_analysis/TMA_reduced_quantified_bcl6_five/803_GC1_bcl6status.csv\n",
      "/Volumes/Kek_2Tt_7T/TMA_analysis/TMA_reduced_quantified_bcl6_five/803_GC2_bcl6status.csv\n",
      "/Volumes/Kek_2Tt_7T/TMA_analysis/TMA_reduced_quantified_bcl6_five/805_GC1_bcl6status.csv\n",
      "/Volumes/Kek_2Tt_7T/TMA_analysis/TMA_reduced_quantified_bcl6_five/807_GC1_bcl6status.csv\n",
      "/Volumes/Kek_2Tt_7T/TMA_analysis/TMA_reduced_quantified_bcl6_five/807_GC2_bcl6status.csv\n",
      "/Volumes/Kek_2Tt_7T/TMA_analysis/TMA_reduced_quantified_bcl6_five/809_GC1_bcl6status.csv\n",
      "/Volumes/Kek_2Tt_7T/TMA_analysis/TMA_reduced_quantified_bcl6_five/809_GC2_bcl6status.csv\n",
      "/Volumes/Kek_2Tt_7T/TMA_analysis/TMA_reduced_quantified_bcl6_five/811_GC1_bcl6status.csv\n",
      "/Volumes/Kek_2Tt_7T/TMA_analysis/TMA_reduced_quantified_bcl6_five/811_GC2_bcl6status.csv\n",
      "/Volumes/Kek_2Tt_7T/TMA_analysis/TMA_reduced_quantified_bcl6_five/813_GC1_bcl6status.csv\n",
      "/Volumes/Kek_2Tt_7T/TMA_analysis/TMA_reduced_quantified_bcl6_five/813_GC2_bcl6status.csv\n",
      "/Volumes/Kek_2Tt_7T/TMA_analysis/TMA_reduced_quantified_bcl6_five/815_GC1_bcl6status.csv\n",
      "/Volumes/Kek_2Tt_7T/TMA_analysis/TMA_reduced_quantified_bcl6_five/815_GC2_bcl6status.csv\n",
      "/Volumes/Kek_2Tt_7T/TMA_analysis/TMA_reduced_quantified_bcl6_five/817_GC1_bcl6status.csv\n",
      "/Volumes/Kek_2Tt_7T/TMA_analysis/TMA_reduced_quantified_bcl6_five/818_GC1_bcl6status.csv\n",
      "/Volumes/Kek_2Tt_7T/TMA_analysis/TMA_reduced_quantified_bcl6_five/818_GC2_bcl6status.csv\n",
      "/Volumes/Kek_2Tt_7T/TMA_analysis/TMA_reduced_quantified_bcl6_five/820_GC1_bcl6status.csv\n",
      "/Volumes/Kek_2Tt_7T/TMA_analysis/TMA_reduced_quantified_bcl6_five/820_GC2_bcl6status.csv\n",
      "/Volumes/Kek_2Tt_7T/TMA_analysis/TMA_reduced_quantified_bcl6_five/822_GC1_bcl6status.csv\n",
      "/Volumes/Kek_2Tt_7T/TMA_analysis/TMA_reduced_quantified_bcl6_five/822_GC2_bcl6status.csv\n",
      "/Volumes/Kek_2Tt_7T/TMA_analysis/TMA_reduced_quantified_bcl6_five/824_GC1_bcl6status.csv\n",
      "/Volumes/Kek_2Tt_7T/TMA_analysis/TMA_reduced_quantified_bcl6_five/824_GC2_bcl6status.csv\n",
      "/Volumes/Kek_2Tt_7T/TMA_analysis/TMA_reduced_quantified_bcl6_five/826_GC1_bcl6status.csv\n",
      "/Volumes/Kek_2Tt_7T/TMA_analysis/TMA_reduced_quantified_bcl6_five/826_GC2_bcl6status.csv\n",
      "/Volumes/Kek_2Tt_7T/TMA_analysis/TMA_reduced_quantified_bcl6_five/828_GC1_bcl6status.csv\n",
      "/Volumes/Kek_2Tt_7T/TMA_analysis/TMA_reduced_quantified_bcl6_five/828_GC2_bcl6status.csv\n",
      "/Volumes/Kek_2Tt_7T/TMA_analysis/TMA_reduced_quantified_bcl6_five/830_GC1_bcl6status.csv\n",
      "/Volumes/Kek_2Tt_7T/TMA_analysis/TMA_reduced_quantified_bcl6_five/830_GC2_bcl6status.csv\n",
      "/Volumes/Kek_2Tt_7T/TMA_analysis/TMA_reduced_quantified_bcl6_five/832_GC1_bcl6status.csv\n",
      "/Volumes/Kek_2Tt_7T/TMA_analysis/TMA_reduced_quantified_bcl6_five/832_GC2_bcl6status.csv\n",
      "/Volumes/Kek_2Tt_7T/TMA_analysis/TMA_reduced_quantified_bcl6_five/834_GC1_bcl6status.csv\n",
      "/Volumes/Kek_2Tt_7T/TMA_analysis/TMA_reduced_quantified_bcl6_five/834_GC2_bcl6status.csv\n",
      "/Volumes/Kek_2Tt_7T/TMA_analysis/TMA_reduced_quantified_bcl6_five/836_GC1_bcl6status.csv\n",
      "/Volumes/Kek_2Tt_7T/TMA_analysis/TMA_reduced_quantified_bcl6_five/836_GC2_bcl6status.csv\n",
      "/Volumes/Kek_2Tt_7T/TMA_analysis/TMA_reduced_quantified_bcl6_five/840_GC2_bcl6status.csv\n",
      "/Volumes/Kek_2Tt_7T/TMA_analysis/TMA_reduced_quantified_bcl6_five/842_GC1_bcl6status.csv\n",
      "/Volumes/Kek_2Tt_7T/TMA_analysis/TMA_reduced_quantified_bcl6_five/843_GC1_bcl6status.csv\n",
      "/Volumes/Kek_2Tt_7T/TMA_analysis/TMA_reduced_quantified_bcl6_five/843_GC2_bcl6status.csv\n",
      "/Volumes/Kek_2Tt_7T/TMA_analysis/TMA_reduced_quantified_bcl6_five/845_GC1_bcl6status.csv\n",
      "/Volumes/Kek_2Tt_7T/TMA_analysis/TMA_reduced_quantified_bcl6_five/845_GC2_bcl6status.csv\n",
      "/Volumes/Kek_2Tt_7T/TMA_analysis/TMA_reduced_quantified_bcl6_five/847_GC1_bcl6status.csv\n",
      "/Volumes/Kek_2Tt_7T/TMA_analysis/TMA_reduced_quantified_bcl6_five/847_GC2_bcl6status.csv\n",
      "/Volumes/Kek_2Tt_7T/TMA_analysis/TMA_reduced_quantified_bcl6_five/849_GC1_bcl6status.csv\n",
      "/Volumes/Kek_2Tt_7T/TMA_analysis/TMA_reduced_quantified_bcl6_five/849_GC2_bcl6status.csv\n",
      "/Volumes/Kek_2Tt_7T/TMA_analysis/TMA_reduced_quantified_bcl6_five/851_GC1_bcl6status.csv\n",
      "/Volumes/Kek_2Tt_7T/TMA_analysis/TMA_reduced_quantified_bcl6_five/851_GC2_bcl6status.csv\n",
      "/Volumes/Kek_2Tt_7T/TMA_analysis/TMA_reduced_quantified_bcl6_five/853_GC1_bcl6status.csv\n",
      "/Volumes/Kek_2Tt_7T/TMA_analysis/TMA_reduced_quantified_bcl6_five/853_GC2_bcl6status.csv\n",
      "/Volumes/Kek_2Tt_7T/TMA_analysis/TMA_reduced_quantified_bcl6_five/855_GC1_bcl6status.csv\n",
      "/Volumes/Kek_2Tt_7T/TMA_analysis/TMA_reduced_quantified_bcl6_five/855_GC2_bcl6status.csv\n",
      "/Volumes/Kek_2Tt_7T/TMA_analysis/TMA_reduced_quantified_bcl6_five/857_GC1_bcl6status.csv\n",
      "/Volumes/Kek_2Tt_7T/TMA_analysis/TMA_reduced_quantified_bcl6_five/857_GC2_bcl6status.csv\n",
      "/Volumes/Kek_2Tt_7T/TMA_analysis/TMA_reduced_quantified_bcl6_five/859_GC1_bcl6status.csv\n",
      "/Volumes/Kek_2Tt_7T/TMA_analysis/TMA_reduced_quantified_bcl6_five/860_GC1_bcl6status.csv\n",
      "/Volumes/Kek_2Tt_7T/TMA_analysis/TMA_reduced_quantified_bcl6_five/860_GC2_bcl6status.csv\n",
      "/Volumes/Kek_2Tt_7T/TMA_analysis/TMA_reduced_quantified_bcl6_five/862_GC1_bcl6status.csv\n",
      "/Volumes/Kek_2Tt_7T/TMA_analysis/TMA_reduced_quantified_bcl6_five/862_GC2_bcl6status.csv\n",
      "/Volumes/Kek_2Tt_7T/TMA_analysis/TMA_reduced_quantified_bcl6_five/864_GC1_bcl6status.csv\n",
      "/Volumes/Kek_2Tt_7T/TMA_analysis/TMA_reduced_quantified_bcl6_five/864_GC2_bcl6status.csv\n",
      "/Volumes/Kek_2Tt_7T/TMA_analysis/TMA_reduced_quantified_bcl6_five/866_GC1_bcl6status.csv\n",
      "/Volumes/Kek_2Tt_7T/TMA_analysis/TMA_reduced_quantified_bcl6_five/866_GC2_bcl6status.csv\n",
      "/Volumes/Kek_2Tt_7T/TMA_analysis/TMA_reduced_quantified_bcl6_five/868_GC1_bcl6status.csv\n",
      "/Volumes/Kek_2Tt_7T/TMA_analysis/TMA_reduced_quantified_bcl6_five/868_GC2_bcl6status.csv\n",
      "/Volumes/Kek_2Tt_7T/TMA_analysis/TMA_reduced_quantified_bcl6_five/870_GC1_bcl6status.csv\n",
      "/Volumes/Kek_2Tt_7T/TMA_analysis/TMA_reduced_quantified_bcl6_five/870_GC2_bcl6status.csv\n",
      "/Volumes/Kek_2Tt_7T/TMA_analysis/TMA_reduced_quantified_bcl6_five/872_GC1_bcl6status.csv\n",
      "/Volumes/Kek_2Tt_7T/TMA_analysis/TMA_reduced_quantified_bcl6_five/872_GC2_bcl6status.csv\n",
      "/Volumes/Kek_2Tt_7T/TMA_analysis/TMA_reduced_quantified_bcl6_five/874_GC1_bcl6status.csv\n",
      "/Volumes/Kek_2Tt_7T/TMA_analysis/TMA_reduced_quantified_bcl6_five/874_GC2_bcl6status.csv\n",
      "/Volumes/Kek_2Tt_7T/TMA_analysis/TMA_reduced_quantified_bcl6_five/876_GC1_bcl6status.csv\n",
      "/Volumes/Kek_2Tt_7T/TMA_analysis/TMA_reduced_quantified_bcl6_five/876_GC2_bcl6status.csv\n",
      "/Volumes/Kek_2Tt_7T/TMA_analysis/TMA_reduced_quantified_bcl6_five/878_GC1_bcl6status.csv\n",
      "/Volumes/Kek_2Tt_7T/TMA_analysis/TMA_reduced_quantified_bcl6_five/878_GC2_bcl6status.csv\n",
      "/Volumes/Kek_2Tt_7T/TMA_analysis/TMA_reduced_quantified_bcl6_five/880_GC1_bcl6status.csv\n",
      "/Volumes/Kek_2Tt_7T/TMA_analysis/TMA_reduced_quantified_bcl6_five/880_GC2_bcl6status.csv\n",
      "/Volumes/Kek_2Tt_7T/TMA_analysis/TMA_reduced_quantified_bcl6_five/901_GC2_bcl6status.csv\n",
      "/Volumes/Kek_2Tt_7T/TMA_analysis/TMA_reduced_quantified_bcl6_five/903_GC1_bcl6status.csv\n",
      "/Volumes/Kek_2Tt_7T/TMA_analysis/TMA_reduced_quantified_bcl6_five/903_GC2_bcl6status.csv\n",
      "/Volumes/Kek_2Tt_7T/TMA_analysis/TMA_reduced_quantified_bcl6_five/905_GC1_bcl6status.csv\n",
      "/Volumes/Kek_2Tt_7T/TMA_analysis/TMA_reduced_quantified_bcl6_five/907_GC1_bcl6status.csv\n",
      "/Volumes/Kek_2Tt_7T/TMA_analysis/TMA_reduced_quantified_bcl6_five/907_GC2_bcl6status.csv\n",
      "/Volumes/Kek_2Tt_7T/TMA_analysis/TMA_reduced_quantified_bcl6_five/909_GC1_bcl6status.csv\n",
      "/Volumes/Kek_2Tt_7T/TMA_analysis/TMA_reduced_quantified_bcl6_five/909_GC2_bcl6status.csv\n",
      "/Volumes/Kek_2Tt_7T/TMA_analysis/TMA_reduced_quantified_bcl6_five/911_GC1_bcl6status.csv\n",
      "/Volumes/Kek_2Tt_7T/TMA_analysis/TMA_reduced_quantified_bcl6_five/911_GC2_bcl6status.csv\n",
      "/Volumes/Kek_2Tt_7T/TMA_analysis/TMA_reduced_quantified_bcl6_five/913_GC1_bcl6status.csv\n",
      "/Volumes/Kek_2Tt_7T/TMA_analysis/TMA_reduced_quantified_bcl6_five/913_GC2_bcl6status.csv\n",
      "/Volumes/Kek_2Tt_7T/TMA_analysis/TMA_reduced_quantified_bcl6_five/917_GC1_bcl6status.csv\n",
      "/Volumes/Kek_2Tt_7T/TMA_analysis/TMA_reduced_quantified_bcl6_five/917_GC2_bcl6status.csv\n",
      "/Volumes/Kek_2Tt_7T/TMA_analysis/TMA_reduced_quantified_bcl6_five/919_GC1_bcl6status.csv\n",
      "/Volumes/Kek_2Tt_7T/TMA_analysis/TMA_reduced_quantified_bcl6_five/919_GC2_bcl6status.csv\n",
      "/Volumes/Kek_2Tt_7T/TMA_analysis/TMA_reduced_quantified_bcl6_five/921_GC1_bcl6status.csv\n",
      "/Volumes/Kek_2Tt_7T/TMA_analysis/TMA_reduced_quantified_bcl6_five/921_GC2_bcl6status.csv\n",
      "/Volumes/Kek_2Tt_7T/TMA_analysis/TMA_reduced_quantified_bcl6_five/923_GC2_bcl6status.csv\n",
      "/Volumes/Kek_2Tt_7T/TMA_analysis/TMA_reduced_quantified_bcl6_five/925_GC1_bcl6status.csv\n",
      "/Volumes/Kek_2Tt_7T/TMA_analysis/TMA_reduced_quantified_bcl6_five/925_GC2_bcl6status.csv\n",
      "/Volumes/Kek_2Tt_7T/TMA_analysis/TMA_reduced_quantified_bcl6_five/927_GC1_bcl6status.csv\n",
      "/Volumes/Kek_2Tt_7T/TMA_analysis/TMA_reduced_quantified_bcl6_five/927_GC2_bcl6status.csv\n",
      "/Volumes/Kek_2Tt_7T/TMA_analysis/TMA_reduced_quantified_bcl6_five/929_GC1_bcl6status.csv\n",
      "/Volumes/Kek_2Tt_7T/TMA_analysis/TMA_reduced_quantified_bcl6_five/930_GC1_bcl6status.csv\n",
      "/Volumes/Kek_2Tt_7T/TMA_analysis/TMA_reduced_quantified_bcl6_five/930_GC2_bcl6status.csv\n",
      "/Volumes/Kek_2Tt_7T/TMA_analysis/TMA_reduced_quantified_bcl6_five/932_GC1_bcl6status.csv\n",
      "/Volumes/Kek_2Tt_7T/TMA_analysis/TMA_reduced_quantified_bcl6_five/932_GC2_bcl6status.csv\n",
      "/Volumes/Kek_2Tt_7T/TMA_analysis/TMA_reduced_quantified_bcl6_five/934_GC1_bcl6status.csv\n",
      "/Volumes/Kek_2Tt_7T/TMA_analysis/TMA_reduced_quantified_bcl6_five/934_GC2_bcl6status.csv\n",
      "/Volumes/Kek_2Tt_7T/TMA_analysis/TMA_reduced_quantified_bcl6_five/936_GC1_bcl6status.csv\n",
      "/Volumes/Kek_2Tt_7T/TMA_analysis/TMA_reduced_quantified_bcl6_five/936_GC2_bcl6status.csv\n",
      "/Volumes/Kek_2Tt_7T/TMA_analysis/TMA_reduced_quantified_bcl6_five/938_GC1_bcl6status.csv\n",
      "/Volumes/Kek_2Tt_7T/TMA_analysis/TMA_reduced_quantified_bcl6_five/939_GC1_bcl6status.csv\n",
      "/Volumes/Kek_2Tt_7T/TMA_analysis/TMA_reduced_quantified_bcl6_five/939_GC2_bcl6status.csv\n",
      "/Volumes/Kek_2Tt_7T/TMA_analysis/TMA_reduced_quantified_bcl6_five/941_GC1_bcl6status.csv\n",
      "/Volumes/Kek_2Tt_7T/TMA_analysis/TMA_reduced_quantified_bcl6_five/941_GC2_bcl6status.csv\n",
      "/Volumes/Kek_2Tt_7T/TMA_analysis/TMA_reduced_quantified_bcl6_five/944_GC1_bcl6status.csv\n",
      "/Volumes/Kek_2Tt_7T/TMA_analysis/TMA_reduced_quantified_bcl6_five/944_GC2_bcl6status.csv\n",
      "/Volumes/Kek_2Tt_7T/TMA_analysis/TMA_reduced_quantified_bcl6_five/946_GC1_bcl6status.csv\n",
      "/Volumes/Kek_2Tt_7T/TMA_analysis/TMA_reduced_quantified_bcl6_five/946_GC2_bcl6status.csv\n",
      "/Volumes/Kek_2Tt_7T/TMA_analysis/TMA_reduced_quantified_bcl6_five/948_GC2_bcl6status.csv\n",
      "/Volumes/Kek_2Tt_7T/TMA_analysis/TMA_reduced_quantified_bcl6_five/950_GC2_bcl6status.csv\n",
      "/Volumes/Kek_2Tt_7T/TMA_analysis/TMA_reduced_quantified_bcl6_five/952_GC1_bcl6status.csv\n",
      "/Volumes/Kek_2Tt_7T/TMA_analysis/TMA_reduced_quantified_bcl6_five/952_GC2_bcl6status.csv\n",
      "/Volumes/Kek_2Tt_7T/TMA_analysis/TMA_reduced_quantified_bcl6_five/954_GC1_bcl6status.csv\n",
      "/Volumes/Kek_2Tt_7T/TMA_analysis/TMA_reduced_quantified_bcl6_five/954_GC2_bcl6status.csv\n",
      "/Volumes/Kek_2Tt_7T/TMA_analysis/TMA_reduced_quantified_bcl6_five/957_GC2_bcl6status.csv\n",
      "/Volumes/Kek_2Tt_7T/TMA_analysis/TMA_reduced_quantified_bcl6_five/959_GC1_bcl6status.csv\n",
      "/Volumes/Kek_2Tt_7T/TMA_analysis/TMA_reduced_quantified_bcl6_five/959_GC2_bcl6status.csv\n",
      "/Volumes/Kek_2Tt_7T/TMA_analysis/TMA_reduced_quantified_bcl6_five/961_GC1_bcl6status.csv\n",
      "/Volumes/Kek_2Tt_7T/TMA_analysis/TMA_reduced_quantified_bcl6_five/964_GC1_bcl6status.csv\n",
      "/Volumes/Kek_2Tt_7T/TMA_analysis/TMA_reduced_quantified_bcl6_five/966_GC1_bcl6status.csv\n",
      "/Volumes/Kek_2Tt_7T/TMA_analysis/TMA_reduced_quantified_bcl6_five/966_GC2_bcl6status.csv\n",
      "/Volumes/Kek_2Tt_7T/TMA_analysis/TMA_reduced_quantified_bcl6_five/968_GC1_bcl6status.csv\n",
      "/Volumes/Kek_2Tt_7T/TMA_analysis/TMA_reduced_quantified_bcl6_five/969_GC1_bcl6status.csv\n",
      "/Volumes/Kek_2Tt_7T/TMA_analysis/TMA_reduced_quantified_bcl6_five/970_GC1_bcl6status.csv\n",
      "/Volumes/Kek_2Tt_7T/TMA_analysis/TMA_reduced_quantified_bcl6_five/970_GC2_bcl6status.csv\n",
      "/Volumes/Kek_2Tt_7T/TMA_analysis/TMA_reduced_quantified_bcl6_five/972_GC1_bcl6status.csv\n",
      "/Volumes/Kek_2Tt_7T/TMA_analysis/TMA_reduced_quantified_bcl6_five/972_GC2_bcl6status.csv\n",
      "/Volumes/Kek_2Tt_7T/TMA_analysis/TMA_reduced_quantified_bcl6_five/974_GC1_bcl6status.csv\n",
      "/Volumes/Kek_2Tt_7T/TMA_analysis/TMA_reduced_quantified_bcl6_five/974_GC2_bcl6status.csv\n",
      "/Volumes/Kek_2Tt_7T/TMA_analysis/TMA_reduced_quantified_bcl6_five/976_GC2_bcl6status.csv\n",
      "/Volumes/Kek_2Tt_7T/TMA_analysis/TMA_reduced_quantified_bcl6_five/601_GC1_bcl6status.csv\n",
      "/Volumes/Kek_2Tt_7T/TMA_analysis/TMA_reduced_quantified_bcl6_five/602_GC1_bcl6status.csv\n",
      "/Volumes/Kek_2Tt_7T/TMA_analysis/TMA_reduced_quantified_bcl6_five/603_GC1_bcl6status.csv\n",
      "/Volumes/Kek_2Tt_7T/TMA_analysis/TMA_reduced_quantified_bcl6_five/603_GC2_bcl6status.csv\n",
      "/Volumes/Kek_2Tt_7T/TMA_analysis/TMA_reduced_quantified_bcl6_five/605_GC1_bcl6status.csv\n",
      "/Volumes/Kek_2Tt_7T/TMA_analysis/TMA_reduced_quantified_bcl6_five/605_GC2_bcl6status.csv\n",
      "/Volumes/Kek_2Tt_7T/TMA_analysis/TMA_reduced_quantified_bcl6_five/607_GC1_bcl6status.csv\n",
      "/Volumes/Kek_2Tt_7T/TMA_analysis/TMA_reduced_quantified_bcl6_five/607_GC2_bcl6status.csv\n",
      "/Volumes/Kek_2Tt_7T/TMA_analysis/TMA_reduced_quantified_bcl6_five/609_GC1_bcl6status.csv\n",
      "/Volumes/Kek_2Tt_7T/TMA_analysis/TMA_reduced_quantified_bcl6_five/609_GC2_bcl6status.csv\n",
      "/Volumes/Kek_2Tt_7T/TMA_analysis/TMA_reduced_quantified_bcl6_five/611_GC1_bcl6status.csv\n",
      "/Volumes/Kek_2Tt_7T/TMA_analysis/TMA_reduced_quantified_bcl6_five/611_GC2_bcl6status.csv\n",
      "/Volumes/Kek_2Tt_7T/TMA_analysis/TMA_reduced_quantified_bcl6_five/613_GC2_bcl6status.csv\n",
      "/Volumes/Kek_2Tt_7T/TMA_analysis/TMA_reduced_quantified_bcl6_five/615_GC1_bcl6status.csv\n",
      "/Volumes/Kek_2Tt_7T/TMA_analysis/TMA_reduced_quantified_bcl6_five/616_GC1_bcl6status.csv\n",
      "/Volumes/Kek_2Tt_7T/TMA_analysis/TMA_reduced_quantified_bcl6_five/617_GC1_bcl6status.csv\n",
      "/Volumes/Kek_2Tt_7T/TMA_analysis/TMA_reduced_quantified_bcl6_five/617_GC2_bcl6status.csv\n",
      "/Volumes/Kek_2Tt_7T/TMA_analysis/TMA_reduced_quantified_bcl6_five/619_GC1_bcl6status.csv\n",
      "/Volumes/Kek_2Tt_7T/TMA_analysis/TMA_reduced_quantified_bcl6_five/619_GC2_bcl6status.csv\n",
      "/Volumes/Kek_2Tt_7T/TMA_analysis/TMA_reduced_quantified_bcl6_five/621_GC1_bcl6status.csv\n",
      "/Volumes/Kek_2Tt_7T/TMA_analysis/TMA_reduced_quantified_bcl6_five/621_GC2_bcl6status.csv\n",
      "/Volumes/Kek_2Tt_7T/TMA_analysis/TMA_reduced_quantified_bcl6_five/623_GC1_bcl6status.csv\n",
      "/Volumes/Kek_2Tt_7T/TMA_analysis/TMA_reduced_quantified_bcl6_five/623_GC2_bcl6status.csv\n",
      "/Volumes/Kek_2Tt_7T/TMA_analysis/TMA_reduced_quantified_bcl6_five/626_GC1_bcl6status.csv\n",
      "/Volumes/Kek_2Tt_7T/TMA_analysis/TMA_reduced_quantified_bcl6_five/626_GC2_bcl6status.csv\n",
      "/Volumes/Kek_2Tt_7T/TMA_analysis/TMA_reduced_quantified_bcl6_five/628_GC1_bcl6status.csv\n",
      "/Volumes/Kek_2Tt_7T/TMA_analysis/TMA_reduced_quantified_bcl6_five/628_GC2_bcl6status.csv\n",
      "/Volumes/Kek_2Tt_7T/TMA_analysis/TMA_reduced_quantified_bcl6_five/630_GC1_bcl6status.csv\n",
      "/Volumes/Kek_2Tt_7T/TMA_analysis/TMA_reduced_quantified_bcl6_five/630_GC2_bcl6status.csv\n",
      "/Volumes/Kek_2Tt_7T/TMA_analysis/TMA_reduced_quantified_bcl6_five/632_GC1_bcl6status.csv\n",
      "/Volumes/Kek_2Tt_7T/TMA_analysis/TMA_reduced_quantified_bcl6_five/632_GC2_bcl6status.csv\n",
      "/Volumes/Kek_2Tt_7T/TMA_analysis/TMA_reduced_quantified_bcl6_five/634_GC1_bcl6status.csv\n",
      "/Volumes/Kek_2Tt_7T/TMA_analysis/TMA_reduced_quantified_bcl6_five/634_GC2_bcl6status.csv\n",
      "/Volumes/Kek_2Tt_7T/TMA_analysis/TMA_reduced_quantified_bcl6_five/636_GC1_bcl6status.csv\n",
      "/Volumes/Kek_2Tt_7T/TMA_analysis/TMA_reduced_quantified_bcl6_five/636_GC2_bcl6status.csv\n",
      "/Volumes/Kek_2Tt_7T/TMA_analysis/TMA_reduced_quantified_bcl6_five/638_GC1_bcl6status.csv\n",
      "/Volumes/Kek_2Tt_7T/TMA_analysis/TMA_reduced_quantified_bcl6_five/638_GC2_bcl6status.csv\n",
      "/Volumes/Kek_2Tt_7T/TMA_analysis/TMA_reduced_quantified_bcl6_five/640_GC1_bcl6status.csv\n",
      "/Volumes/Kek_2Tt_7T/TMA_analysis/TMA_reduced_quantified_bcl6_five/640_GC2_bcl6status.csv\n",
      "/Volumes/Kek_2Tt_7T/TMA_analysis/TMA_reduced_quantified_bcl6_five/642_GC1_bcl6status.csv\n",
      "/Volumes/Kek_2Tt_7T/TMA_analysis/TMA_reduced_quantified_bcl6_five/642_GC2_bcl6status.csv\n",
      "/Volumes/Kek_2Tt_7T/TMA_analysis/TMA_reduced_quantified_bcl6_five/644_GC2_bcl6status.csv\n",
      "/Volumes/Kek_2Tt_7T/TMA_analysis/TMA_reduced_quantified_bcl6_five/701_GC1_bcl6status.csv\n",
      "/Volumes/Kek_2Tt_7T/TMA_analysis/TMA_reduced_quantified_bcl6_five/701_GC2_bcl6status.csv\n",
      "/Volumes/Kek_2Tt_7T/TMA_analysis/TMA_reduced_quantified_bcl6_five/703_GC1_bcl6status.csv\n",
      "/Volumes/Kek_2Tt_7T/TMA_analysis/TMA_reduced_quantified_bcl6_five/704_GC1_bcl6status.csv\n",
      "/Volumes/Kek_2Tt_7T/TMA_analysis/TMA_reduced_quantified_bcl6_five/705_GC1_bcl6status.csv\n",
      "/Volumes/Kek_2Tt_7T/TMA_analysis/TMA_reduced_quantified_bcl6_five/706_GC1_bcl6status.csv\n",
      "/Volumes/Kek_2Tt_7T/TMA_analysis/TMA_reduced_quantified_bcl6_five/707_GC1_bcl6status.csv\n",
      "/Volumes/Kek_2Tt_7T/TMA_analysis/TMA_reduced_quantified_bcl6_five/707_GC2_bcl6status.csv\n",
      "/Volumes/Kek_2Tt_7T/TMA_analysis/TMA_reduced_quantified_bcl6_five/709_GC1_bcl6status.csv\n",
      "/Volumes/Kek_2Tt_7T/TMA_analysis/TMA_reduced_quantified_bcl6_five/709_GC2_bcl6status.csv\n",
      "/Volumes/Kek_2Tt_7T/TMA_analysis/TMA_reduced_quantified_bcl6_five/711_GC1_bcl6status.csv\n",
      "/Volumes/Kek_2Tt_7T/TMA_analysis/TMA_reduced_quantified_bcl6_five/712_GC2_bcl6status.csv\n",
      "/Volumes/Kek_2Tt_7T/TMA_analysis/TMA_reduced_quantified_bcl6_five/714_GC1_bcl6status.csv\n",
      "/Volumes/Kek_2Tt_7T/TMA_analysis/TMA_reduced_quantified_bcl6_five/715_GC1_bcl6status.csv\n",
      "/Volumes/Kek_2Tt_7T/TMA_analysis/TMA_reduced_quantified_bcl6_five/715_GC2_bcl6status.csv\n",
      "/Volumes/Kek_2Tt_7T/TMA_analysis/TMA_reduced_quantified_bcl6_five/717_GC1_bcl6status.csv\n",
      "/Volumes/Kek_2Tt_7T/TMA_analysis/TMA_reduced_quantified_bcl6_five/720_GC1_bcl6status.csv\n"
     ]
    }
   ],
   "source": [
    "# dividing to four categories did not look too good. Lets divide now into 5 categories. Inspect the results later.\n",
    "for txt_file in txt_file_list:\n",
    "    df = pd.read_csv(txt_file, sep=',')\n",
    "    markers = ['DAP1', 'HEV', 'FOXP3', 'ICOS', 'CD27', 'DAPI2',\n",
    "       'CD19', 'BCL6', 'DAPI3', 'CD4', 'CXCR5', 'PD1', 'DAPI4', 'KI67', 'CD3',\n",
    "       'CD8', 'DAPI5', 'AE1_3', 'CD21', 'DAPI6', 'CD20']\n",
    "    # Create a new DataFrame to store the processed results\n",
    "    for marker in markers:\n",
    "        if marker in df.columns:\n",
    "            df[marker] = np.log1p(df[marker])\n",
    "    new_full_df_nmm = df\n",
    "    markers = ['BCL6','CD27']\n",
    "    # Loop through each marker\n",
    "    for marker in markers:\n",
    "        status_col = f'{marker}_status_4'  # Generate a status column name based on the marker. okay so forgot to change this for \"five\"...\n",
    "        new_full_df_nmm[status_col] = np.nan  # Initialize the new column\n",
    "        all_annotated_labels = []  # Create an empty list to hold all the annotated labels\n",
    "        subset_data = new_full_df_nmm\n",
    "        data = subset_data[marker].values.reshape(-1, 1)\n",
    "\n",
    "        # Initialize and fit the GMM with 5 components\n",
    "        gmm = GaussianMixture(n_components=5, random_state=0)\n",
    "        gmm.fit(data)\n",
    "        labels = gmm.predict(data)\n",
    "        \n",
    "        label_df = pd.DataFrame({\"label\": labels, marker: subset_data[marker].values})\n",
    "        medians = label_df.groupby(\"label\")[marker].median().sort_values().index\n",
    "\n",
    "        # Map the labels to the descriptive categories\n",
    "        status_labels = [\"bg\", \"neg\", \"low\", \"med\", \"hi\"]\n",
    "        label_mapping = {medians[i]: status_labels[i] for i in range(len(medians))}\n",
    "        annotated_labels = [label_mapping[label] for label in labels]\n",
    "        all_annotated_labels.extend(annotated_labels)\n",
    "\n",
    "        # Assign the annotated labels back to the corresponding status column in the DataFrame\n",
    "        new_full_df_nmm[status_col] = all_annotated_labels\n",
    "\n",
    "    status_mapping = {\n",
    "        'bg': 0,\n",
    "        'neg': 1,\n",
    "        'low': 2,\n",
    "        'med': 3,\n",
    "        'hi': 4}\n",
    "    \n",
    "    # List of columns ending with '_status'\n",
    "    status_columns = [col for col in new_full_df_nmm.columns if col.endswith('_status_5')]\n",
    "    df = new_full_df_nmm\n",
    "    # Apply the mapping to the relevant columns\n",
    "    for col in status_columns:\n",
    "        new_full_df_nmm[col] = new_full_df_nmm[col].replace(status_mapping)\n",
    "    classification_data = new_full_df_nmm[status_columns]\n",
    "    modified_file_path = txt_file.replace('.csv', '_bcl6status.csv')  # Change '.txt' to '.csv' if necessary\n",
    "    print(modified_file_path)\n",
    "    new_full_df_nmm.to_csv(modified_file_path, sep=',', index=False)\n"
   ]
  },
  {
   "cell_type": "code",
   "execution_count": 12,
   "metadata": {
    "collapsed": true,
    "jupyter": {
     "outputs_hidden": true
    }
   },
   "outputs": [
    {
     "name": "stdout",
     "output_type": "stream",
     "text": [
      "/Volumes/Kek_2Tt_7T/TMA_analysis/TMA_reduced_quantified/327_GC1.csv\n"
     ]
    }
   ],
   "source": [
    "print(txt_file)"
   ]
  },
  {
   "cell_type": "code",
   "execution_count": 36,
   "metadata": {
    "collapsed": true,
    "jupyter": {
     "outputs_hidden": true,
     "source_hidden": true
    }
   },
   "outputs": [],
   "source": [
    "def gather_txt_files_by_folder(main_folder):\n",
    "    txt_files = []\n",
    "    for root, dirs, files in os.walk(main_folder):\n",
    "        for file in files:\n",
    "            if file.endswith('.txt'):\n",
    "                txt_files.append(os.path.join(root, file))\n",
    "    return txt_files\n",
    "\n",
    "# Specify the main folder to search in\n",
    "main_folder_path = \"/Volumes/Kek_2Tt_7T/TMA_analysis/TMA_thy_stacksandmasks/\"  # Replace with your folder path\n",
    "txt_file_list = gather_txt_files_by_folder(main_folder_path)"
   ]
  },
  {
   "cell_type": "code",
   "execution_count": 37,
   "metadata": {
    "collapsed": true,
    "jupyter": {
     "outputs_hidden": true,
     "source_hidden": true
    }
   },
   "outputs": [
    {
     "name": "stdout",
     "output_type": "stream",
     "text": [
      "/Volumes/Kek_2Tt_7T/TMA_analysis/TMA_thy_stacksandmasks/115_GC1/quantification/115_GC1.txt\n",
      "/Volumes/Kek_2Tt_7T/TMA_analysis/TMA_thy_stacksandmasks/105_GC1/quantification/105_GC1.txt\n",
      "/Volumes/Kek_2Tt_7T/TMA_analysis/TMA_thy_stacksandmasks/105_GC2/quantification/105_GC2.txt\n",
      "/Volumes/Kek_2Tt_7T/TMA_analysis/TMA_thy_stacksandmasks/107_GC1/quantification/107_GC1.txt\n",
      "/Volumes/Kek_2Tt_7T/TMA_analysis/TMA_thy_stacksandmasks/107_GC2/quantification/107_GC2.txt\n",
      "/Volumes/Kek_2Tt_7T/TMA_analysis/TMA_thy_stacksandmasks/109_GC2/quantification/109_GC2.txt\n",
      "/Volumes/Kek_2Tt_7T/TMA_analysis/TMA_thy_stacksandmasks/111_GC1/quantification/111_GC1.txt\n",
      "/Volumes/Kek_2Tt_7T/TMA_analysis/TMA_thy_stacksandmasks/125_GC2/quantification/125_GC2.txt\n",
      "/Volumes/Kek_2Tt_7T/TMA_analysis/TMA_thy_stacksandmasks/117_GC1/quantification/117_GC1.txt\n",
      "/Volumes/Kek_2Tt_7T/TMA_analysis/TMA_thy_stacksandmasks/117_GC2/quantification/117_GC2.txt\n",
      "/Volumes/Kek_2Tt_7T/TMA_analysis/TMA_thy_stacksandmasks/119_GC2/quantification/119_GC2.txt\n",
      "/Volumes/Kek_2Tt_7T/TMA_analysis/TMA_thy_stacksandmasks/125_GC1/quantification/125_GC1.txt\n",
      "/Volumes/Kek_2Tt_7T/TMA_analysis/TMA_thy_stacksandmasks/137_GC1/quantification/137_GC1.txt\n",
      "/Volumes/Kek_2Tt_7T/TMA_analysis/TMA_thy_stacksandmasks/129_GC1/quantification/129_GC1.txt\n",
      "/Volumes/Kek_2Tt_7T/TMA_analysis/TMA_thy_stacksandmasks/129_GC2/quantification/129_GC2.txt\n",
      "/Volumes/Kek_2Tt_7T/TMA_analysis/TMA_thy_stacksandmasks/131_GC1/quantification/131_GC1.txt\n",
      "/Volumes/Kek_2Tt_7T/TMA_analysis/TMA_thy_stacksandmasks/131_GC2/quantification/131_GC2.txt\n",
      "/Volumes/Kek_2Tt_7T/TMA_analysis/TMA_thy_stacksandmasks/127_GC1/quantification/127_GC1.txt\n",
      "/Volumes/Kek_2Tt_7T/TMA_analysis/TMA_thy_stacksandmasks/127_GC2/quantification/127_GC2.txt\n",
      "/Volumes/Kek_2Tt_7T/TMA_analysis/TMA_thy_stacksandmasks/137_GC2/quantification/137_GC2.txt\n",
      "/Volumes/Kek_2Tt_7T/TMA_analysis/TMA_thy_stacksandmasks/141_GC1/quantification/141_GC1.txt\n",
      "/Volumes/Kek_2Tt_7T/TMA_analysis/TMA_thy_stacksandmasks/141_GC2/quantification/141_GC2.txt\n",
      "/Volumes/Kek_2Tt_7T/TMA_analysis/TMA_thy_stacksandmasks/133_GC1/quantification/133_GC1.txt\n",
      "/Volumes/Kek_2Tt_7T/TMA_analysis/TMA_thy_stacksandmasks/134_GC1/quantification/134_GC1.txt\n",
      "/Volumes/Kek_2Tt_7T/TMA_analysis/TMA_thy_stacksandmasks/135_GC1/quantification/135_GC1.txt\n",
      "/Volumes/Kek_2Tt_7T/TMA_analysis/TMA_thy_stacksandmasks/151_GC2/quantification/151_GC2.txt\n",
      "/Volumes/Kek_2Tt_7T/TMA_analysis/TMA_thy_stacksandmasks/157_GC1/quantification/157_GC1.txt\n",
      "/Volumes/Kek_2Tt_7T/TMA_analysis/TMA_thy_stacksandmasks/143_GC1/quantification/143_GC1.txt\n",
      "/Volumes/Kek_2Tt_7T/TMA_analysis/TMA_thy_stacksandmasks/143_GC2/quantification/143_GC2.txt\n",
      "/Volumes/Kek_2Tt_7T/TMA_analysis/TMA_thy_stacksandmasks/164_GC2/quantification/164_GC2.txt\n",
      "/Volumes/Kek_2Tt_7T/TMA_analysis/TMA_thy_stacksandmasks/160_GC2/quantification/160_GC2.txt\n",
      "/Volumes/Kek_2Tt_7T/TMA_analysis/TMA_thy_stacksandmasks/172_GC1/quantification/172_GC1.txt\n",
      "/Volumes/Kek_2Tt_7T/TMA_analysis/TMA_thy_stacksandmasks/172_GC2/quantification/172_GC2.txt\n",
      "/Volumes/Kek_2Tt_7T/TMA_analysis/TMA_thy_stacksandmasks/166_GC1/quantification/166_GC1.txt\n",
      "/Volumes/Kek_2Tt_7T/TMA_analysis/TMA_thy_stacksandmasks/166_GC2/quantification/166_GC2.txt\n",
      "/Volumes/Kek_2Tt_7T/TMA_analysis/TMA_thy_stacksandmasks/207_GC2/quantification/207_GC2.txt\n",
      "/Volumes/Kek_2Tt_7T/TMA_analysis/TMA_thy_stacksandmasks/209_GC1/quantification/209_GC1.txt\n",
      "/Volumes/Kek_2Tt_7T/TMA_analysis/TMA_thy_stacksandmasks/211_GC1/quantification/211_GC1.txt\n",
      "/Volumes/Kek_2Tt_7T/TMA_analysis/TMA_thy_stacksandmasks/211_GC2/quantification/211_GC2.txt\n",
      "/Volumes/Kek_2Tt_7T/TMA_analysis/TMA_thy_stacksandmasks/209_GC2/quantification/209_GC2.txt\n",
      "/Volumes/Kek_2Tt_7T/TMA_analysis/TMA_thy_stacksandmasks/220_GC1/quantification/220_GC1.txt\n",
      "/Volumes/Kek_2Tt_7T/TMA_analysis/TMA_thy_stacksandmasks/220_GC2/quantification/220_GC2.txt\n",
      "/Volumes/Kek_2Tt_7T/TMA_analysis/TMA_thy_stacksandmasks/214_GC2/quantification/214_GC2.txt\n",
      "/Volumes/Kek_2Tt_7T/TMA_analysis/TMA_thy_stacksandmasks/218_GC1/quantification/218_GC1.txt\n",
      "/Volumes/Kek_2Tt_7T/TMA_analysis/TMA_thy_stacksandmasks/218_GC2/quantification/218_GC2.txt\n",
      "/Volumes/Kek_2Tt_7T/TMA_analysis/TMA_thy_stacksandmasks/229_GC1/quantification/229_GC1.txt\n",
      "/Volumes/Kek_2Tt_7T/TMA_analysis/TMA_thy_stacksandmasks/229_GC2/quantification/229_GC2.txt\n",
      "/Volumes/Kek_2Tt_7T/TMA_analysis/TMA_thy_stacksandmasks/231_GC1/quantification/231_GC1.txt\n",
      "/Volumes/Kek_2Tt_7T/TMA_analysis/TMA_thy_stacksandmasks/231_GC2/quantification/231_GC2.txt\n",
      "/Volumes/Kek_2Tt_7T/TMA_analysis/TMA_thy_stacksandmasks/222_GC1/quantification/222_GC1.txt\n",
      "/Volumes/Kek_2Tt_7T/TMA_analysis/TMA_thy_stacksandmasks/236_GC1/quantification/236_GC1.txt\n",
      "/Volumes/Kek_2Tt_7T/TMA_analysis/TMA_thy_stacksandmasks/236_GC2/quantification/236_GC2.txt\n",
      "/Volumes/Kek_2Tt_7T/TMA_analysis/TMA_thy_stacksandmasks/238_GC1/quantification/238_GC1.txt\n",
      "/Volumes/Kek_2Tt_7T/TMA_analysis/TMA_thy_stacksandmasks/238_GC2/quantification/238_GC2.txt\n",
      "/Volumes/Kek_2Tt_7T/TMA_analysis/TMA_thy_stacksandmasks/240_GC1/quantification/240_GC1.txt\n",
      "/Volumes/Kek_2Tt_7T/TMA_analysis/TMA_thy_stacksandmasks/240_GC2/quantification/240_GC2.txt\n",
      "/Volumes/Kek_2Tt_7T/TMA_analysis/TMA_thy_stacksandmasks/233_GC1/quantification/233_GC1.txt\n",
      "/Volumes/Kek_2Tt_7T/TMA_analysis/TMA_thy_stacksandmasks/234_GC1/quantification/234_GC1.txt\n",
      "/Volumes/Kek_2Tt_7T/TMA_analysis/TMA_thy_stacksandmasks/234_GC2/quantification/234_GC2.txt\n",
      "/Volumes/Kek_2Tt_7T/TMA_analysis/TMA_thy_stacksandmasks/250_GC1/quantification/250_GC1.txt\n",
      "/Volumes/Kek_2Tt_7T/TMA_analysis/TMA_thy_stacksandmasks/250_GC2/quantification/250_GC2.txt\n",
      "/Volumes/Kek_2Tt_7T/TMA_analysis/TMA_thy_stacksandmasks/242_GC1/quantification/242_GC1.txt\n",
      "/Volumes/Kek_2Tt_7T/TMA_analysis/TMA_thy_stacksandmasks/244_GC1/quantification/244_GC1.txt\n",
      "/Volumes/Kek_2Tt_7T/TMA_analysis/TMA_thy_stacksandmasks/244_GC2/quantification/244_GC2.txt\n",
      "/Volumes/Kek_2Tt_7T/TMA_analysis/TMA_thy_stacksandmasks/246_GC1/quantification/246_GC1.txt\n",
      "/Volumes/Kek_2Tt_7T/TMA_analysis/TMA_thy_stacksandmasks/246_GC2/quantification/246_GC2.txt\n",
      "/Volumes/Kek_2Tt_7T/TMA_analysis/TMA_thy_stacksandmasks/248_GC1/quantification/248_GC1.txt\n",
      "/Volumes/Kek_2Tt_7T/TMA_analysis/TMA_thy_stacksandmasks/248_GC2/quantification/248_GC2.txt\n",
      "/Volumes/Kek_2Tt_7T/TMA_analysis/TMA_thy_stacksandmasks/262_GC1/quantification/262_GC1.txt\n",
      "/Volumes/Kek_2Tt_7T/TMA_analysis/TMA_thy_stacksandmasks/262_GC2/quantification/262_GC2.txt\n",
      "/Volumes/Kek_2Tt_7T/TMA_analysis/TMA_thy_stacksandmasks/252_GC2/quantification/252_GC2.txt\n",
      "/Volumes/Kek_2Tt_7T/TMA_analysis/TMA_thy_stacksandmasks/254_GC1/quantification/254_GC1.txt\n",
      "/Volumes/Kek_2Tt_7T/TMA_analysis/TMA_thy_stacksandmasks/254_GC2/quantification/254_GC2.txt\n",
      "/Volumes/Kek_2Tt_7T/TMA_analysis/TMA_thy_stacksandmasks/256_GC1/quantification/256_GC1.txt\n",
      "/Volumes/Kek_2Tt_7T/TMA_analysis/TMA_thy_stacksandmasks/256_GC2/quantification/256_GC2.txt\n",
      "/Volumes/Kek_2Tt_7T/TMA_analysis/TMA_thy_stacksandmasks/258_GC1/quantification/258_GC1.txt\n",
      "/Volumes/Kek_2Tt_7T/TMA_analysis/TMA_thy_stacksandmasks/264_GC2/quantification/264_GC2.txt\n",
      "/Volumes/Kek_2Tt_7T/TMA_analysis/TMA_thy_stacksandmasks/268_GC2/quantification/268_GC2.txt\n",
      "/Volumes/Kek_2Tt_7T/TMA_analysis/TMA_thy_stacksandmasks/270_GC1/quantification/270_GC1.txt\n",
      "/Volumes/Kek_2Tt_7T/TMA_analysis/TMA_thy_stacksandmasks/303_GC2/quantification/303_GC2.txt\n",
      "/Volumes/Kek_2Tt_7T/TMA_analysis/TMA_thy_stacksandmasks/101_GC2/quantification/101_GC2.txt\n",
      "/Volumes/Kek_2Tt_7T/TMA_analysis/TMA_thy_stacksandmasks/323_GC1/quantification/323_GC1.txt\n",
      "/Volumes/Kek_2Tt_7T/TMA_analysis/TMA_thy_stacksandmasks/307_GC2/quantification/307_GC2.txt\n",
      "/Volumes/Kek_2Tt_7T/TMA_analysis/TMA_thy_stacksandmasks/311_GC1/quantification/311_GC1.txt\n",
      "/Volumes/Kek_2Tt_7T/TMA_analysis/TMA_thy_stacksandmasks/311_GC2/quantification/311_GC2.txt\n",
      "/Volumes/Kek_2Tt_7T/TMA_analysis/TMA_thy_stacksandmasks/321_GC1/quantification/321_GC1.txt\n",
      "/Volumes/Kek_2Tt_7T/TMA_analysis/TMA_thy_stacksandmasks/101_GC1/quantification/101_GC1.txt\n",
      "/Volumes/Kek_2Tt_7T/TMA_analysis/TMA_thy_stacksandmasks/323_GC2/quantification/323_GC2.txt\n",
      "/Volumes/Kek_2Tt_7T/TMA_analysis/TMA_thy_stacksandmasks/327_GC1/quantification/327_GC1.txt\n",
      "/Volumes/Kek_2Tt_7T/TMA_analysis/TMA_thy_stacksandmasks/303_GC1/quantification/303_GC1.txt\n",
      "/Volumes/Kek_2Tt_7T/TMA_analysis/TMA_thy_stacksandmasks/305_GC1/quantification/305_GC1.txt\n",
      "/Volumes/Kek_2Tt_7T/TMA_analysis/TMA_thy_stacksandmasks/306_GC1/quantification/306_GC1.txt\n",
      "/Volumes/Kek_2Tt_7T/TMA_analysis/TMA_thy_stacksandmasks/315_GC1/quantification/315_GC1.txt\n",
      "/Volumes/Kek_2Tt_7T/TMA_analysis/TMA_thy_stacksandmasks/315_GC2/quantification/315_GC2.txt\n",
      "Number of different .csv files: 94\n"
     ]
    }
   ],
   "source": [
    "for txt_file in txt_file_list:\n",
    "    print(txt_file)\n",
    "\n",
    "# Printing the count of different txt files\n",
    "print(f\"Number of different .csv files: {len(txt_file_list)}\")"
   ]
  },
  {
   "cell_type": "code",
   "execution_count": 38,
   "metadata": {
    "collapsed": true,
    "jupyter": {
     "outputs_hidden": true,
     "source_hidden": true
    }
   },
   "outputs": [
    {
     "name": "stderr",
     "output_type": "stream",
     "text": [
      "/var/folders/02/vkyq99757hsfjng_p8wh1wkc0bfbtx/T/ipykernel_96970/1421698353.py:48: FutureWarning:\n",
      "\n",
      "Downcasting behavior in `replace` is deprecated and will be removed in a future version. To retain the old behavior, explicitly call `result.infer_objects(copy=False)`. To opt-in to the future behavior, set `pd.set_option('future.no_silent_downcasting', True)`\n",
      "\n"
     ]
    },
    {
     "name": "stdout",
     "output_type": "stream",
     "text": [
      "/Volumes/Kek_2Tt_7T/TMA_analysis/TMA_thy_stacksandmasks/115_GC1/quantification/115_GC1_bcl6status.csv\n"
     ]
    },
    {
     "name": "stderr",
     "output_type": "stream",
     "text": [
      "/var/folders/02/vkyq99757hsfjng_p8wh1wkc0bfbtx/T/ipykernel_96970/1421698353.py:48: FutureWarning:\n",
      "\n",
      "Downcasting behavior in `replace` is deprecated and will be removed in a future version. To retain the old behavior, explicitly call `result.infer_objects(copy=False)`. To opt-in to the future behavior, set `pd.set_option('future.no_silent_downcasting', True)`\n",
      "\n"
     ]
    },
    {
     "name": "stdout",
     "output_type": "stream",
     "text": [
      "/Volumes/Kek_2Tt_7T/TMA_analysis/TMA_thy_stacksandmasks/105_GC1/quantification/105_GC1_bcl6status.csv\n"
     ]
    },
    {
     "name": "stderr",
     "output_type": "stream",
     "text": [
      "/var/folders/02/vkyq99757hsfjng_p8wh1wkc0bfbtx/T/ipykernel_96970/1421698353.py:48: FutureWarning:\n",
      "\n",
      "Downcasting behavior in `replace` is deprecated and will be removed in a future version. To retain the old behavior, explicitly call `result.infer_objects(copy=False)`. To opt-in to the future behavior, set `pd.set_option('future.no_silent_downcasting', True)`\n",
      "\n"
     ]
    },
    {
     "name": "stdout",
     "output_type": "stream",
     "text": [
      "/Volumes/Kek_2Tt_7T/TMA_analysis/TMA_thy_stacksandmasks/105_GC2/quantification/105_GC2_bcl6status.csv\n"
     ]
    },
    {
     "name": "stderr",
     "output_type": "stream",
     "text": [
      "/var/folders/02/vkyq99757hsfjng_p8wh1wkc0bfbtx/T/ipykernel_96970/1421698353.py:48: FutureWarning:\n",
      "\n",
      "Downcasting behavior in `replace` is deprecated and will be removed in a future version. To retain the old behavior, explicitly call `result.infer_objects(copy=False)`. To opt-in to the future behavior, set `pd.set_option('future.no_silent_downcasting', True)`\n",
      "\n"
     ]
    },
    {
     "name": "stdout",
     "output_type": "stream",
     "text": [
      "/Volumes/Kek_2Tt_7T/TMA_analysis/TMA_thy_stacksandmasks/107_GC1/quantification/107_GC1_bcl6status.csv\n"
     ]
    },
    {
     "name": "stderr",
     "output_type": "stream",
     "text": [
      "/var/folders/02/vkyq99757hsfjng_p8wh1wkc0bfbtx/T/ipykernel_96970/1421698353.py:48: FutureWarning:\n",
      "\n",
      "Downcasting behavior in `replace` is deprecated and will be removed in a future version. To retain the old behavior, explicitly call `result.infer_objects(copy=False)`. To opt-in to the future behavior, set `pd.set_option('future.no_silent_downcasting', True)`\n",
      "\n"
     ]
    },
    {
     "name": "stdout",
     "output_type": "stream",
     "text": [
      "/Volumes/Kek_2Tt_7T/TMA_analysis/TMA_thy_stacksandmasks/107_GC2/quantification/107_GC2_bcl6status.csv\n"
     ]
    },
    {
     "name": "stderr",
     "output_type": "stream",
     "text": [
      "/var/folders/02/vkyq99757hsfjng_p8wh1wkc0bfbtx/T/ipykernel_96970/1421698353.py:48: FutureWarning:\n",
      "\n",
      "Downcasting behavior in `replace` is deprecated and will be removed in a future version. To retain the old behavior, explicitly call `result.infer_objects(copy=False)`. To opt-in to the future behavior, set `pd.set_option('future.no_silent_downcasting', True)`\n",
      "\n"
     ]
    },
    {
     "name": "stdout",
     "output_type": "stream",
     "text": [
      "/Volumes/Kek_2Tt_7T/TMA_analysis/TMA_thy_stacksandmasks/109_GC2/quantification/109_GC2_bcl6status.csv\n"
     ]
    },
    {
     "name": "stderr",
     "output_type": "stream",
     "text": [
      "/var/folders/02/vkyq99757hsfjng_p8wh1wkc0bfbtx/T/ipykernel_96970/1421698353.py:48: FutureWarning:\n",
      "\n",
      "Downcasting behavior in `replace` is deprecated and will be removed in a future version. To retain the old behavior, explicitly call `result.infer_objects(copy=False)`. To opt-in to the future behavior, set `pd.set_option('future.no_silent_downcasting', True)`\n",
      "\n"
     ]
    },
    {
     "name": "stdout",
     "output_type": "stream",
     "text": [
      "/Volumes/Kek_2Tt_7T/TMA_analysis/TMA_thy_stacksandmasks/111_GC1/quantification/111_GC1_bcl6status.csv\n"
     ]
    },
    {
     "name": "stderr",
     "output_type": "stream",
     "text": [
      "/var/folders/02/vkyq99757hsfjng_p8wh1wkc0bfbtx/T/ipykernel_96970/1421698353.py:48: FutureWarning:\n",
      "\n",
      "Downcasting behavior in `replace` is deprecated and will be removed in a future version. To retain the old behavior, explicitly call `result.infer_objects(copy=False)`. To opt-in to the future behavior, set `pd.set_option('future.no_silent_downcasting', True)`\n",
      "\n"
     ]
    },
    {
     "name": "stdout",
     "output_type": "stream",
     "text": [
      "/Volumes/Kek_2Tt_7T/TMA_analysis/TMA_thy_stacksandmasks/125_GC2/quantification/125_GC2_bcl6status.csv\n"
     ]
    },
    {
     "name": "stderr",
     "output_type": "stream",
     "text": [
      "/var/folders/02/vkyq99757hsfjng_p8wh1wkc0bfbtx/T/ipykernel_96970/1421698353.py:48: FutureWarning:\n",
      "\n",
      "Downcasting behavior in `replace` is deprecated and will be removed in a future version. To retain the old behavior, explicitly call `result.infer_objects(copy=False)`. To opt-in to the future behavior, set `pd.set_option('future.no_silent_downcasting', True)`\n",
      "\n"
     ]
    },
    {
     "name": "stdout",
     "output_type": "stream",
     "text": [
      "/Volumes/Kek_2Tt_7T/TMA_analysis/TMA_thy_stacksandmasks/117_GC1/quantification/117_GC1_bcl6status.csv\n"
     ]
    },
    {
     "name": "stderr",
     "output_type": "stream",
     "text": [
      "/var/folders/02/vkyq99757hsfjng_p8wh1wkc0bfbtx/T/ipykernel_96970/1421698353.py:48: FutureWarning:\n",
      "\n",
      "Downcasting behavior in `replace` is deprecated and will be removed in a future version. To retain the old behavior, explicitly call `result.infer_objects(copy=False)`. To opt-in to the future behavior, set `pd.set_option('future.no_silent_downcasting', True)`\n",
      "\n"
     ]
    },
    {
     "name": "stdout",
     "output_type": "stream",
     "text": [
      "/Volumes/Kek_2Tt_7T/TMA_analysis/TMA_thy_stacksandmasks/117_GC2/quantification/117_GC2_bcl6status.csv\n"
     ]
    },
    {
     "name": "stderr",
     "output_type": "stream",
     "text": [
      "/var/folders/02/vkyq99757hsfjng_p8wh1wkc0bfbtx/T/ipykernel_96970/1421698353.py:48: FutureWarning:\n",
      "\n",
      "Downcasting behavior in `replace` is deprecated and will be removed in a future version. To retain the old behavior, explicitly call `result.infer_objects(copy=False)`. To opt-in to the future behavior, set `pd.set_option('future.no_silent_downcasting', True)`\n",
      "\n"
     ]
    },
    {
     "name": "stdout",
     "output_type": "stream",
     "text": [
      "/Volumes/Kek_2Tt_7T/TMA_analysis/TMA_thy_stacksandmasks/119_GC2/quantification/119_GC2_bcl6status.csv\n"
     ]
    },
    {
     "name": "stderr",
     "output_type": "stream",
     "text": [
      "/var/folders/02/vkyq99757hsfjng_p8wh1wkc0bfbtx/T/ipykernel_96970/1421698353.py:48: FutureWarning:\n",
      "\n",
      "Downcasting behavior in `replace` is deprecated and will be removed in a future version. To retain the old behavior, explicitly call `result.infer_objects(copy=False)`. To opt-in to the future behavior, set `pd.set_option('future.no_silent_downcasting', True)`\n",
      "\n"
     ]
    },
    {
     "name": "stdout",
     "output_type": "stream",
     "text": [
      "/Volumes/Kek_2Tt_7T/TMA_analysis/TMA_thy_stacksandmasks/125_GC1/quantification/125_GC1_bcl6status.csv\n"
     ]
    },
    {
     "name": "stderr",
     "output_type": "stream",
     "text": [
      "/var/folders/02/vkyq99757hsfjng_p8wh1wkc0bfbtx/T/ipykernel_96970/1421698353.py:48: FutureWarning:\n",
      "\n",
      "Downcasting behavior in `replace` is deprecated and will be removed in a future version. To retain the old behavior, explicitly call `result.infer_objects(copy=False)`. To opt-in to the future behavior, set `pd.set_option('future.no_silent_downcasting', True)`\n",
      "\n"
     ]
    },
    {
     "name": "stdout",
     "output_type": "stream",
     "text": [
      "/Volumes/Kek_2Tt_7T/TMA_analysis/TMA_thy_stacksandmasks/137_GC1/quantification/137_GC1_bcl6status.csv\n"
     ]
    },
    {
     "name": "stderr",
     "output_type": "stream",
     "text": [
      "/var/folders/02/vkyq99757hsfjng_p8wh1wkc0bfbtx/T/ipykernel_96970/1421698353.py:48: FutureWarning:\n",
      "\n",
      "Downcasting behavior in `replace` is deprecated and will be removed in a future version. To retain the old behavior, explicitly call `result.infer_objects(copy=False)`. To opt-in to the future behavior, set `pd.set_option('future.no_silent_downcasting', True)`\n",
      "\n"
     ]
    },
    {
     "name": "stdout",
     "output_type": "stream",
     "text": [
      "/Volumes/Kek_2Tt_7T/TMA_analysis/TMA_thy_stacksandmasks/129_GC1/quantification/129_GC1_bcl6status.csv\n"
     ]
    },
    {
     "name": "stderr",
     "output_type": "stream",
     "text": [
      "/var/folders/02/vkyq99757hsfjng_p8wh1wkc0bfbtx/T/ipykernel_96970/1421698353.py:48: FutureWarning:\n",
      "\n",
      "Downcasting behavior in `replace` is deprecated and will be removed in a future version. To retain the old behavior, explicitly call `result.infer_objects(copy=False)`. To opt-in to the future behavior, set `pd.set_option('future.no_silent_downcasting', True)`\n",
      "\n"
     ]
    },
    {
     "name": "stdout",
     "output_type": "stream",
     "text": [
      "/Volumes/Kek_2Tt_7T/TMA_analysis/TMA_thy_stacksandmasks/129_GC2/quantification/129_GC2_bcl6status.csv\n"
     ]
    },
    {
     "name": "stderr",
     "output_type": "stream",
     "text": [
      "/var/folders/02/vkyq99757hsfjng_p8wh1wkc0bfbtx/T/ipykernel_96970/1421698353.py:48: FutureWarning:\n",
      "\n",
      "Downcasting behavior in `replace` is deprecated and will be removed in a future version. To retain the old behavior, explicitly call `result.infer_objects(copy=False)`. To opt-in to the future behavior, set `pd.set_option('future.no_silent_downcasting', True)`\n",
      "\n"
     ]
    },
    {
     "name": "stdout",
     "output_type": "stream",
     "text": [
      "/Volumes/Kek_2Tt_7T/TMA_analysis/TMA_thy_stacksandmasks/131_GC1/quantification/131_GC1_bcl6status.csv\n"
     ]
    },
    {
     "name": "stderr",
     "output_type": "stream",
     "text": [
      "/var/folders/02/vkyq99757hsfjng_p8wh1wkc0bfbtx/T/ipykernel_96970/1421698353.py:48: FutureWarning:\n",
      "\n",
      "Downcasting behavior in `replace` is deprecated and will be removed in a future version. To retain the old behavior, explicitly call `result.infer_objects(copy=False)`. To opt-in to the future behavior, set `pd.set_option('future.no_silent_downcasting', True)`\n",
      "\n"
     ]
    },
    {
     "name": "stdout",
     "output_type": "stream",
     "text": [
      "/Volumes/Kek_2Tt_7T/TMA_analysis/TMA_thy_stacksandmasks/131_GC2/quantification/131_GC2_bcl6status.csv\n"
     ]
    },
    {
     "name": "stderr",
     "output_type": "stream",
     "text": [
      "/var/folders/02/vkyq99757hsfjng_p8wh1wkc0bfbtx/T/ipykernel_96970/1421698353.py:48: FutureWarning:\n",
      "\n",
      "Downcasting behavior in `replace` is deprecated and will be removed in a future version. To retain the old behavior, explicitly call `result.infer_objects(copy=False)`. To opt-in to the future behavior, set `pd.set_option('future.no_silent_downcasting', True)`\n",
      "\n"
     ]
    },
    {
     "name": "stdout",
     "output_type": "stream",
     "text": [
      "/Volumes/Kek_2Tt_7T/TMA_analysis/TMA_thy_stacksandmasks/127_GC1/quantification/127_GC1_bcl6status.csv\n"
     ]
    },
    {
     "name": "stderr",
     "output_type": "stream",
     "text": [
      "/var/folders/02/vkyq99757hsfjng_p8wh1wkc0bfbtx/T/ipykernel_96970/1421698353.py:48: FutureWarning:\n",
      "\n",
      "Downcasting behavior in `replace` is deprecated and will be removed in a future version. To retain the old behavior, explicitly call `result.infer_objects(copy=False)`. To opt-in to the future behavior, set `pd.set_option('future.no_silent_downcasting', True)`\n",
      "\n"
     ]
    },
    {
     "name": "stdout",
     "output_type": "stream",
     "text": [
      "/Volumes/Kek_2Tt_7T/TMA_analysis/TMA_thy_stacksandmasks/127_GC2/quantification/127_GC2_bcl6status.csv\n"
     ]
    },
    {
     "name": "stderr",
     "output_type": "stream",
     "text": [
      "/var/folders/02/vkyq99757hsfjng_p8wh1wkc0bfbtx/T/ipykernel_96970/1421698353.py:48: FutureWarning:\n",
      "\n",
      "Downcasting behavior in `replace` is deprecated and will be removed in a future version. To retain the old behavior, explicitly call `result.infer_objects(copy=False)`. To opt-in to the future behavior, set `pd.set_option('future.no_silent_downcasting', True)`\n",
      "\n"
     ]
    },
    {
     "name": "stdout",
     "output_type": "stream",
     "text": [
      "/Volumes/Kek_2Tt_7T/TMA_analysis/TMA_thy_stacksandmasks/137_GC2/quantification/137_GC2_bcl6status.csv\n"
     ]
    },
    {
     "name": "stderr",
     "output_type": "stream",
     "text": [
      "/var/folders/02/vkyq99757hsfjng_p8wh1wkc0bfbtx/T/ipykernel_96970/1421698353.py:48: FutureWarning:\n",
      "\n",
      "Downcasting behavior in `replace` is deprecated and will be removed in a future version. To retain the old behavior, explicitly call `result.infer_objects(copy=False)`. To opt-in to the future behavior, set `pd.set_option('future.no_silent_downcasting', True)`\n",
      "\n"
     ]
    },
    {
     "name": "stdout",
     "output_type": "stream",
     "text": [
      "/Volumes/Kek_2Tt_7T/TMA_analysis/TMA_thy_stacksandmasks/141_GC1/quantification/141_GC1_bcl6status.csv\n"
     ]
    },
    {
     "name": "stderr",
     "output_type": "stream",
     "text": [
      "/var/folders/02/vkyq99757hsfjng_p8wh1wkc0bfbtx/T/ipykernel_96970/1421698353.py:48: FutureWarning:\n",
      "\n",
      "Downcasting behavior in `replace` is deprecated and will be removed in a future version. To retain the old behavior, explicitly call `result.infer_objects(copy=False)`. To opt-in to the future behavior, set `pd.set_option('future.no_silent_downcasting', True)`\n",
      "\n"
     ]
    },
    {
     "name": "stdout",
     "output_type": "stream",
     "text": [
      "/Volumes/Kek_2Tt_7T/TMA_analysis/TMA_thy_stacksandmasks/141_GC2/quantification/141_GC2_bcl6status.csv\n"
     ]
    },
    {
     "name": "stderr",
     "output_type": "stream",
     "text": [
      "/var/folders/02/vkyq99757hsfjng_p8wh1wkc0bfbtx/T/ipykernel_96970/1421698353.py:48: FutureWarning:\n",
      "\n",
      "Downcasting behavior in `replace` is deprecated and will be removed in a future version. To retain the old behavior, explicitly call `result.infer_objects(copy=False)`. To opt-in to the future behavior, set `pd.set_option('future.no_silent_downcasting', True)`\n",
      "\n"
     ]
    },
    {
     "name": "stdout",
     "output_type": "stream",
     "text": [
      "/Volumes/Kek_2Tt_7T/TMA_analysis/TMA_thy_stacksandmasks/133_GC1/quantification/133_GC1_bcl6status.csv\n"
     ]
    },
    {
     "name": "stderr",
     "output_type": "stream",
     "text": [
      "/var/folders/02/vkyq99757hsfjng_p8wh1wkc0bfbtx/T/ipykernel_96970/1421698353.py:48: FutureWarning:\n",
      "\n",
      "Downcasting behavior in `replace` is deprecated and will be removed in a future version. To retain the old behavior, explicitly call `result.infer_objects(copy=False)`. To opt-in to the future behavior, set `pd.set_option('future.no_silent_downcasting', True)`\n",
      "\n"
     ]
    },
    {
     "name": "stdout",
     "output_type": "stream",
     "text": [
      "/Volumes/Kek_2Tt_7T/TMA_analysis/TMA_thy_stacksandmasks/134_GC1/quantification/134_GC1_bcl6status.csv\n"
     ]
    },
    {
     "name": "stderr",
     "output_type": "stream",
     "text": [
      "/var/folders/02/vkyq99757hsfjng_p8wh1wkc0bfbtx/T/ipykernel_96970/1421698353.py:48: FutureWarning:\n",
      "\n",
      "Downcasting behavior in `replace` is deprecated and will be removed in a future version. To retain the old behavior, explicitly call `result.infer_objects(copy=False)`. To opt-in to the future behavior, set `pd.set_option('future.no_silent_downcasting', True)`\n",
      "\n"
     ]
    },
    {
     "name": "stdout",
     "output_type": "stream",
     "text": [
      "/Volumes/Kek_2Tt_7T/TMA_analysis/TMA_thy_stacksandmasks/135_GC1/quantification/135_GC1_bcl6status.csv\n"
     ]
    },
    {
     "name": "stderr",
     "output_type": "stream",
     "text": [
      "/var/folders/02/vkyq99757hsfjng_p8wh1wkc0bfbtx/T/ipykernel_96970/1421698353.py:48: FutureWarning:\n",
      "\n",
      "Downcasting behavior in `replace` is deprecated and will be removed in a future version. To retain the old behavior, explicitly call `result.infer_objects(copy=False)`. To opt-in to the future behavior, set `pd.set_option('future.no_silent_downcasting', True)`\n",
      "\n"
     ]
    },
    {
     "name": "stdout",
     "output_type": "stream",
     "text": [
      "/Volumes/Kek_2Tt_7T/TMA_analysis/TMA_thy_stacksandmasks/151_GC2/quantification/151_GC2_bcl6status.csv\n"
     ]
    },
    {
     "name": "stderr",
     "output_type": "stream",
     "text": [
      "/var/folders/02/vkyq99757hsfjng_p8wh1wkc0bfbtx/T/ipykernel_96970/1421698353.py:48: FutureWarning:\n",
      "\n",
      "Downcasting behavior in `replace` is deprecated and will be removed in a future version. To retain the old behavior, explicitly call `result.infer_objects(copy=False)`. To opt-in to the future behavior, set `pd.set_option('future.no_silent_downcasting', True)`\n",
      "\n"
     ]
    },
    {
     "name": "stdout",
     "output_type": "stream",
     "text": [
      "/Volumes/Kek_2Tt_7T/TMA_analysis/TMA_thy_stacksandmasks/157_GC1/quantification/157_GC1_bcl6status.csv\n"
     ]
    },
    {
     "name": "stderr",
     "output_type": "stream",
     "text": [
      "/var/folders/02/vkyq99757hsfjng_p8wh1wkc0bfbtx/T/ipykernel_96970/1421698353.py:48: FutureWarning:\n",
      "\n",
      "Downcasting behavior in `replace` is deprecated and will be removed in a future version. To retain the old behavior, explicitly call `result.infer_objects(copy=False)`. To opt-in to the future behavior, set `pd.set_option('future.no_silent_downcasting', True)`\n",
      "\n"
     ]
    },
    {
     "name": "stdout",
     "output_type": "stream",
     "text": [
      "/Volumes/Kek_2Tt_7T/TMA_analysis/TMA_thy_stacksandmasks/143_GC1/quantification/143_GC1_bcl6status.csv\n"
     ]
    },
    {
     "name": "stderr",
     "output_type": "stream",
     "text": [
      "/var/folders/02/vkyq99757hsfjng_p8wh1wkc0bfbtx/T/ipykernel_96970/1421698353.py:48: FutureWarning:\n",
      "\n",
      "Downcasting behavior in `replace` is deprecated and will be removed in a future version. To retain the old behavior, explicitly call `result.infer_objects(copy=False)`. To opt-in to the future behavior, set `pd.set_option('future.no_silent_downcasting', True)`\n",
      "\n"
     ]
    },
    {
     "name": "stdout",
     "output_type": "stream",
     "text": [
      "/Volumes/Kek_2Tt_7T/TMA_analysis/TMA_thy_stacksandmasks/143_GC2/quantification/143_GC2_bcl6status.csv\n"
     ]
    },
    {
     "name": "stderr",
     "output_type": "stream",
     "text": [
      "/var/folders/02/vkyq99757hsfjng_p8wh1wkc0bfbtx/T/ipykernel_96970/1421698353.py:48: FutureWarning:\n",
      "\n",
      "Downcasting behavior in `replace` is deprecated and will be removed in a future version. To retain the old behavior, explicitly call `result.infer_objects(copy=False)`. To opt-in to the future behavior, set `pd.set_option('future.no_silent_downcasting', True)`\n",
      "\n"
     ]
    },
    {
     "name": "stdout",
     "output_type": "stream",
     "text": [
      "/Volumes/Kek_2Tt_7T/TMA_analysis/TMA_thy_stacksandmasks/164_GC2/quantification/164_GC2_bcl6status.csv\n"
     ]
    },
    {
     "name": "stderr",
     "output_type": "stream",
     "text": [
      "/var/folders/02/vkyq99757hsfjng_p8wh1wkc0bfbtx/T/ipykernel_96970/1421698353.py:48: FutureWarning:\n",
      "\n",
      "Downcasting behavior in `replace` is deprecated and will be removed in a future version. To retain the old behavior, explicitly call `result.infer_objects(copy=False)`. To opt-in to the future behavior, set `pd.set_option('future.no_silent_downcasting', True)`\n",
      "\n"
     ]
    },
    {
     "name": "stdout",
     "output_type": "stream",
     "text": [
      "/Volumes/Kek_2Tt_7T/TMA_analysis/TMA_thy_stacksandmasks/160_GC2/quantification/160_GC2_bcl6status.csv\n"
     ]
    },
    {
     "name": "stderr",
     "output_type": "stream",
     "text": [
      "/var/folders/02/vkyq99757hsfjng_p8wh1wkc0bfbtx/T/ipykernel_96970/1421698353.py:48: FutureWarning:\n",
      "\n",
      "Downcasting behavior in `replace` is deprecated and will be removed in a future version. To retain the old behavior, explicitly call `result.infer_objects(copy=False)`. To opt-in to the future behavior, set `pd.set_option('future.no_silent_downcasting', True)`\n",
      "\n"
     ]
    },
    {
     "name": "stdout",
     "output_type": "stream",
     "text": [
      "/Volumes/Kek_2Tt_7T/TMA_analysis/TMA_thy_stacksandmasks/172_GC1/quantification/172_GC1_bcl6status.csv\n"
     ]
    },
    {
     "name": "stderr",
     "output_type": "stream",
     "text": [
      "/var/folders/02/vkyq99757hsfjng_p8wh1wkc0bfbtx/T/ipykernel_96970/1421698353.py:48: FutureWarning:\n",
      "\n",
      "Downcasting behavior in `replace` is deprecated and will be removed in a future version. To retain the old behavior, explicitly call `result.infer_objects(copy=False)`. To opt-in to the future behavior, set `pd.set_option('future.no_silent_downcasting', True)`\n",
      "\n"
     ]
    },
    {
     "name": "stdout",
     "output_type": "stream",
     "text": [
      "/Volumes/Kek_2Tt_7T/TMA_analysis/TMA_thy_stacksandmasks/172_GC2/quantification/172_GC2_bcl6status.csv\n"
     ]
    },
    {
     "name": "stderr",
     "output_type": "stream",
     "text": [
      "/var/folders/02/vkyq99757hsfjng_p8wh1wkc0bfbtx/T/ipykernel_96970/1421698353.py:48: FutureWarning:\n",
      "\n",
      "Downcasting behavior in `replace` is deprecated and will be removed in a future version. To retain the old behavior, explicitly call `result.infer_objects(copy=False)`. To opt-in to the future behavior, set `pd.set_option('future.no_silent_downcasting', True)`\n",
      "\n"
     ]
    },
    {
     "name": "stdout",
     "output_type": "stream",
     "text": [
      "/Volumes/Kek_2Tt_7T/TMA_analysis/TMA_thy_stacksandmasks/166_GC1/quantification/166_GC1_bcl6status.csv\n"
     ]
    },
    {
     "name": "stderr",
     "output_type": "stream",
     "text": [
      "/var/folders/02/vkyq99757hsfjng_p8wh1wkc0bfbtx/T/ipykernel_96970/1421698353.py:48: FutureWarning:\n",
      "\n",
      "Downcasting behavior in `replace` is deprecated and will be removed in a future version. To retain the old behavior, explicitly call `result.infer_objects(copy=False)`. To opt-in to the future behavior, set `pd.set_option('future.no_silent_downcasting', True)`\n",
      "\n"
     ]
    },
    {
     "name": "stdout",
     "output_type": "stream",
     "text": [
      "/Volumes/Kek_2Tt_7T/TMA_analysis/TMA_thy_stacksandmasks/166_GC2/quantification/166_GC2_bcl6status.csv\n"
     ]
    },
    {
     "name": "stderr",
     "output_type": "stream",
     "text": [
      "/var/folders/02/vkyq99757hsfjng_p8wh1wkc0bfbtx/T/ipykernel_96970/1421698353.py:48: FutureWarning:\n",
      "\n",
      "Downcasting behavior in `replace` is deprecated and will be removed in a future version. To retain the old behavior, explicitly call `result.infer_objects(copy=False)`. To opt-in to the future behavior, set `pd.set_option('future.no_silent_downcasting', True)`\n",
      "\n"
     ]
    },
    {
     "name": "stdout",
     "output_type": "stream",
     "text": [
      "/Volumes/Kek_2Tt_7T/TMA_analysis/TMA_thy_stacksandmasks/207_GC2/quantification/207_GC2_bcl6status.csv\n"
     ]
    },
    {
     "name": "stderr",
     "output_type": "stream",
     "text": [
      "/var/folders/02/vkyq99757hsfjng_p8wh1wkc0bfbtx/T/ipykernel_96970/1421698353.py:48: FutureWarning:\n",
      "\n",
      "Downcasting behavior in `replace` is deprecated and will be removed in a future version. To retain the old behavior, explicitly call `result.infer_objects(copy=False)`. To opt-in to the future behavior, set `pd.set_option('future.no_silent_downcasting', True)`\n",
      "\n"
     ]
    },
    {
     "name": "stdout",
     "output_type": "stream",
     "text": [
      "/Volumes/Kek_2Tt_7T/TMA_analysis/TMA_thy_stacksandmasks/209_GC1/quantification/209_GC1_bcl6status.csv\n"
     ]
    },
    {
     "name": "stderr",
     "output_type": "stream",
     "text": [
      "/var/folders/02/vkyq99757hsfjng_p8wh1wkc0bfbtx/T/ipykernel_96970/1421698353.py:48: FutureWarning:\n",
      "\n",
      "Downcasting behavior in `replace` is deprecated and will be removed in a future version. To retain the old behavior, explicitly call `result.infer_objects(copy=False)`. To opt-in to the future behavior, set `pd.set_option('future.no_silent_downcasting', True)`\n",
      "\n"
     ]
    },
    {
     "name": "stdout",
     "output_type": "stream",
     "text": [
      "/Volumes/Kek_2Tt_7T/TMA_analysis/TMA_thy_stacksandmasks/211_GC1/quantification/211_GC1_bcl6status.csv\n"
     ]
    },
    {
     "name": "stderr",
     "output_type": "stream",
     "text": [
      "/var/folders/02/vkyq99757hsfjng_p8wh1wkc0bfbtx/T/ipykernel_96970/1421698353.py:48: FutureWarning:\n",
      "\n",
      "Downcasting behavior in `replace` is deprecated and will be removed in a future version. To retain the old behavior, explicitly call `result.infer_objects(copy=False)`. To opt-in to the future behavior, set `pd.set_option('future.no_silent_downcasting', True)`\n",
      "\n"
     ]
    },
    {
     "name": "stdout",
     "output_type": "stream",
     "text": [
      "/Volumes/Kek_2Tt_7T/TMA_analysis/TMA_thy_stacksandmasks/211_GC2/quantification/211_GC2_bcl6status.csv\n"
     ]
    },
    {
     "name": "stderr",
     "output_type": "stream",
     "text": [
      "/var/folders/02/vkyq99757hsfjng_p8wh1wkc0bfbtx/T/ipykernel_96970/1421698353.py:48: FutureWarning:\n",
      "\n",
      "Downcasting behavior in `replace` is deprecated and will be removed in a future version. To retain the old behavior, explicitly call `result.infer_objects(copy=False)`. To opt-in to the future behavior, set `pd.set_option('future.no_silent_downcasting', True)`\n",
      "\n"
     ]
    },
    {
     "name": "stdout",
     "output_type": "stream",
     "text": [
      "/Volumes/Kek_2Tt_7T/TMA_analysis/TMA_thy_stacksandmasks/209_GC2/quantification/209_GC2_bcl6status.csv\n"
     ]
    },
    {
     "name": "stderr",
     "output_type": "stream",
     "text": [
      "/var/folders/02/vkyq99757hsfjng_p8wh1wkc0bfbtx/T/ipykernel_96970/1421698353.py:48: FutureWarning:\n",
      "\n",
      "Downcasting behavior in `replace` is deprecated and will be removed in a future version. To retain the old behavior, explicitly call `result.infer_objects(copy=False)`. To opt-in to the future behavior, set `pd.set_option('future.no_silent_downcasting', True)`\n",
      "\n"
     ]
    },
    {
     "name": "stdout",
     "output_type": "stream",
     "text": [
      "/Volumes/Kek_2Tt_7T/TMA_analysis/TMA_thy_stacksandmasks/220_GC1/quantification/220_GC1_bcl6status.csv\n"
     ]
    },
    {
     "name": "stderr",
     "output_type": "stream",
     "text": [
      "/var/folders/02/vkyq99757hsfjng_p8wh1wkc0bfbtx/T/ipykernel_96970/1421698353.py:48: FutureWarning:\n",
      "\n",
      "Downcasting behavior in `replace` is deprecated and will be removed in a future version. To retain the old behavior, explicitly call `result.infer_objects(copy=False)`. To opt-in to the future behavior, set `pd.set_option('future.no_silent_downcasting', True)`\n",
      "\n"
     ]
    },
    {
     "name": "stdout",
     "output_type": "stream",
     "text": [
      "/Volumes/Kek_2Tt_7T/TMA_analysis/TMA_thy_stacksandmasks/220_GC2/quantification/220_GC2_bcl6status.csv\n"
     ]
    },
    {
     "name": "stderr",
     "output_type": "stream",
     "text": [
      "/var/folders/02/vkyq99757hsfjng_p8wh1wkc0bfbtx/T/ipykernel_96970/1421698353.py:48: FutureWarning:\n",
      "\n",
      "Downcasting behavior in `replace` is deprecated and will be removed in a future version. To retain the old behavior, explicitly call `result.infer_objects(copy=False)`. To opt-in to the future behavior, set `pd.set_option('future.no_silent_downcasting', True)`\n",
      "\n"
     ]
    },
    {
     "name": "stdout",
     "output_type": "stream",
     "text": [
      "/Volumes/Kek_2Tt_7T/TMA_analysis/TMA_thy_stacksandmasks/214_GC2/quantification/214_GC2_bcl6status.csv\n"
     ]
    },
    {
     "name": "stderr",
     "output_type": "stream",
     "text": [
      "/var/folders/02/vkyq99757hsfjng_p8wh1wkc0bfbtx/T/ipykernel_96970/1421698353.py:48: FutureWarning:\n",
      "\n",
      "Downcasting behavior in `replace` is deprecated and will be removed in a future version. To retain the old behavior, explicitly call `result.infer_objects(copy=False)`. To opt-in to the future behavior, set `pd.set_option('future.no_silent_downcasting', True)`\n",
      "\n"
     ]
    },
    {
     "name": "stdout",
     "output_type": "stream",
     "text": [
      "/Volumes/Kek_2Tt_7T/TMA_analysis/TMA_thy_stacksandmasks/218_GC1/quantification/218_GC1_bcl6status.csv\n"
     ]
    },
    {
     "name": "stderr",
     "output_type": "stream",
     "text": [
      "/var/folders/02/vkyq99757hsfjng_p8wh1wkc0bfbtx/T/ipykernel_96970/1421698353.py:48: FutureWarning:\n",
      "\n",
      "Downcasting behavior in `replace` is deprecated and will be removed in a future version. To retain the old behavior, explicitly call `result.infer_objects(copy=False)`. To opt-in to the future behavior, set `pd.set_option('future.no_silent_downcasting', True)`\n",
      "\n"
     ]
    },
    {
     "name": "stdout",
     "output_type": "stream",
     "text": [
      "/Volumes/Kek_2Tt_7T/TMA_analysis/TMA_thy_stacksandmasks/218_GC2/quantification/218_GC2_bcl6status.csv\n"
     ]
    },
    {
     "name": "stderr",
     "output_type": "stream",
     "text": [
      "/var/folders/02/vkyq99757hsfjng_p8wh1wkc0bfbtx/T/ipykernel_96970/1421698353.py:48: FutureWarning:\n",
      "\n",
      "Downcasting behavior in `replace` is deprecated and will be removed in a future version. To retain the old behavior, explicitly call `result.infer_objects(copy=False)`. To opt-in to the future behavior, set `pd.set_option('future.no_silent_downcasting', True)`\n",
      "\n"
     ]
    },
    {
     "name": "stdout",
     "output_type": "stream",
     "text": [
      "/Volumes/Kek_2Tt_7T/TMA_analysis/TMA_thy_stacksandmasks/229_GC1/quantification/229_GC1_bcl6status.csv\n"
     ]
    },
    {
     "name": "stderr",
     "output_type": "stream",
     "text": [
      "/var/folders/02/vkyq99757hsfjng_p8wh1wkc0bfbtx/T/ipykernel_96970/1421698353.py:48: FutureWarning:\n",
      "\n",
      "Downcasting behavior in `replace` is deprecated and will be removed in a future version. To retain the old behavior, explicitly call `result.infer_objects(copy=False)`. To opt-in to the future behavior, set `pd.set_option('future.no_silent_downcasting', True)`\n",
      "\n"
     ]
    },
    {
     "name": "stdout",
     "output_type": "stream",
     "text": [
      "/Volumes/Kek_2Tt_7T/TMA_analysis/TMA_thy_stacksandmasks/229_GC2/quantification/229_GC2_bcl6status.csv\n"
     ]
    },
    {
     "name": "stderr",
     "output_type": "stream",
     "text": [
      "/var/folders/02/vkyq99757hsfjng_p8wh1wkc0bfbtx/T/ipykernel_96970/1421698353.py:48: FutureWarning:\n",
      "\n",
      "Downcasting behavior in `replace` is deprecated and will be removed in a future version. To retain the old behavior, explicitly call `result.infer_objects(copy=False)`. To opt-in to the future behavior, set `pd.set_option('future.no_silent_downcasting', True)`\n",
      "\n"
     ]
    },
    {
     "name": "stdout",
     "output_type": "stream",
     "text": [
      "/Volumes/Kek_2Tt_7T/TMA_analysis/TMA_thy_stacksandmasks/231_GC1/quantification/231_GC1_bcl6status.csv\n"
     ]
    },
    {
     "name": "stderr",
     "output_type": "stream",
     "text": [
      "/var/folders/02/vkyq99757hsfjng_p8wh1wkc0bfbtx/T/ipykernel_96970/1421698353.py:48: FutureWarning:\n",
      "\n",
      "Downcasting behavior in `replace` is deprecated and will be removed in a future version. To retain the old behavior, explicitly call `result.infer_objects(copy=False)`. To opt-in to the future behavior, set `pd.set_option('future.no_silent_downcasting', True)`\n",
      "\n"
     ]
    },
    {
     "name": "stdout",
     "output_type": "stream",
     "text": [
      "/Volumes/Kek_2Tt_7T/TMA_analysis/TMA_thy_stacksandmasks/231_GC2/quantification/231_GC2_bcl6status.csv\n"
     ]
    },
    {
     "name": "stderr",
     "output_type": "stream",
     "text": [
      "/var/folders/02/vkyq99757hsfjng_p8wh1wkc0bfbtx/T/ipykernel_96970/1421698353.py:48: FutureWarning:\n",
      "\n",
      "Downcasting behavior in `replace` is deprecated and will be removed in a future version. To retain the old behavior, explicitly call `result.infer_objects(copy=False)`. To opt-in to the future behavior, set `pd.set_option('future.no_silent_downcasting', True)`\n",
      "\n"
     ]
    },
    {
     "name": "stdout",
     "output_type": "stream",
     "text": [
      "/Volumes/Kek_2Tt_7T/TMA_analysis/TMA_thy_stacksandmasks/222_GC1/quantification/222_GC1_bcl6status.csv\n"
     ]
    },
    {
     "name": "stderr",
     "output_type": "stream",
     "text": [
      "/var/folders/02/vkyq99757hsfjng_p8wh1wkc0bfbtx/T/ipykernel_96970/1421698353.py:48: FutureWarning:\n",
      "\n",
      "Downcasting behavior in `replace` is deprecated and will be removed in a future version. To retain the old behavior, explicitly call `result.infer_objects(copy=False)`. To opt-in to the future behavior, set `pd.set_option('future.no_silent_downcasting', True)`\n",
      "\n"
     ]
    },
    {
     "name": "stdout",
     "output_type": "stream",
     "text": [
      "/Volumes/Kek_2Tt_7T/TMA_analysis/TMA_thy_stacksandmasks/236_GC1/quantification/236_GC1_bcl6status.csv\n"
     ]
    },
    {
     "name": "stderr",
     "output_type": "stream",
     "text": [
      "/var/folders/02/vkyq99757hsfjng_p8wh1wkc0bfbtx/T/ipykernel_96970/1421698353.py:48: FutureWarning:\n",
      "\n",
      "Downcasting behavior in `replace` is deprecated and will be removed in a future version. To retain the old behavior, explicitly call `result.infer_objects(copy=False)`. To opt-in to the future behavior, set `pd.set_option('future.no_silent_downcasting', True)`\n",
      "\n"
     ]
    },
    {
     "name": "stdout",
     "output_type": "stream",
     "text": [
      "/Volumes/Kek_2Tt_7T/TMA_analysis/TMA_thy_stacksandmasks/236_GC2/quantification/236_GC2_bcl6status.csv\n"
     ]
    },
    {
     "name": "stderr",
     "output_type": "stream",
     "text": [
      "/var/folders/02/vkyq99757hsfjng_p8wh1wkc0bfbtx/T/ipykernel_96970/1421698353.py:48: FutureWarning:\n",
      "\n",
      "Downcasting behavior in `replace` is deprecated and will be removed in a future version. To retain the old behavior, explicitly call `result.infer_objects(copy=False)`. To opt-in to the future behavior, set `pd.set_option('future.no_silent_downcasting', True)`\n",
      "\n"
     ]
    },
    {
     "name": "stdout",
     "output_type": "stream",
     "text": [
      "/Volumes/Kek_2Tt_7T/TMA_analysis/TMA_thy_stacksandmasks/238_GC1/quantification/238_GC1_bcl6status.csv\n"
     ]
    },
    {
     "name": "stderr",
     "output_type": "stream",
     "text": [
      "/var/folders/02/vkyq99757hsfjng_p8wh1wkc0bfbtx/T/ipykernel_96970/1421698353.py:48: FutureWarning:\n",
      "\n",
      "Downcasting behavior in `replace` is deprecated and will be removed in a future version. To retain the old behavior, explicitly call `result.infer_objects(copy=False)`. To opt-in to the future behavior, set `pd.set_option('future.no_silent_downcasting', True)`\n",
      "\n"
     ]
    },
    {
     "name": "stdout",
     "output_type": "stream",
     "text": [
      "/Volumes/Kek_2Tt_7T/TMA_analysis/TMA_thy_stacksandmasks/238_GC2/quantification/238_GC2_bcl6status.csv\n"
     ]
    },
    {
     "name": "stderr",
     "output_type": "stream",
     "text": [
      "/var/folders/02/vkyq99757hsfjng_p8wh1wkc0bfbtx/T/ipykernel_96970/1421698353.py:48: FutureWarning:\n",
      "\n",
      "Downcasting behavior in `replace` is deprecated and will be removed in a future version. To retain the old behavior, explicitly call `result.infer_objects(copy=False)`. To opt-in to the future behavior, set `pd.set_option('future.no_silent_downcasting', True)`\n",
      "\n"
     ]
    },
    {
     "name": "stdout",
     "output_type": "stream",
     "text": [
      "/Volumes/Kek_2Tt_7T/TMA_analysis/TMA_thy_stacksandmasks/240_GC1/quantification/240_GC1_bcl6status.csv\n"
     ]
    },
    {
     "name": "stderr",
     "output_type": "stream",
     "text": [
      "/var/folders/02/vkyq99757hsfjng_p8wh1wkc0bfbtx/T/ipykernel_96970/1421698353.py:48: FutureWarning:\n",
      "\n",
      "Downcasting behavior in `replace` is deprecated and will be removed in a future version. To retain the old behavior, explicitly call `result.infer_objects(copy=False)`. To opt-in to the future behavior, set `pd.set_option('future.no_silent_downcasting', True)`\n",
      "\n"
     ]
    },
    {
     "name": "stdout",
     "output_type": "stream",
     "text": [
      "/Volumes/Kek_2Tt_7T/TMA_analysis/TMA_thy_stacksandmasks/240_GC2/quantification/240_GC2_bcl6status.csv\n"
     ]
    },
    {
     "name": "stderr",
     "output_type": "stream",
     "text": [
      "/var/folders/02/vkyq99757hsfjng_p8wh1wkc0bfbtx/T/ipykernel_96970/1421698353.py:48: FutureWarning:\n",
      "\n",
      "Downcasting behavior in `replace` is deprecated and will be removed in a future version. To retain the old behavior, explicitly call `result.infer_objects(copy=False)`. To opt-in to the future behavior, set `pd.set_option('future.no_silent_downcasting', True)`\n",
      "\n"
     ]
    },
    {
     "name": "stdout",
     "output_type": "stream",
     "text": [
      "/Volumes/Kek_2Tt_7T/TMA_analysis/TMA_thy_stacksandmasks/233_GC1/quantification/233_GC1_bcl6status.csv\n"
     ]
    },
    {
     "name": "stderr",
     "output_type": "stream",
     "text": [
      "/var/folders/02/vkyq99757hsfjng_p8wh1wkc0bfbtx/T/ipykernel_96970/1421698353.py:48: FutureWarning:\n",
      "\n",
      "Downcasting behavior in `replace` is deprecated and will be removed in a future version. To retain the old behavior, explicitly call `result.infer_objects(copy=False)`. To opt-in to the future behavior, set `pd.set_option('future.no_silent_downcasting', True)`\n",
      "\n"
     ]
    },
    {
     "name": "stdout",
     "output_type": "stream",
     "text": [
      "/Volumes/Kek_2Tt_7T/TMA_analysis/TMA_thy_stacksandmasks/234_GC1/quantification/234_GC1_bcl6status.csv\n"
     ]
    },
    {
     "name": "stderr",
     "output_type": "stream",
     "text": [
      "/var/folders/02/vkyq99757hsfjng_p8wh1wkc0bfbtx/T/ipykernel_96970/1421698353.py:48: FutureWarning:\n",
      "\n",
      "Downcasting behavior in `replace` is deprecated and will be removed in a future version. To retain the old behavior, explicitly call `result.infer_objects(copy=False)`. To opt-in to the future behavior, set `pd.set_option('future.no_silent_downcasting', True)`\n",
      "\n"
     ]
    },
    {
     "name": "stdout",
     "output_type": "stream",
     "text": [
      "/Volumes/Kek_2Tt_7T/TMA_analysis/TMA_thy_stacksandmasks/234_GC2/quantification/234_GC2_bcl6status.csv\n"
     ]
    },
    {
     "name": "stderr",
     "output_type": "stream",
     "text": [
      "/var/folders/02/vkyq99757hsfjng_p8wh1wkc0bfbtx/T/ipykernel_96970/1421698353.py:48: FutureWarning:\n",
      "\n",
      "Downcasting behavior in `replace` is deprecated and will be removed in a future version. To retain the old behavior, explicitly call `result.infer_objects(copy=False)`. To opt-in to the future behavior, set `pd.set_option('future.no_silent_downcasting', True)`\n",
      "\n"
     ]
    },
    {
     "name": "stdout",
     "output_type": "stream",
     "text": [
      "/Volumes/Kek_2Tt_7T/TMA_analysis/TMA_thy_stacksandmasks/250_GC1/quantification/250_GC1_bcl6status.csv\n"
     ]
    },
    {
     "name": "stderr",
     "output_type": "stream",
     "text": [
      "/var/folders/02/vkyq99757hsfjng_p8wh1wkc0bfbtx/T/ipykernel_96970/1421698353.py:48: FutureWarning:\n",
      "\n",
      "Downcasting behavior in `replace` is deprecated and will be removed in a future version. To retain the old behavior, explicitly call `result.infer_objects(copy=False)`. To opt-in to the future behavior, set `pd.set_option('future.no_silent_downcasting', True)`\n",
      "\n"
     ]
    },
    {
     "name": "stdout",
     "output_type": "stream",
     "text": [
      "/Volumes/Kek_2Tt_7T/TMA_analysis/TMA_thy_stacksandmasks/250_GC2/quantification/250_GC2_bcl6status.csv\n"
     ]
    },
    {
     "name": "stderr",
     "output_type": "stream",
     "text": [
      "/var/folders/02/vkyq99757hsfjng_p8wh1wkc0bfbtx/T/ipykernel_96970/1421698353.py:48: FutureWarning:\n",
      "\n",
      "Downcasting behavior in `replace` is deprecated and will be removed in a future version. To retain the old behavior, explicitly call `result.infer_objects(copy=False)`. To opt-in to the future behavior, set `pd.set_option('future.no_silent_downcasting', True)`\n",
      "\n"
     ]
    },
    {
     "name": "stdout",
     "output_type": "stream",
     "text": [
      "/Volumes/Kek_2Tt_7T/TMA_analysis/TMA_thy_stacksandmasks/242_GC1/quantification/242_GC1_bcl6status.csv\n"
     ]
    },
    {
     "name": "stderr",
     "output_type": "stream",
     "text": [
      "/var/folders/02/vkyq99757hsfjng_p8wh1wkc0bfbtx/T/ipykernel_96970/1421698353.py:48: FutureWarning:\n",
      "\n",
      "Downcasting behavior in `replace` is deprecated and will be removed in a future version. To retain the old behavior, explicitly call `result.infer_objects(copy=False)`. To opt-in to the future behavior, set `pd.set_option('future.no_silent_downcasting', True)`\n",
      "\n"
     ]
    },
    {
     "name": "stdout",
     "output_type": "stream",
     "text": [
      "/Volumes/Kek_2Tt_7T/TMA_analysis/TMA_thy_stacksandmasks/244_GC1/quantification/244_GC1_bcl6status.csv\n"
     ]
    },
    {
     "name": "stderr",
     "output_type": "stream",
     "text": [
      "/var/folders/02/vkyq99757hsfjng_p8wh1wkc0bfbtx/T/ipykernel_96970/1421698353.py:48: FutureWarning:\n",
      "\n",
      "Downcasting behavior in `replace` is deprecated and will be removed in a future version. To retain the old behavior, explicitly call `result.infer_objects(copy=False)`. To opt-in to the future behavior, set `pd.set_option('future.no_silent_downcasting', True)`\n",
      "\n"
     ]
    },
    {
     "name": "stdout",
     "output_type": "stream",
     "text": [
      "/Volumes/Kek_2Tt_7T/TMA_analysis/TMA_thy_stacksandmasks/244_GC2/quantification/244_GC2_bcl6status.csv\n"
     ]
    },
    {
     "name": "stderr",
     "output_type": "stream",
     "text": [
      "/var/folders/02/vkyq99757hsfjng_p8wh1wkc0bfbtx/T/ipykernel_96970/1421698353.py:48: FutureWarning:\n",
      "\n",
      "Downcasting behavior in `replace` is deprecated and will be removed in a future version. To retain the old behavior, explicitly call `result.infer_objects(copy=False)`. To opt-in to the future behavior, set `pd.set_option('future.no_silent_downcasting', True)`\n",
      "\n"
     ]
    },
    {
     "name": "stdout",
     "output_type": "stream",
     "text": [
      "/Volumes/Kek_2Tt_7T/TMA_analysis/TMA_thy_stacksandmasks/246_GC1/quantification/246_GC1_bcl6status.csv\n"
     ]
    },
    {
     "name": "stderr",
     "output_type": "stream",
     "text": [
      "/var/folders/02/vkyq99757hsfjng_p8wh1wkc0bfbtx/T/ipykernel_96970/1421698353.py:48: FutureWarning:\n",
      "\n",
      "Downcasting behavior in `replace` is deprecated and will be removed in a future version. To retain the old behavior, explicitly call `result.infer_objects(copy=False)`. To opt-in to the future behavior, set `pd.set_option('future.no_silent_downcasting', True)`\n",
      "\n"
     ]
    },
    {
     "name": "stdout",
     "output_type": "stream",
     "text": [
      "/Volumes/Kek_2Tt_7T/TMA_analysis/TMA_thy_stacksandmasks/246_GC2/quantification/246_GC2_bcl6status.csv\n"
     ]
    },
    {
     "name": "stderr",
     "output_type": "stream",
     "text": [
      "/var/folders/02/vkyq99757hsfjng_p8wh1wkc0bfbtx/T/ipykernel_96970/1421698353.py:48: FutureWarning:\n",
      "\n",
      "Downcasting behavior in `replace` is deprecated and will be removed in a future version. To retain the old behavior, explicitly call `result.infer_objects(copy=False)`. To opt-in to the future behavior, set `pd.set_option('future.no_silent_downcasting', True)`\n",
      "\n"
     ]
    },
    {
     "name": "stdout",
     "output_type": "stream",
     "text": [
      "/Volumes/Kek_2Tt_7T/TMA_analysis/TMA_thy_stacksandmasks/248_GC1/quantification/248_GC1_bcl6status.csv\n"
     ]
    },
    {
     "name": "stderr",
     "output_type": "stream",
     "text": [
      "/var/folders/02/vkyq99757hsfjng_p8wh1wkc0bfbtx/T/ipykernel_96970/1421698353.py:48: FutureWarning:\n",
      "\n",
      "Downcasting behavior in `replace` is deprecated and will be removed in a future version. To retain the old behavior, explicitly call `result.infer_objects(copy=False)`. To opt-in to the future behavior, set `pd.set_option('future.no_silent_downcasting', True)`\n",
      "\n"
     ]
    },
    {
     "name": "stdout",
     "output_type": "stream",
     "text": [
      "/Volumes/Kek_2Tt_7T/TMA_analysis/TMA_thy_stacksandmasks/248_GC2/quantification/248_GC2_bcl6status.csv\n"
     ]
    },
    {
     "name": "stderr",
     "output_type": "stream",
     "text": [
      "/var/folders/02/vkyq99757hsfjng_p8wh1wkc0bfbtx/T/ipykernel_96970/1421698353.py:48: FutureWarning:\n",
      "\n",
      "Downcasting behavior in `replace` is deprecated and will be removed in a future version. To retain the old behavior, explicitly call `result.infer_objects(copy=False)`. To opt-in to the future behavior, set `pd.set_option('future.no_silent_downcasting', True)`\n",
      "\n"
     ]
    },
    {
     "name": "stdout",
     "output_type": "stream",
     "text": [
      "/Volumes/Kek_2Tt_7T/TMA_analysis/TMA_thy_stacksandmasks/262_GC1/quantification/262_GC1_bcl6status.csv\n"
     ]
    },
    {
     "name": "stderr",
     "output_type": "stream",
     "text": [
      "/var/folders/02/vkyq99757hsfjng_p8wh1wkc0bfbtx/T/ipykernel_96970/1421698353.py:48: FutureWarning:\n",
      "\n",
      "Downcasting behavior in `replace` is deprecated and will be removed in a future version. To retain the old behavior, explicitly call `result.infer_objects(copy=False)`. To opt-in to the future behavior, set `pd.set_option('future.no_silent_downcasting', True)`\n",
      "\n"
     ]
    },
    {
     "name": "stdout",
     "output_type": "stream",
     "text": [
      "/Volumes/Kek_2Tt_7T/TMA_analysis/TMA_thy_stacksandmasks/262_GC2/quantification/262_GC2_bcl6status.csv\n"
     ]
    },
    {
     "name": "stderr",
     "output_type": "stream",
     "text": [
      "/var/folders/02/vkyq99757hsfjng_p8wh1wkc0bfbtx/T/ipykernel_96970/1421698353.py:48: FutureWarning:\n",
      "\n",
      "Downcasting behavior in `replace` is deprecated and will be removed in a future version. To retain the old behavior, explicitly call `result.infer_objects(copy=False)`. To opt-in to the future behavior, set `pd.set_option('future.no_silent_downcasting', True)`\n",
      "\n"
     ]
    },
    {
     "name": "stdout",
     "output_type": "stream",
     "text": [
      "/Volumes/Kek_2Tt_7T/TMA_analysis/TMA_thy_stacksandmasks/252_GC2/quantification/252_GC2_bcl6status.csv\n"
     ]
    },
    {
     "name": "stderr",
     "output_type": "stream",
     "text": [
      "/var/folders/02/vkyq99757hsfjng_p8wh1wkc0bfbtx/T/ipykernel_96970/1421698353.py:48: FutureWarning:\n",
      "\n",
      "Downcasting behavior in `replace` is deprecated and will be removed in a future version. To retain the old behavior, explicitly call `result.infer_objects(copy=False)`. To opt-in to the future behavior, set `pd.set_option('future.no_silent_downcasting', True)`\n",
      "\n"
     ]
    },
    {
     "name": "stdout",
     "output_type": "stream",
     "text": [
      "/Volumes/Kek_2Tt_7T/TMA_analysis/TMA_thy_stacksandmasks/254_GC1/quantification/254_GC1_bcl6status.csv\n"
     ]
    },
    {
     "name": "stderr",
     "output_type": "stream",
     "text": [
      "/var/folders/02/vkyq99757hsfjng_p8wh1wkc0bfbtx/T/ipykernel_96970/1421698353.py:48: FutureWarning:\n",
      "\n",
      "Downcasting behavior in `replace` is deprecated and will be removed in a future version. To retain the old behavior, explicitly call `result.infer_objects(copy=False)`. To opt-in to the future behavior, set `pd.set_option('future.no_silent_downcasting', True)`\n",
      "\n"
     ]
    },
    {
     "name": "stdout",
     "output_type": "stream",
     "text": [
      "/Volumes/Kek_2Tt_7T/TMA_analysis/TMA_thy_stacksandmasks/254_GC2/quantification/254_GC2_bcl6status.csv\n"
     ]
    },
    {
     "name": "stderr",
     "output_type": "stream",
     "text": [
      "/var/folders/02/vkyq99757hsfjng_p8wh1wkc0bfbtx/T/ipykernel_96970/1421698353.py:48: FutureWarning:\n",
      "\n",
      "Downcasting behavior in `replace` is deprecated and will be removed in a future version. To retain the old behavior, explicitly call `result.infer_objects(copy=False)`. To opt-in to the future behavior, set `pd.set_option('future.no_silent_downcasting', True)`\n",
      "\n"
     ]
    },
    {
     "name": "stdout",
     "output_type": "stream",
     "text": [
      "/Volumes/Kek_2Tt_7T/TMA_analysis/TMA_thy_stacksandmasks/256_GC1/quantification/256_GC1_bcl6status.csv\n"
     ]
    },
    {
     "name": "stderr",
     "output_type": "stream",
     "text": [
      "/var/folders/02/vkyq99757hsfjng_p8wh1wkc0bfbtx/T/ipykernel_96970/1421698353.py:48: FutureWarning:\n",
      "\n",
      "Downcasting behavior in `replace` is deprecated and will be removed in a future version. To retain the old behavior, explicitly call `result.infer_objects(copy=False)`. To opt-in to the future behavior, set `pd.set_option('future.no_silent_downcasting', True)`\n",
      "\n"
     ]
    },
    {
     "name": "stdout",
     "output_type": "stream",
     "text": [
      "/Volumes/Kek_2Tt_7T/TMA_analysis/TMA_thy_stacksandmasks/256_GC2/quantification/256_GC2_bcl6status.csv\n"
     ]
    },
    {
     "name": "stderr",
     "output_type": "stream",
     "text": [
      "/var/folders/02/vkyq99757hsfjng_p8wh1wkc0bfbtx/T/ipykernel_96970/1421698353.py:48: FutureWarning:\n",
      "\n",
      "Downcasting behavior in `replace` is deprecated and will be removed in a future version. To retain the old behavior, explicitly call `result.infer_objects(copy=False)`. To opt-in to the future behavior, set `pd.set_option('future.no_silent_downcasting', True)`\n",
      "\n"
     ]
    },
    {
     "name": "stdout",
     "output_type": "stream",
     "text": [
      "/Volumes/Kek_2Tt_7T/TMA_analysis/TMA_thy_stacksandmasks/258_GC1/quantification/258_GC1_bcl6status.csv\n"
     ]
    },
    {
     "name": "stderr",
     "output_type": "stream",
     "text": [
      "/var/folders/02/vkyq99757hsfjng_p8wh1wkc0bfbtx/T/ipykernel_96970/1421698353.py:48: FutureWarning:\n",
      "\n",
      "Downcasting behavior in `replace` is deprecated and will be removed in a future version. To retain the old behavior, explicitly call `result.infer_objects(copy=False)`. To opt-in to the future behavior, set `pd.set_option('future.no_silent_downcasting', True)`\n",
      "\n"
     ]
    },
    {
     "name": "stdout",
     "output_type": "stream",
     "text": [
      "/Volumes/Kek_2Tt_7T/TMA_analysis/TMA_thy_stacksandmasks/264_GC2/quantification/264_GC2_bcl6status.csv\n"
     ]
    },
    {
     "name": "stderr",
     "output_type": "stream",
     "text": [
      "/var/folders/02/vkyq99757hsfjng_p8wh1wkc0bfbtx/T/ipykernel_96970/1421698353.py:48: FutureWarning:\n",
      "\n",
      "Downcasting behavior in `replace` is deprecated and will be removed in a future version. To retain the old behavior, explicitly call `result.infer_objects(copy=False)`. To opt-in to the future behavior, set `pd.set_option('future.no_silent_downcasting', True)`\n",
      "\n"
     ]
    },
    {
     "name": "stdout",
     "output_type": "stream",
     "text": [
      "/Volumes/Kek_2Tt_7T/TMA_analysis/TMA_thy_stacksandmasks/268_GC2/quantification/268_GC2_bcl6status.csv\n"
     ]
    },
    {
     "name": "stderr",
     "output_type": "stream",
     "text": [
      "/var/folders/02/vkyq99757hsfjng_p8wh1wkc0bfbtx/T/ipykernel_96970/1421698353.py:48: FutureWarning:\n",
      "\n",
      "Downcasting behavior in `replace` is deprecated and will be removed in a future version. To retain the old behavior, explicitly call `result.infer_objects(copy=False)`. To opt-in to the future behavior, set `pd.set_option('future.no_silent_downcasting', True)`\n",
      "\n"
     ]
    },
    {
     "name": "stdout",
     "output_type": "stream",
     "text": [
      "/Volumes/Kek_2Tt_7T/TMA_analysis/TMA_thy_stacksandmasks/270_GC1/quantification/270_GC1_bcl6status.csv\n"
     ]
    },
    {
     "name": "stderr",
     "output_type": "stream",
     "text": [
      "/var/folders/02/vkyq99757hsfjng_p8wh1wkc0bfbtx/T/ipykernel_96970/1421698353.py:48: FutureWarning:\n",
      "\n",
      "Downcasting behavior in `replace` is deprecated and will be removed in a future version. To retain the old behavior, explicitly call `result.infer_objects(copy=False)`. To opt-in to the future behavior, set `pd.set_option('future.no_silent_downcasting', True)`\n",
      "\n"
     ]
    },
    {
     "name": "stdout",
     "output_type": "stream",
     "text": [
      "/Volumes/Kek_2Tt_7T/TMA_analysis/TMA_thy_stacksandmasks/303_GC2/quantification/303_GC2_bcl6status.csv\n"
     ]
    },
    {
     "name": "stderr",
     "output_type": "stream",
     "text": [
      "/var/folders/02/vkyq99757hsfjng_p8wh1wkc0bfbtx/T/ipykernel_96970/1421698353.py:48: FutureWarning:\n",
      "\n",
      "Downcasting behavior in `replace` is deprecated and will be removed in a future version. To retain the old behavior, explicitly call `result.infer_objects(copy=False)`. To opt-in to the future behavior, set `pd.set_option('future.no_silent_downcasting', True)`\n",
      "\n"
     ]
    },
    {
     "name": "stdout",
     "output_type": "stream",
     "text": [
      "/Volumes/Kek_2Tt_7T/TMA_analysis/TMA_thy_stacksandmasks/101_GC2/quantification/101_GC2_bcl6status.csv\n"
     ]
    },
    {
     "name": "stderr",
     "output_type": "stream",
     "text": [
      "/var/folders/02/vkyq99757hsfjng_p8wh1wkc0bfbtx/T/ipykernel_96970/1421698353.py:48: FutureWarning:\n",
      "\n",
      "Downcasting behavior in `replace` is deprecated and will be removed in a future version. To retain the old behavior, explicitly call `result.infer_objects(copy=False)`. To opt-in to the future behavior, set `pd.set_option('future.no_silent_downcasting', True)`\n",
      "\n"
     ]
    },
    {
     "name": "stdout",
     "output_type": "stream",
     "text": [
      "/Volumes/Kek_2Tt_7T/TMA_analysis/TMA_thy_stacksandmasks/323_GC1/quantification/323_GC1_bcl6status.csv\n"
     ]
    },
    {
     "name": "stderr",
     "output_type": "stream",
     "text": [
      "/var/folders/02/vkyq99757hsfjng_p8wh1wkc0bfbtx/T/ipykernel_96970/1421698353.py:48: FutureWarning:\n",
      "\n",
      "Downcasting behavior in `replace` is deprecated and will be removed in a future version. To retain the old behavior, explicitly call `result.infer_objects(copy=False)`. To opt-in to the future behavior, set `pd.set_option('future.no_silent_downcasting', True)`\n",
      "\n"
     ]
    },
    {
     "name": "stdout",
     "output_type": "stream",
     "text": [
      "/Volumes/Kek_2Tt_7T/TMA_analysis/TMA_thy_stacksandmasks/307_GC2/quantification/307_GC2_bcl6status.csv\n"
     ]
    },
    {
     "name": "stderr",
     "output_type": "stream",
     "text": [
      "/var/folders/02/vkyq99757hsfjng_p8wh1wkc0bfbtx/T/ipykernel_96970/1421698353.py:48: FutureWarning:\n",
      "\n",
      "Downcasting behavior in `replace` is deprecated and will be removed in a future version. To retain the old behavior, explicitly call `result.infer_objects(copy=False)`. To opt-in to the future behavior, set `pd.set_option('future.no_silent_downcasting', True)`\n",
      "\n"
     ]
    },
    {
     "name": "stdout",
     "output_type": "stream",
     "text": [
      "/Volumes/Kek_2Tt_7T/TMA_analysis/TMA_thy_stacksandmasks/311_GC1/quantification/311_GC1_bcl6status.csv\n"
     ]
    },
    {
     "name": "stderr",
     "output_type": "stream",
     "text": [
      "/var/folders/02/vkyq99757hsfjng_p8wh1wkc0bfbtx/T/ipykernel_96970/1421698353.py:48: FutureWarning:\n",
      "\n",
      "Downcasting behavior in `replace` is deprecated and will be removed in a future version. To retain the old behavior, explicitly call `result.infer_objects(copy=False)`. To opt-in to the future behavior, set `pd.set_option('future.no_silent_downcasting', True)`\n",
      "\n"
     ]
    },
    {
     "name": "stdout",
     "output_type": "stream",
     "text": [
      "/Volumes/Kek_2Tt_7T/TMA_analysis/TMA_thy_stacksandmasks/311_GC2/quantification/311_GC2_bcl6status.csv\n"
     ]
    },
    {
     "name": "stderr",
     "output_type": "stream",
     "text": [
      "/var/folders/02/vkyq99757hsfjng_p8wh1wkc0bfbtx/T/ipykernel_96970/1421698353.py:48: FutureWarning:\n",
      "\n",
      "Downcasting behavior in `replace` is deprecated and will be removed in a future version. To retain the old behavior, explicitly call `result.infer_objects(copy=False)`. To opt-in to the future behavior, set `pd.set_option('future.no_silent_downcasting', True)`\n",
      "\n"
     ]
    },
    {
     "name": "stdout",
     "output_type": "stream",
     "text": [
      "/Volumes/Kek_2Tt_7T/TMA_analysis/TMA_thy_stacksandmasks/321_GC1/quantification/321_GC1_bcl6status.csv\n"
     ]
    },
    {
     "name": "stderr",
     "output_type": "stream",
     "text": [
      "/var/folders/02/vkyq99757hsfjng_p8wh1wkc0bfbtx/T/ipykernel_96970/1421698353.py:48: FutureWarning:\n",
      "\n",
      "Downcasting behavior in `replace` is deprecated and will be removed in a future version. To retain the old behavior, explicitly call `result.infer_objects(copy=False)`. To opt-in to the future behavior, set `pd.set_option('future.no_silent_downcasting', True)`\n",
      "\n"
     ]
    },
    {
     "name": "stdout",
     "output_type": "stream",
     "text": [
      "/Volumes/Kek_2Tt_7T/TMA_analysis/TMA_thy_stacksandmasks/101_GC1/quantification/101_GC1_bcl6status.csv\n"
     ]
    },
    {
     "name": "stderr",
     "output_type": "stream",
     "text": [
      "/var/folders/02/vkyq99757hsfjng_p8wh1wkc0bfbtx/T/ipykernel_96970/1421698353.py:48: FutureWarning:\n",
      "\n",
      "Downcasting behavior in `replace` is deprecated and will be removed in a future version. To retain the old behavior, explicitly call `result.infer_objects(copy=False)`. To opt-in to the future behavior, set `pd.set_option('future.no_silent_downcasting', True)`\n",
      "\n"
     ]
    },
    {
     "name": "stdout",
     "output_type": "stream",
     "text": [
      "/Volumes/Kek_2Tt_7T/TMA_analysis/TMA_thy_stacksandmasks/323_GC2/quantification/323_GC2_bcl6status.csv\n"
     ]
    },
    {
     "name": "stderr",
     "output_type": "stream",
     "text": [
      "/var/folders/02/vkyq99757hsfjng_p8wh1wkc0bfbtx/T/ipykernel_96970/1421698353.py:48: FutureWarning:\n",
      "\n",
      "Downcasting behavior in `replace` is deprecated and will be removed in a future version. To retain the old behavior, explicitly call `result.infer_objects(copy=False)`. To opt-in to the future behavior, set `pd.set_option('future.no_silent_downcasting', True)`\n",
      "\n"
     ]
    },
    {
     "name": "stdout",
     "output_type": "stream",
     "text": [
      "/Volumes/Kek_2Tt_7T/TMA_analysis/TMA_thy_stacksandmasks/327_GC1/quantification/327_GC1_bcl6status.csv\n"
     ]
    },
    {
     "name": "stderr",
     "output_type": "stream",
     "text": [
      "/var/folders/02/vkyq99757hsfjng_p8wh1wkc0bfbtx/T/ipykernel_96970/1421698353.py:48: FutureWarning:\n",
      "\n",
      "Downcasting behavior in `replace` is deprecated and will be removed in a future version. To retain the old behavior, explicitly call `result.infer_objects(copy=False)`. To opt-in to the future behavior, set `pd.set_option('future.no_silent_downcasting', True)`\n",
      "\n"
     ]
    },
    {
     "name": "stdout",
     "output_type": "stream",
     "text": [
      "/Volumes/Kek_2Tt_7T/TMA_analysis/TMA_thy_stacksandmasks/303_GC1/quantification/303_GC1_bcl6status.csv\n"
     ]
    },
    {
     "name": "stderr",
     "output_type": "stream",
     "text": [
      "/var/folders/02/vkyq99757hsfjng_p8wh1wkc0bfbtx/T/ipykernel_96970/1421698353.py:48: FutureWarning:\n",
      "\n",
      "Downcasting behavior in `replace` is deprecated and will be removed in a future version. To retain the old behavior, explicitly call `result.infer_objects(copy=False)`. To opt-in to the future behavior, set `pd.set_option('future.no_silent_downcasting', True)`\n",
      "\n"
     ]
    },
    {
     "name": "stdout",
     "output_type": "stream",
     "text": [
      "/Volumes/Kek_2Tt_7T/TMA_analysis/TMA_thy_stacksandmasks/305_GC1/quantification/305_GC1_bcl6status.csv\n"
     ]
    },
    {
     "name": "stderr",
     "output_type": "stream",
     "text": [
      "/var/folders/02/vkyq99757hsfjng_p8wh1wkc0bfbtx/T/ipykernel_96970/1421698353.py:48: FutureWarning:\n",
      "\n",
      "Downcasting behavior in `replace` is deprecated and will be removed in a future version. To retain the old behavior, explicitly call `result.infer_objects(copy=False)`. To opt-in to the future behavior, set `pd.set_option('future.no_silent_downcasting', True)`\n",
      "\n"
     ]
    },
    {
     "name": "stdout",
     "output_type": "stream",
     "text": [
      "/Volumes/Kek_2Tt_7T/TMA_analysis/TMA_thy_stacksandmasks/306_GC1/quantification/306_GC1_bcl6status.csv\n"
     ]
    },
    {
     "name": "stderr",
     "output_type": "stream",
     "text": [
      "/var/folders/02/vkyq99757hsfjng_p8wh1wkc0bfbtx/T/ipykernel_96970/1421698353.py:48: FutureWarning:\n",
      "\n",
      "Downcasting behavior in `replace` is deprecated and will be removed in a future version. To retain the old behavior, explicitly call `result.infer_objects(copy=False)`. To opt-in to the future behavior, set `pd.set_option('future.no_silent_downcasting', True)`\n",
      "\n"
     ]
    },
    {
     "name": "stdout",
     "output_type": "stream",
     "text": [
      "/Volumes/Kek_2Tt_7T/TMA_analysis/TMA_thy_stacksandmasks/315_GC1/quantification/315_GC1_bcl6status.csv\n"
     ]
    },
    {
     "name": "stderr",
     "output_type": "stream",
     "text": [
      "/var/folders/02/vkyq99757hsfjng_p8wh1wkc0bfbtx/T/ipykernel_96970/1421698353.py:48: FutureWarning:\n",
      "\n",
      "Downcasting behavior in `replace` is deprecated and will be removed in a future version. To retain the old behavior, explicitly call `result.infer_objects(copy=False)`. To opt-in to the future behavior, set `pd.set_option('future.no_silent_downcasting', True)`\n",
      "\n"
     ]
    },
    {
     "name": "stdout",
     "output_type": "stream",
     "text": [
      "/Volumes/Kek_2Tt_7T/TMA_analysis/TMA_thy_stacksandmasks/315_GC2/quantification/315_GC2_bcl6status.csv\n"
     ]
    }
   ],
   "source": [
    "for txt_file in txt_file_list:\n",
    "    df = pd.read_csv(txt_file, sep=',')\n",
    "    markers = ['DAP1', 'HEV', 'FOXP3', 'ICOS', 'CD27', 'DAPI2',\n",
    "       'CD19', 'BCL6', 'DAPI3', 'CD4', 'CXCR5', 'PD1', 'DAPI4', 'KI67', 'CD3',\n",
    "       'CD8', 'DAPI5', 'AE1_3', 'CD21', 'DAPI6', 'CD20']\n",
    "    # Create a new DataFrame to store the processed results\n",
    "    for marker in markers:\n",
    "        if marker in df.columns:\n",
    "            df[marker] = np.log1p(df[marker])\n",
    "    new_full_df_nmm = df\n",
    "    markers = ['BCL6','CD27']\n",
    "    # Loop through each marker\n",
    "    for marker in markers:\n",
    "        status_col = f'{marker}_status_4'  # Generate a status column name based on the marker\n",
    "        new_full_df_nmm[status_col] = np.nan  # Initialize the new column\n",
    "        all_annotated_labels = []  # Create an empty list to hold all the annotated labels\n",
    "        subset_data = new_full_df_nmm\n",
    "        data = subset_data[marker].values.reshape(-1, 1)\n",
    "\n",
    "        # Initialize and fit the GMM with 4 components\n",
    "        gmm = GaussianMixture(n_components=4, random_state=0)\n",
    "        gmm.fit(data)\n",
    "        labels = gmm.predict(data)\n",
    "        \n",
    "        label_df = pd.DataFrame({\"label\": labels, marker: subset_data[marker].values})\n",
    "        medians = label_df.groupby(\"label\")[marker].median().sort_values().index\n",
    "\n",
    "        # Map the labels to the descriptive categories\n",
    "        status_labels = [\"bg\", \"low\", \"med\", \"hi\"]\n",
    "        label_mapping = {medians[i]: status_labels[i] for i in range(len(medians))}\n",
    "        annotated_labels = [label_mapping[label] for label in labels]\n",
    "        all_annotated_labels.extend(annotated_labels)\n",
    "\n",
    "        # Assign the annotated labels back to the corresponding status column in the DataFrame\n",
    "        new_full_df_nmm[status_col] = all_annotated_labels\n",
    "\n",
    "    status_mapping = {\n",
    "        'bg': 0,\n",
    "        'low': 1,\n",
    "        'med': 2,\n",
    "        'hi': 3 }\n",
    "    \n",
    "    # List of columns ending with '_status'\n",
    "    status_columns = [col for col in new_full_df_nmm.columns if col.endswith('_status_4')]\n",
    "    df = new_full_df_nmm\n",
    "    # Apply the mapping to the relevant columns\n",
    "    for col in status_columns:\n",
    "        new_full_df_nmm[col] = new_full_df_nmm[col].replace(status_mapping)\n",
    "    classification_data = new_full_df_nmm[status_columns]\n",
    "    modified_file_path = txt_file.replace('.txt', '_bcl6status.csv')  # Change '.txt' to '.csv' if necessary\n",
    "    print(modified_file_path)\n",
    "    new_full_df_nmm.to_csv(modified_file_path, sep=',', index=False)\n"
   ]
  },
  {
   "cell_type": "code",
   "execution_count": null,
   "metadata": {
    "collapsed": true,
    "jupyter": {
     "outputs_hidden": true,
     "source_hidden": true
    }
   },
   "outputs": [],
   "source": []
  },
  {
   "cell_type": "code",
   "execution_count": 11,
   "metadata": {
    "collapsed": true,
    "jupyter": {
     "outputs_hidden": true,
     "source_hidden": true
    },
    "scrolled": true
   },
   "outputs": [
    {
     "ename": "AttributeError",
     "evalue": "'DataFrame' object has no attribute 'obs'",
     "output_type": "error",
     "traceback": [
      "\u001b[0;31m---------------------------------------------------------------------------\u001b[0m",
      "\u001b[0;31mAttributeError\u001b[0m                            Traceback (most recent call last)",
      "\u001b[0;32m/var/folders/02/vkyq99757hsfjng_p8wh1wkc0bfbtx/T/ipykernel_96970/1836265140.py\u001b[0m in \u001b[0;36m?\u001b[0;34m()\u001b[0m\n\u001b[0;32m----> 1\u001b[0;31m \u001b[0mnew_full_df_nmm\u001b[0m\u001b[0;34m.\u001b[0m\u001b[0mobs\u001b[0m\u001b[0;34m\u001b[0m\u001b[0;34m\u001b[0m\u001b[0m\n\u001b[0m",
      "\u001b[0;32m~/opt/anaconda3/envs/scimap/lib/python3.10/site-packages/pandas/core/generic.py\u001b[0m in \u001b[0;36m?\u001b[0;34m(self, name)\u001b[0m\n\u001b[1;32m   6295\u001b[0m             \u001b[0;32mand\u001b[0m \u001b[0mname\u001b[0m \u001b[0;32mnot\u001b[0m \u001b[0;32min\u001b[0m \u001b[0mself\u001b[0m\u001b[0;34m.\u001b[0m\u001b[0m_accessors\u001b[0m\u001b[0;34m\u001b[0m\u001b[0;34m\u001b[0m\u001b[0m\n\u001b[1;32m   6296\u001b[0m             \u001b[0;32mand\u001b[0m \u001b[0mself\u001b[0m\u001b[0;34m.\u001b[0m\u001b[0m_info_axis\u001b[0m\u001b[0;34m.\u001b[0m\u001b[0m_can_hold_identifiers_and_holds_name\u001b[0m\u001b[0;34m(\u001b[0m\u001b[0mname\u001b[0m\u001b[0;34m)\u001b[0m\u001b[0;34m\u001b[0m\u001b[0;34m\u001b[0m\u001b[0m\n\u001b[1;32m   6297\u001b[0m         ):\n\u001b[1;32m   6298\u001b[0m             \u001b[0;32mreturn\u001b[0m \u001b[0mself\u001b[0m\u001b[0;34m[\u001b[0m\u001b[0mname\u001b[0m\u001b[0;34m]\u001b[0m\u001b[0;34m\u001b[0m\u001b[0;34m\u001b[0m\u001b[0m\n\u001b[0;32m-> 6299\u001b[0;31m         \u001b[0;32mreturn\u001b[0m \u001b[0mobject\u001b[0m\u001b[0;34m.\u001b[0m\u001b[0m__getattribute__\u001b[0m\u001b[0;34m(\u001b[0m\u001b[0mself\u001b[0m\u001b[0;34m,\u001b[0m \u001b[0mname\u001b[0m\u001b[0;34m)\u001b[0m\u001b[0;34m\u001b[0m\u001b[0;34m\u001b[0m\u001b[0m\n\u001b[0m",
      "\u001b[0;31mAttributeError\u001b[0m: 'DataFrame' object has no attribute 'obs'"
     ]
    }
   ],
   "source": [
    "new_full_df_nmm"
   ]
  },
  {
   "cell_type": "code",
   "execution_count": null,
   "metadata": {
    "collapsed": true,
    "jupyter": {
     "outputs_hidden": true,
     "source_hidden": true
    }
   },
   "outputs": [],
   "source": []
  },
  {
   "cell_type": "code",
   "execution_count": null,
   "metadata": {
    "collapsed": true,
    "jupyter": {
     "outputs_hidden": true,
     "source_hidden": true
    }
   },
   "outputs": [],
   "source": []
  },
  {
   "cell_type": "code",
   "execution_count": 10,
   "metadata": {
    "collapsed": true,
    "jupyter": {
     "outputs_hidden": true,
     "source_hidden": true
    },
    "scrolled": true
   },
   "outputs": [
    {
     "name": "stderr",
     "output_type": "stream",
     "text": [
      "/var/folders/02/vkyq99757hsfjng_p8wh1wkc0bfbtx/T/ipykernel_96970/3764401669.py:10: SettingWithCopyWarning:\n",
      "\n",
      "\n",
      "A value is trying to be set on a copy of a slice from a DataFrame\n",
      "\n",
      "See the caveats in the documentation: https://pandas.pydata.org/pandas-docs/stable/user_guide/indexing.html#returning-a-view-versus-a-copy\n",
      "\n",
      "/Users/jssarkki/opt/anaconda3/envs/scimap/lib/python3.10/site-packages/anndata/_core/aligned_df.py:68: ImplicitModificationWarning:\n",
      "\n",
      "Transforming to str index.\n",
      "\n"
     ]
    }
   ],
   "source": [
    "###CHECKING on images\n",
    "marker_list_with_DNA = ['DAP1', 'HEV', 'FOXP3', 'ICOS', 'CD27', 'DAPI2',\n",
    "       'CD19', 'BCL6', 'DAPI3', 'CD4', 'CXCR5', 'PD1', 'DAPI4', 'KI67', 'CD3',\n",
    "       'CD8', 'DAPI5', 'AE1_3', 'CD21', 'DAPI6', 'CD20']\n",
    "\n",
    "data = new_full_df_nmm[marker_list_with_DNA]\n",
    "meta = new_full_df_nmm.drop(columns=marker_list_with_DNA)\n",
    "#Remove DNA channels\n",
    "hoechst_columns = [col for col in data.columns if \"DNA\" in col]\n",
    "data.drop(columns=hoechst_columns, inplace=True)\n",
    "columns = data.columns\n",
    "data = np.log1p(data[data.columns])\n",
    "adata = ad.AnnData (data)\n",
    "adata.obs = meta\n",
    "directory_img = \"/Volumes/Kek_2Tt_7T/TMA_analysis/TMA_thy_stacksandmasks/327_GC1/\"\n",
    "sample = \"327_GC1\"\n",
    "file_image_dir = directory_img + sample + \".tif\"\n",
    "sample_data=adata\n",
    "sm.pl.image_viewer(file_image_dir, sample_data, overlay = 'BCL6_status_4', channel_names = marker_list_with_DNA,x_coordinate=\"X_centroid\",y_coordinate=\"Y_centroid\", point_size=10)\n"
   ]
  },
  {
   "cell_type": "code",
   "execution_count": 16,
   "metadata": {
    "collapsed": true,
    "jupyter": {
     "outputs_hidden": true,
     "source_hidden": true
    }
   },
   "outputs": [
    {
     "data": {
      "text/html": [
       "<div>\n",
       "<style scoped>\n",
       "    .dataframe tbody tr th:only-of-type {\n",
       "        vertical-align: middle;\n",
       "    }\n",
       "\n",
       "    .dataframe tbody tr th {\n",
       "        vertical-align: top;\n",
       "    }\n",
       "\n",
       "    .dataframe thead th {\n",
       "        text-align: right;\n",
       "    }\n",
       "</style>\n",
       "<table border=\"1\" class=\"dataframe\">\n",
       "  <thead>\n",
       "    <tr style=\"text-align: right;\">\n",
       "      <th></th>\n",
       "      <th>CellID</th>\n",
       "      <th>Y_centroid</th>\n",
       "      <th>X_centroid</th>\n",
       "      <th>Area</th>\n",
       "      <th>Eccentricity</th>\n",
       "      <th>MajorAxisLength</th>\n",
       "      <th>MinorAxisLength</th>\n",
       "      <th>Solidity</th>\n",
       "      <th>Extent</th>\n",
       "      <th>BCL6_status_4</th>\n",
       "      <th>CD27_status_4</th>\n",
       "    </tr>\n",
       "  </thead>\n",
       "  <tbody>\n",
       "    <tr>\n",
       "      <th>0</th>\n",
       "      <td>1</td>\n",
       "      <td>2308.208333</td>\n",
       "      <td>2325.125000</td>\n",
       "      <td>96.0</td>\n",
       "      <td>0.808494</td>\n",
       "      <td>NaN</td>\n",
       "      <td>NaN</td>\n",
       "      <td>NaN</td>\n",
       "      <td>NaN</td>\n",
       "      <td>1</td>\n",
       "      <td>2</td>\n",
       "    </tr>\n",
       "    <tr>\n",
       "      <th>1</th>\n",
       "      <td>2</td>\n",
       "      <td>1438.623762</td>\n",
       "      <td>2317.698020</td>\n",
       "      <td>202.0</td>\n",
       "      <td>0.824560</td>\n",
       "      <td>NaN</td>\n",
       "      <td>NaN</td>\n",
       "      <td>NaN</td>\n",
       "      <td>NaN</td>\n",
       "      <td>2</td>\n",
       "      <td>2</td>\n",
       "    </tr>\n",
       "    <tr>\n",
       "      <th>2</th>\n",
       "      <td>3</td>\n",
       "      <td>4776.455446</td>\n",
       "      <td>2374.099010</td>\n",
       "      <td>202.0</td>\n",
       "      <td>0.709135</td>\n",
       "      <td>NaN</td>\n",
       "      <td>NaN</td>\n",
       "      <td>NaN</td>\n",
       "      <td>NaN</td>\n",
       "      <td>0</td>\n",
       "      <td>0</td>\n",
       "    </tr>\n",
       "    <tr>\n",
       "      <th>3</th>\n",
       "      <td>4</td>\n",
       "      <td>4212.446009</td>\n",
       "      <td>2758.140845</td>\n",
       "      <td>213.0</td>\n",
       "      <td>0.768157</td>\n",
       "      <td>NaN</td>\n",
       "      <td>NaN</td>\n",
       "      <td>NaN</td>\n",
       "      <td>NaN</td>\n",
       "      <td>0</td>\n",
       "      <td>0</td>\n",
       "    </tr>\n",
       "    <tr>\n",
       "      <th>4</th>\n",
       "      <td>5</td>\n",
       "      <td>4501.756000</td>\n",
       "      <td>3732.000000</td>\n",
       "      <td>250.0</td>\n",
       "      <td>0.658651</td>\n",
       "      <td>NaN</td>\n",
       "      <td>NaN</td>\n",
       "      <td>NaN</td>\n",
       "      <td>NaN</td>\n",
       "      <td>2</td>\n",
       "      <td>3</td>\n",
       "    </tr>\n",
       "    <tr>\n",
       "      <th>...</th>\n",
       "      <td>...</td>\n",
       "      <td>...</td>\n",
       "      <td>...</td>\n",
       "      <td>...</td>\n",
       "      <td>...</td>\n",
       "      <td>...</td>\n",
       "      <td>...</td>\n",
       "      <td>...</td>\n",
       "      <td>...</td>\n",
       "      <td>...</td>\n",
       "      <td>...</td>\n",
       "    </tr>\n",
       "    <tr>\n",
       "      <th>41245</th>\n",
       "      <td>41246</td>\n",
       "      <td>3774.583784</td>\n",
       "      <td>2491.362162</td>\n",
       "      <td>185.0</td>\n",
       "      <td>0.772442</td>\n",
       "      <td>NaN</td>\n",
       "      <td>NaN</td>\n",
       "      <td>NaN</td>\n",
       "      <td>NaN</td>\n",
       "      <td>0</td>\n",
       "      <td>1</td>\n",
       "    </tr>\n",
       "    <tr>\n",
       "      <th>41246</th>\n",
       "      <td>41247</td>\n",
       "      <td>3057.119048</td>\n",
       "      <td>2733.126984</td>\n",
       "      <td>126.0</td>\n",
       "      <td>0.683777</td>\n",
       "      <td>NaN</td>\n",
       "      <td>NaN</td>\n",
       "      <td>NaN</td>\n",
       "      <td>NaN</td>\n",
       "      <td>0</td>\n",
       "      <td>1</td>\n",
       "    </tr>\n",
       "    <tr>\n",
       "      <th>41247</th>\n",
       "      <td>41248</td>\n",
       "      <td>2883.363636</td>\n",
       "      <td>4438.909091</td>\n",
       "      <td>11.0</td>\n",
       "      <td>0.708444</td>\n",
       "      <td>NaN</td>\n",
       "      <td>NaN</td>\n",
       "      <td>NaN</td>\n",
       "      <td>NaN</td>\n",
       "      <td>1</td>\n",
       "      <td>3</td>\n",
       "    </tr>\n",
       "    <tr>\n",
       "      <th>41248</th>\n",
       "      <td>41249</td>\n",
       "      <td>3723.647059</td>\n",
       "      <td>5105.058824</td>\n",
       "      <td>17.0</td>\n",
       "      <td>0.875727</td>\n",
       "      <td>NaN</td>\n",
       "      <td>NaN</td>\n",
       "      <td>NaN</td>\n",
       "      <td>NaN</td>\n",
       "      <td>3</td>\n",
       "      <td>3</td>\n",
       "    </tr>\n",
       "    <tr>\n",
       "      <th>41249</th>\n",
       "      <td>41250</td>\n",
       "      <td>5567.778947</td>\n",
       "      <td>2835.768421</td>\n",
       "      <td>95.0</td>\n",
       "      <td>0.532655</td>\n",
       "      <td>NaN</td>\n",
       "      <td>NaN</td>\n",
       "      <td>NaN</td>\n",
       "      <td>NaN</td>\n",
       "      <td>1</td>\n",
       "      <td>2</td>\n",
       "    </tr>\n",
       "  </tbody>\n",
       "</table>\n",
       "<p>41250 rows × 11 columns</p>\n",
       "</div>"
      ],
      "text/plain": [
       "       CellID   Y_centroid   X_centroid   Area  Eccentricity  MajorAxisLength  \\\n",
       "0           1  2308.208333  2325.125000   96.0      0.808494              NaN   \n",
       "1           2  1438.623762  2317.698020  202.0      0.824560              NaN   \n",
       "2           3  4776.455446  2374.099010  202.0      0.709135              NaN   \n",
       "3           4  4212.446009  2758.140845  213.0      0.768157              NaN   \n",
       "4           5  4501.756000  3732.000000  250.0      0.658651              NaN   \n",
       "...       ...          ...          ...    ...           ...              ...   \n",
       "41245   41246  3774.583784  2491.362162  185.0      0.772442              NaN   \n",
       "41246   41247  3057.119048  2733.126984  126.0      0.683777              NaN   \n",
       "41247   41248  2883.363636  4438.909091   11.0      0.708444              NaN   \n",
       "41248   41249  3723.647059  5105.058824   17.0      0.875727              NaN   \n",
       "41249   41250  5567.778947  2835.768421   95.0      0.532655              NaN   \n",
       "\n",
       "       MinorAxisLength  Solidity  Extent  BCL6_status_4  CD27_status_4  \n",
       "0                  NaN       NaN     NaN              1              2  \n",
       "1                  NaN       NaN     NaN              2              2  \n",
       "2                  NaN       NaN     NaN              0              0  \n",
       "3                  NaN       NaN     NaN              0              0  \n",
       "4                  NaN       NaN     NaN              2              3  \n",
       "...                ...       ...     ...            ...            ...  \n",
       "41245              NaN       NaN     NaN              0              1  \n",
       "41246              NaN       NaN     NaN              0              1  \n",
       "41247              NaN       NaN     NaN              1              3  \n",
       "41248              NaN       NaN     NaN              3              3  \n",
       "41249              NaN       NaN     NaN              1              2  \n",
       "\n",
       "[41250 rows x 11 columns]"
      ]
     },
     "execution_count": 16,
     "metadata": {},
     "output_type": "execute_result"
    }
   ],
   "source": [
    "adata.obs"
   ]
  },
  {
   "cell_type": "code",
   "execution_count": null,
   "metadata": {
    "collapsed": true,
    "jupyter": {
     "outputs_hidden": true,
     "source_hidden": true
    }
   },
   "outputs": [],
   "source": []
  },
  {
   "cell_type": "markdown",
   "metadata": {},
   "source": [
    "Check the outcome"
   ]
  },
  {
   "cell_type": "code",
   "execution_count": 2,
   "metadata": {},
   "outputs": [],
   "source": [
    "redu5 = pd.read_csv('/Volumes/Kek_2Tt_7T/TMA_analysis/TMA_reduced_quantified_bcl6_five/636_GC1_bcl6status.csv', sep=',')\n",
    "og = pd.read_csv('/Volumes/Kek_2Tt_7T/TMA_analysis/TMA_ms_stacksandmasks/636_GC1/quantification/636_GC1_bcl6status.csv', sep=',')"
   ]
  },
  {
   "cell_type": "code",
   "execution_count": 3,
   "metadata": {
    "scrolled": true
   },
   "outputs": [
    {
     "name": "stdout",
     "output_type": "stream",
     "text": [
      "       CellID   Y_centroid   X_centroid   Area  Eccentricity      DAP1  \\\n",
      "0           1  2391.313559  4322.135593  354.0      0.817441  8.499679   \n",
      "1           2  3581.918103  1860.827586  232.0      0.599276  8.986815   \n",
      "2           3  2034.432432   689.085586  222.0      0.745140  8.810263   \n",
      "3           4  3184.148148  1008.722222   54.0      0.364380  8.889630   \n",
      "4           5  1212.988142  3063.715415  253.0      0.506180  8.739803   \n",
      "...       ...          ...          ...    ...           ...       ...   \n",
      "23951   23952  4114.500000  1333.500000    8.0      0.939700  9.174169   \n",
      "23952   23953  2971.810345  2497.482759   58.0      0.812355  8.338800   \n",
      "23953   23954  3514.000000  1202.200000   15.0      0.817798  9.401490   \n",
      "23954   23955  2898.800000  2932.000000   25.0      0.887009  7.752541   \n",
      "23955   23956  2010.540404  4005.813131  198.0      0.889303  9.248633   \n",
      "\n",
      "            HEV     FOXP3      ICOS      CD27  ...     AE1_3      CD21  \\\n",
      "0      6.302634  5.394706  7.230682  7.140717  ...  6.364405  6.320336   \n",
      "1      6.247934  5.346040  6.488464  8.080468  ...  6.067188  5.950317   \n",
      "2      6.241417  5.266650  6.366439  8.153568  ...  5.932627  5.772451   \n",
      "3      6.372656  5.457061  7.068219  7.978825  ...  6.475119  5.791997   \n",
      "4      6.356506  5.255662  7.165545  7.220278  ...  6.278395  5.763418   \n",
      "...         ...       ...       ...       ...  ...       ...       ...   \n",
      "23951  6.325255  5.195038  5.929257  5.394196  ...  6.204810  5.750189   \n",
      "23952  6.464588  5.325782  6.816623  7.504088  ...  6.588571  5.948800   \n",
      "23953  6.408748  5.534180  7.761149  8.944898  ...  6.748994  5.673552   \n",
      "23954  6.424350  5.335228  7.276003  8.333386  ...  6.301886  5.823874   \n",
      "23955  6.547133  5.956857  7.457455  8.499195  ...  7.459854  6.319114   \n",
      "\n",
      "          DAPI6      CD20  MajorAxisLength  MinorAxisLength  Solidity  Extent  \\\n",
      "0      8.551906  6.824708              NaN              NaN       NaN     NaN   \n",
      "1      8.261627  6.886386              NaN              NaN       NaN     NaN   \n",
      "2      8.390731  6.394547              NaN              NaN       NaN     NaN   \n",
      "3      8.293864  6.749324              NaN              NaN       NaN     NaN   \n",
      "4      8.321389  6.378352              NaN              NaN       NaN     NaN   \n",
      "...         ...       ...              ...              ...       ...     ...   \n",
      "23951  8.141663  6.310373              NaN              NaN       NaN     NaN   \n",
      "23952  7.930318  6.741721              NaN              NaN       NaN     NaN   \n",
      "23953  8.997345  6.252161              NaN              NaN       NaN     NaN   \n",
      "23954  7.445394  6.315936              NaN              NaN       NaN     NaN   \n",
      "23955  9.114294  6.831185              NaN              NaN       NaN     NaN   \n",
      "\n",
      "       BCL6_status_4  CD27_status_4  \n",
      "0                neg            low  \n",
      "1                low            med  \n",
      "2                med            med  \n",
      "3                med            med  \n",
      "4                neg            low  \n",
      "...              ...            ...  \n",
      "23951             bg             bg  \n",
      "23952            neg            low  \n",
      "23953             hi             hi  \n",
      "23954            low             hi  \n",
      "23955            med             hi  \n",
      "\n",
      "[23956 rows x 32 columns]\n",
      "      SampleId  CellId      DAP1       HEV     FOXP3      ICOS      CD27  \\\n",
      "0      636_GC1       1  8.478630  6.326885  5.403150  7.213023  7.245143   \n",
      "1      636_GC1       2  8.965605  6.270291  5.358436  6.546575  8.249560   \n",
      "2      636_GC1       3  8.738656  6.302868  5.301537  6.457814  8.285478   \n",
      "3      636_GC1       4  8.677516  6.432123  5.410529  7.084198  8.086869   \n",
      "4      636_GC1       5  8.686843  6.391292  5.267872  7.267548  7.397753   \n",
      "...        ...     ...       ...       ...       ...       ...       ...   \n",
      "23951  636_GC1   23952  8.937113  6.339369  5.177252  5.944207  5.368253   \n",
      "23952  636_GC1   23953  8.278405  6.512298  5.340395  6.840582  7.502442   \n",
      "23953  636_GC1   23954  9.346526  6.440853  5.602119  7.640477  8.839170   \n",
      "23954  636_GC1   23955  7.685495  6.407016  5.341613  7.303391  8.252443   \n",
      "23955  636_GC1   23956  9.181769  6.564405  5.888559  7.515723  8.565243   \n",
      "\n",
      "          DAPI2      CD19      BCL6  ...  MajorAxisLength  MinorAxisLength  \\\n",
      "0      8.749372  7.399302  6.512458  ...        32.571392        19.550043   \n",
      "1      8.687396  6.985915  6.972116  ...        25.548243        21.189095   \n",
      "2      8.694165  6.604737  7.026784  ...        24.600364        17.687126   \n",
      "3      8.589322  6.773776  7.101964  ...        13.151951        11.748029   \n",
      "4      8.899141  6.795271  6.596940  ...        23.830723        20.910053   \n",
      "...         ...       ...       ...  ...              ...              ...   \n",
      "23951  8.849839  6.241179  6.113358  ...         9.944500         5.463600   \n",
      "23952  8.226127  6.839176  6.492866  ...        15.096448        10.344779   \n",
      "23953  9.212030  6.868449  7.672395  ...        11.594801         8.622148   \n",
      "23954  7.780566  6.763568  6.783620  ...        11.986244         7.960319   \n",
      "23955  9.512068  7.439783  7.195437  ...        28.730424        15.252916   \n",
      "\n",
      "       Eccentricity  Solidity  Perimeter  Roundness   X_position   Y_position  \\\n",
      "0          0.799834  0.974460     80.618   0.959020  4323.058468  2392.358871   \n",
      "1          0.558691  0.981439     71.339   1.044471  1860.342790  3583.066194   \n",
      "2          0.695033  0.968481     64.772   1.012400   690.044379  2035.420118   \n",
      "3          0.449553  0.983607     36.240   1.148193  1009.525000  3185.250000   \n",
      "4          0.479685  0.952141     69.825   0.974271  3064.650794  1213.902116   \n",
      "...             ...       ...        ...        ...          ...          ...   \n",
      "23951      0.835553  0.931818     21.825   1.081646  1334.365854  4115.756098   \n",
      "23952      0.728312  0.952756     38.589   1.021100  2498.537190  2972.752066   \n",
      "23953      0.668600  0.819277     33.494   0.761701  1203.500000  3514.514706   \n",
      "23954      0.747625  0.935897     29.690   1.040668  2932.945205  2899.931507   \n",
      "23955      0.847436  0.874659     70.801   0.804704  4006.482866  2011.498442   \n",
      "\n",
      "       BCL6_status_4  CD27_status_4  \n",
      "0                  0              1  \n",
      "1                  2              3  \n",
      "2                  2              3  \n",
      "3                  2              2  \n",
      "4                  1              2  \n",
      "...              ...            ...  \n",
      "23951              0              0  \n",
      "23952              0              2  \n",
      "23953              3              3  \n",
      "23954              1              3  \n",
      "23955              2              3  \n",
      "\n",
      "[23956 rows x 34 columns]\n"
     ]
    }
   ],
   "source": [
    "print(redu5)\n",
    "print(og)"
   ]
  },
  {
   "cell_type": "code",
   "execution_count": 5,
   "metadata": {
    "scrolled": true
   },
   "outputs": [
    {
     "name": "stderr",
     "output_type": "stream",
     "text": [
      "/var/folders/02/vkyq99757hsfjng_p8wh1wkc0bfbtx/T/ipykernel_50250/3076596209.py:10: SettingWithCopyWarning:\n",
      "\n",
      "\n",
      "A value is trying to be set on a copy of a slice from a DataFrame\n",
      "\n",
      "See the caveats in the documentation: https://pandas.pydata.org/pandas-docs/stable/user_guide/indexing.html#returning-a-view-versus-a-copy\n",
      "\n",
      "/Users/jssarkki/opt/anaconda3/envs/scimap/lib/python3.10/site-packages/anndata/_core/aligned_df.py:68: ImplicitModificationWarning:\n",
      "\n",
      "Transforming to str index.\n",
      "\n",
      "/Users/jssarkki/opt/anaconda3/envs/scimap/lib/python3.10/site-packages/napari/_qt/widgets/qt_dims.py:309: UserWarning:\n",
      "\n",
      "Refusing to play a hidden axis\n",
      "\n"
     ]
    }
   ],
   "source": [
    "###CHECKING on images\n",
    "marker_list_with_DNA = ['DAP1', 'HEV', 'FOXP3', 'ICOS', 'CD27', 'DAPI2',\n",
    "       'CD19', 'BCL6', 'DAPI3', 'CD4', 'CXCR5', 'PD1', 'DAPI4', 'KI67', 'CD3',\n",
    "       'CD8', 'DAPI5', 'AE1_3', 'CD21', 'DAPI6', 'CD20']\n",
    "\n",
    "data = redu5[marker_list_with_DNA]\n",
    "meta = redu5.drop(columns=marker_list_with_DNA)\n",
    "#Remove DNA channels\n",
    "hoechst_columns = [col for col in data.columns if \"DNA\" in col]\n",
    "data.drop(columns=hoechst_columns, inplace=True)\n",
    "columns = data.columns\n",
    "data = np.log1p(data[data.columns])\n",
    "adata = ad.AnnData (data)\n",
    "adata.obs = meta\n",
    "directory_img = \"/636_GC1/\"\n",
    "sample = \"636_GC1\"\n",
    "file_image_dir = directory_img + sample + \".tif\"\n",
    "sample_data=adata\n",
    "sm.pl.image_viewer(file_image_dir, sample_data, overlay = 'BCL6_status_4', channel_names = marker_list_with_DNA,x_coordinate=\"X_centroid\",y_coordinate=\"Y_centroid\", point_size=10)\n"
   ]
  },
  {
   "cell_type": "code",
   "execution_count": 6,
   "metadata": {},
   "outputs": [
    {
     "name": "stderr",
     "output_type": "stream",
     "text": [
      "/var/folders/02/vkyq99757hsfjng_p8wh1wkc0bfbtx/T/ipykernel_50250/2060526039.py:10: SettingWithCopyWarning:\n",
      "\n",
      "\n",
      "A value is trying to be set on a copy of a slice from a DataFrame\n",
      "\n",
      "See the caveats in the documentation: https://pandas.pydata.org/pandas-docs/stable/user_guide/indexing.html#returning-a-view-versus-a-copy\n",
      "\n",
      "/Users/jssarkki/opt/anaconda3/envs/scimap/lib/python3.10/site-packages/anndata/_core/aligned_df.py:68: ImplicitModificationWarning:\n",
      "\n",
      "Transforming to str index.\n",
      "\n"
     ]
    }
   ],
   "source": [
    "###CHECKING on images\n",
    "marker_list_with_DNA = ['DAP1', 'HEV', 'FOXP3', 'ICOS', 'CD27', 'DAPI2',\n",
    "       'CD19', 'BCL6', 'DAPI3', 'CD4', 'CXCR5', 'PD1', 'DAPI4', 'KI67', 'CD3',\n",
    "       'CD8', 'DAPI5', 'AE1_3', 'CD21', 'DAPI6', 'CD20']\n",
    "\n",
    "data = og[marker_list_with_DNA]\n",
    "meta = og.drop(columns=marker_list_with_DNA)\n",
    "#Remove DNA channels\n",
    "hoechst_columns = [col for col in data.columns if \"DNA\" in col]\n",
    "data.drop(columns=hoechst_columns, inplace=True)\n",
    "columns = data.columns\n",
    "data = np.log1p(data[data.columns])\n",
    "adata = ad.AnnData (data)\n",
    "adata.obs = meta\n",
    "directory_img = \"/Volumes/Kek_2Tt_7T/TMA_analysis/TMA_ms_stacksandmasks/636_GC1/\"\n",
    "sample = \"636_GC1\"\n",
    "file_image_dir = directory_img + sample + \".tif\"\n",
    "sample_data=adata\n",
    "sm.pl.image_viewer(file_image_dir, sample_data, overlay = 'BCL6_status_4', channel_names = marker_list_with_DNA,x_coordinate=\"X_position\",y_coordinate=\"Y_position\", point_size=10)\n"
   ]
  },
  {
   "cell_type": "code",
   "execution_count": null,
   "metadata": {
    "collapsed": true,
    "jupyter": {
     "outputs_hidden": true,
     "source_hidden": true
    }
   },
   "outputs": [
    {
     "name": "stderr",
     "output_type": "stream",
     "text": [
      "C:\\Users\\Localadmin_junqmada\\AppData\\Local\\Temp\\ipykernel_24500\\2385991462.py:10: SettingWithCopyWarning:\n",
      "\n",
      "\n",
      "A value is trying to be set on a copy of a slice from a DataFrame\n",
      "\n",
      "See the caveats in the documentation: https://pandas.pydata.org/pandas-docs/stable/user_guide/indexing.html#returning-a-view-versus-a-copy\n",
      "\n",
      "C:\\Users\\Localadmin_junqmada\\AppData\\Roaming\\Python\\Python310\\site-packages\\anndata\\_core\\anndata.py:120: ImplicitModificationWarning:\n",
      "\n",
      "Transforming to str index.\n",
      "\n"
     ]
    }
   ],
   "source": [
    "###CHECKING on images\n",
    "marker_list_with_DNA = ['DAP1', 'HEV', 'FOXP3', 'ICOS', 'CD27', 'DAPI2',\n",
    "       'CD19', 'BCL6', 'DAPI3', 'CD4', 'CXCR5', 'PD1', 'DAPI4', 'KI67', 'CD3',\n",
    "       'CD8', 'DAPI5', 'AE1_3', 'CD21', 'DAPI6', 'CD20']\n",
    "\n",
    "data = new_full_df_nmm[marker_list_with_DNA]\n",
    "meta = new_full_df_nmm.drop(columns=marker_list_with_DNA)\n",
    "#Remove DNA channels\n",
    "hoechst_columns = [col for col in data.columns if \"DNA\" in col]\n",
    "data.drop(columns=hoechst_columns, inplace=True)\n",
    "columns = data.columns\n",
    "data = np.log1p(data[data.columns])\n",
    "adata = ad.AnnData (data)\n",
    "adata.obs = meta\n",
    "directory_img = \"D://joona//853//\"\n",
    "sample = \"853_GC1\"\n",
    "file_image_dir = directory_img + sample + \".tif\"\n",
    "sample_data=adata\n",
    "sm.pl.image_viewer(file_image_dir, sample_data, overlay = 'BCL6_status', channel_names = marker_list_with_DNA,x_coordinate=\"X_position\",y_coordinate=\"Y_position\", point_size=10)\n"
   ]
  }
 ],
 "metadata": {
  "kernelspec": {
   "display_name": "Python 3 (ipykernel)",
   "language": "python",
   "name": "python3"
  },
  "language_info": {
   "codemirror_mode": {
    "name": "ipython",
    "version": 3
   },
   "file_extension": ".py",
   "mimetype": "text/x-python",
   "name": "python",
   "nbconvert_exporter": "python",
   "pygments_lexer": "ipython3",
   "version": "3.10.15"
  }
 },
 "nbformat": 4,
 "nbformat_minor": 4
}
