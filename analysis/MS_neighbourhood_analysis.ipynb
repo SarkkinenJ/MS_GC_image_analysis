{
 "cells": [
  {
   "cell_type": "code",
   "execution_count": 1,
   "id": "5a9fe751-e81f-4262-a6fd-a060f2de25ad",
   "metadata": {},
   "outputs": [
    {
     "name": "stdout",
     "output_type": "stream",
     "text": [
      "Running SCIMAP  2.2.7\n"
     ]
    }
   ],
   "source": [
    "# Import Scimap\n",
    "import scimap as sm\n",
    "import anndata as ad\n",
    "import pandas as pd"
   ]
  },
  {
   "cell_type": "code",
   "execution_count": 2,
   "id": "d9e855fa-2d24-4945-8ead-c86e47b0d017",
   "metadata": {},
   "outputs": [
    {
     "name": "stdout",
     "output_type": "stream",
     "text": [
      "Loading rev1_axillary_NOpreDG_for_nb_spatialphenotypes.csv\n"
     ]
    },
    {
     "name": "stderr",
     "output_type": "stream",
     "text": [
      "/Users/jssarkki/opt/anaconda3/envs/scimap/lib/python3.10/site-packages/scimap/preprocessing/mcmicro_to_scimap.py:106: DtypeWarning:\n",
      "\n",
      "Columns (38,39) have mixed types. Specify dtype option on import or set low_memory=False.\n",
      "\n",
      "/Users/jssarkki/opt/anaconda3/envs/scimap/lib/python3.10/site-packages/anndata/utils.py:304: UserWarning:\n",
      "\n",
      "X converted to numpy array with dtype float64\n",
      "\n"
     ]
    }
   ],
   "source": [
    "df_nopre = sm.pp.mcmicro_to_scimap (\"/Volumes/Kek_2Tt_7T/MS_tma/data/rev1_axillary_NOpreDG_for_nb_spatialphenotypes.csv\")"
   ]
  },
  {
   "cell_type": "code",
   "execution_count": 4,
   "id": "369ba69a-a958-48cd-b219-e9547fdfaab2",
   "metadata": {
    "scrolled": true
   },
   "outputs": [
    {
     "name": "stdout",
     "output_type": "stream",
     "text": [
      "Loading rev1_preDGandCONTROLS_data_for_nb_spatialphenotypes.csv\n"
     ]
    },
    {
     "name": "stderr",
     "output_type": "stream",
     "text": [
      "/Users/jssarkki/opt/anaconda3/envs/scimap/lib/python3.10/site-packages/scimap/preprocessing/mcmicro_to_scimap.py:106: DtypeWarning:\n",
      "\n",
      "Columns (38,39) have mixed types. Specify dtype option on import or set low_memory=False.\n",
      "\n",
      "/Users/jssarkki/opt/anaconda3/envs/scimap/lib/python3.10/site-packages/anndata/utils.py:304: UserWarning:\n",
      "\n",
      "X converted to numpy array with dtype float64\n",
      "\n"
     ]
    }
   ],
   "source": [
    "df_pre = sm.pp.mcmicro_to_scimap (\"/Volumes/Kek_2Tt_7T/MS_tma/data/rev1_preDGandCONTROLS_data_for_nb_spatialphenotypes.csv\")"
   ]
  },
  {
   "cell_type": "code",
   "execution_count": 14,
   "id": "a694bca8-7fd2-472a-833c-810fe7b4d4ba",
   "metadata": {
    "scrolled": true
   },
   "outputs": [
    {
     "name": "stdout",
     "output_type": "stream",
     "text": [
      "Processing Image: 601_GC1\n",
      "Processing Image: 602_GC1\n",
      "Processing Image: 603_GC1\n",
      "Processing Image: 605_GC1\n",
      "Processing Image: 607_GC1\n",
      "Processing Image: 611_GC1\n",
      "Processing Image: 613_GC2\n",
      "Processing Image: 619_GC2\n",
      "Processing Image: 621_GC1\n",
      "Processing Image: 623_GC1\n",
      "Processing Image: 626_GC1\n",
      "Processing Image: 628_GC1\n",
      "Processing Image: 632_GC2\n",
      "Processing Image: 634_GC2\n",
      "Processing Image: 636_GC1\n",
      "Processing Image: 638_GC1\n",
      "Processing Image: 644_GC2\n",
      "Processing Image: 712_GC2\n",
      "Processing Image: 714_GC1\n",
      "Processing Image: 715_GC1\n",
      "Processing Image: 725_GC1\n",
      "Processing Image: 727_GC1\n",
      "Processing Image: 729_GC1\n",
      "Processing Image: 730_GC1\n",
      "Processing Image: 815_GC1\n",
      "Processing Image: 818_GC1\n",
      "Processing Image: 822_GC2\n",
      "Processing Image: 824_GC1\n",
      "Processing Image: 826_GC1\n",
      "Processing Image: 830_GC1\n",
      "Processing Image: 832_GC2\n",
      "Processing Image: 834_GC2\n",
      "Processing Image: 840_GC2\n",
      "Processing Image: 843_GC2\n",
      "Processing Image: 845_GC1\n",
      "Processing Image: 847_GC1\n",
      "Processing Image: 853_GC1\n",
      "Processing Image: 855_GC1\n",
      "Processing Image: 857_GC1\n",
      "Processing Image: 859_GC1\n",
      "Processing Image: 860_GC1\n",
      "Processing Image: 862_GC1\n",
      "Processing Image: 864_GC2\n",
      "Processing Image: 870_GC1\n",
      "Processing Image: 874_GC1\n",
      "Processing Image: 880_GC1\n",
      "Processing Image: 909_GC2\n",
      "Processing Image: 919_GC2\n",
      "Processing Image: 921_GC2\n",
      "Processing Image: 923_GC2\n",
      "Processing Image: 925_GC1\n",
      "Processing Image: 930_GC1\n",
      "Processing Image: 939_GC1\n",
      "Processing Image: 946_GC1\n",
      "Processing Image: 948_GC2\n"
     ]
    }
   ],
   "source": [
    "df_nopre = sm.tl.spatial_distance (df_nopre, \n",
    "                               x_coordinate='X_centroid', y_coordinate='Y_centroid', \n",
    "                               z_coordinate=None, \n",
    "                               phenotype='fineBCL6', \n",
    "                               subset=None, \n",
    "                               imageid='ImageID', \n",
    "                               label='fineBCL6_spatial_distance')"
   ]
  },
  {
   "cell_type": "code",
   "execution_count": 31,
   "id": "01268004-7ad3-4dfc-9524-b7ba6d536396",
   "metadata": {},
   "outputs": [
    {
     "name": "stdout",
     "output_type": "stream",
     "text": [
      "Saved plot to REV1_outs/fineBCL6_heatmap_Dendr_AxilNOpreDG.pdf\n"
     ]
    }
   ],
   "source": [
    "import seaborn as sns\n",
    "\n",
    "sns.set_context(\"talk\", font_scale=0.2)  # smaller fonts\n",
    "\n",
    "\n",
    "#Plot with scimap (shows in notebook)\n",
    "sm.pl.spatial_distance(df_nopre,\n",
    "                       spatial_distance='fineBCL6_spatial_distance',\n",
    "                       phenotype='fineBCL6', log=True, \n",
    "                       heatmap_col_cluster=True, heatmap_row_cluster=True,\n",
    "                       figsize=(5,4),\n",
    "                        fileName='fineBCL6_heatmap_Dendr_AxilNOpreDG.pdf', saveDir=\"REV1_outs/\")"
   ]
  },
  {
   "cell_type": "code",
   "execution_count": 6,
   "id": "a3854522-c938-4515-8acb-29355c87ad66",
   "metadata": {
    "scrolled": true
   },
   "outputs": [
    {
     "name": "stdout",
     "output_type": "stream",
     "text": [
      "Processing Image: 601_GC1\n",
      "Processing Image: 602_GC1\n",
      "Processing Image: 603_GC1\n",
      "Processing Image: 605_GC1\n",
      "Processing Image: 607_GC1\n",
      "Processing Image: 611_GC1\n",
      "Processing Image: 613_GC2\n",
      "Processing Image: 619_GC2\n",
      "Processing Image: 621_GC1\n",
      "Processing Image: 623_GC1\n",
      "Processing Image: 626_GC1\n",
      "Processing Image: 628_GC1\n",
      "Processing Image: 632_GC2\n",
      "Processing Image: 634_GC2\n",
      "Processing Image: 636_GC1\n",
      "Processing Image: 638_GC1\n",
      "Processing Image: 644_GC2\n",
      "Processing Image: 712_GC2\n",
      "Processing Image: 714_GC1\n",
      "Processing Image: 715_GC1\n",
      "Processing Image: 725_GC1\n",
      "Processing Image: 727_GC1\n",
      "Processing Image: 729_GC1\n",
      "Processing Image: 730_GC1\n",
      "Processing Image: 815_GC1\n",
      "Processing Image: 818_GC1\n",
      "Processing Image: 822_GC2\n",
      "Processing Image: 824_GC1\n",
      "Processing Image: 826_GC1\n",
      "Processing Image: 830_GC1\n",
      "Processing Image: 832_GC2\n",
      "Processing Image: 834_GC2\n",
      "Processing Image: 840_GC2\n",
      "Processing Image: 843_GC2\n",
      "Processing Image: 845_GC1\n",
      "Processing Image: 847_GC1\n",
      "Processing Image: 853_GC1\n",
      "Processing Image: 855_GC1\n",
      "Processing Image: 857_GC1\n",
      "Processing Image: 859_GC1\n",
      "Processing Image: 860_GC1\n",
      "Processing Image: 862_GC1\n",
      "Processing Image: 864_GC2\n",
      "Processing Image: 870_GC1\n",
      "Processing Image: 874_GC1\n",
      "Processing Image: 880_GC1\n",
      "Processing Image: 909_GC2\n",
      "Processing Image: 919_GC2\n",
      "Processing Image: 921_GC2\n",
      "Processing Image: 923_GC2\n",
      "Processing Image: 925_GC1\n",
      "Processing Image: 930_GC1\n",
      "Processing Image: 939_GC1\n",
      "Processing Image: 946_GC1\n",
      "Processing Image: 948_GC2\n"
     ]
    }
   ],
   "source": [
    "df_nopre = sm.tl.spatial_distance (df_nopre, \n",
    "                               x_coordinate='X_centroid', y_coordinate='Y_centroid', \n",
    "                               z_coordinate=None, \n",
    "                               phenotype='spatialpheno2', \n",
    "                               subset=None, \n",
    "                               imageid='ImageID', \n",
    "                               label='sp2_spatial_distance')"
   ]
  },
  {
   "cell_type": "code",
   "execution_count": 7,
   "id": "af5ee13e-08f1-4872-8a97-d469557c9080",
   "metadata": {},
   "outputs": [],
   "source": [
    "import matplotlib.pyplot as plt"
   ]
  },
  {
   "cell_type": "code",
   "execution_count": 8,
   "id": "1e98440d-cfcc-4148-8bed-945b83dd6556",
   "metadata": {},
   "outputs": [
    {
     "name": "stdout",
     "output_type": "stream",
     "text": [
      "Saved plot to REV1_outs/spatialpheno2_heatmap_Dendr_AxilNOpreDG.pdf\n"
     ]
    }
   ],
   "source": [
    "import seaborn as sns\n",
    "\n",
    "sns.set_context(\"talk\", font_scale=0.2)  # smaller fonts\n",
    "\n",
    "\n",
    "#Plot with scimap (shows in notebook)\n",
    "sm.pl.spatial_distance(df_nopre,\n",
    "                       spatial_distance='sp2_spatial_distance',\n",
    "                       phenotype='spatialpheno2', log=True, \n",
    "                       heatmap_col_cluster=True, heatmap_row_cluster=True,\n",
    "                       figsize=(5,4),\n",
    "                        fileName='spatialpheno2_heatmap_Dendr_AxilNOpreDG.pdf', saveDir=\"REV1_outs/\")\n"
   ]
  },
  {
   "cell_type": "code",
   "execution_count": 9,
   "id": "620662e6-8dd6-479a-b3c6-820e58fc9471",
   "metadata": {},
   "outputs": [],
   "source": [
    "post_sec = df_nopre[df_nopre.obs['follicle'] == 'sec', :]\n",
    "post_prim = df_nopre[df_nopre.obs['follicle'] == 'prim', :]\n"
   ]
  },
  {
   "cell_type": "code",
   "execution_count": 24,
   "id": "47c48a70-944f-489c-9032-4d564acfdd16",
   "metadata": {
    "collapsed": true,
    "jupyter": {
     "outputs_hidden": true
    }
   },
   "outputs": [
    {
     "name": "stdout",
     "output_type": "stream",
     "text": [
      "Processing Image: 607_GC1\n",
      "Processing Image: 632_GC2\n",
      "Processing Image: 638_GC1\n",
      "Processing Image: 725_GC1\n",
      "Processing Image: 727_GC1\n",
      "Processing Image: 815_GC1\n",
      "Processing Image: 822_GC2\n",
      "Processing Image: 824_GC1\n",
      "Processing Image: 830_GC1\n",
      "Processing Image: 834_GC2\n",
      "Processing Image: 843_GC2\n",
      "Processing Image: 845_GC1\n",
      "Processing Image: 855_GC1\n",
      "Processing Image: 874_GC1\n",
      "Processing Image: 919_GC2\n",
      "Processing Image: 921_GC2\n",
      "Processing Image: 923_GC2\n",
      "Processing Image: 930_GC1\n",
      "Processing Image: 939_GC1\n",
      "Processing Image: 948_GC2\n"
     ]
    },
    {
     "name": "stderr",
     "output_type": "stream",
     "text": [
      "/Users/jssarkki/opt/anaconda3/envs/scimap/lib/python3.10/site-packages/scimap/tools/spatial_distance.py:143: ImplicitModificationWarning:\n",
      "\n",
      "Trying to modify attribute `._uns` of view, initializing view as actual.\n",
      "\n"
     ]
    }
   ],
   "source": [
    "post_prim = sm.tl.spatial_distance (post_prim, \n",
    "                               x_coordinate='X_centroid', y_coordinate='Y_centroid', \n",
    "                               z_coordinate=None, \n",
    "                               phenotype='fineBCL6', \n",
    "                               subset=None, \n",
    "                               imageid='ImageID', \n",
    "                               label='fineBCL6_spatial_distance')"
   ]
  },
  {
   "cell_type": "code",
   "execution_count": 25,
   "id": "8c293db7-6cc9-444f-9c25-679f44def929",
   "metadata": {
    "collapsed": true,
    "jupyter": {
     "outputs_hidden": true
    },
    "scrolled": true
   },
   "outputs": [
    {
     "name": "stdout",
     "output_type": "stream",
     "text": [
      "Processing Image: 602_GC1\n",
      "Processing Image: 603_GC1\n",
      "Processing Image: 619_GC2\n",
      "Processing Image: 626_GC1\n",
      "Processing Image: 628_GC1\n",
      "Processing Image: 634_GC2\n",
      "Processing Image: 636_GC1\n",
      "Processing Image: 712_GC2\n",
      "Processing Image: 714_GC1\n",
      "Processing Image: 715_GC1\n",
      "Processing Image: 729_GC1\n",
      "Processing Image: 730_GC1\n",
      "Processing Image: 818_GC1\n",
      "Processing Image: 826_GC1\n",
      "Processing Image: 832_GC2\n",
      "Processing Image: 840_GC2\n",
      "Processing Image: 847_GC1\n",
      "Processing Image: 853_GC1\n",
      "Processing Image: 857_GC1\n",
      "Processing Image: 859_GC1\n",
      "Processing Image: 862_GC1\n",
      "Processing Image: 864_GC2\n",
      "Processing Image: 909_GC2\n",
      "Processing Image: 925_GC1\n",
      "Processing Image: 946_GC1\n"
     ]
    },
    {
     "name": "stderr",
     "output_type": "stream",
     "text": [
      "/Users/jssarkki/opt/anaconda3/envs/scimap/lib/python3.10/site-packages/scimap/tools/spatial_distance.py:143: ImplicitModificationWarning:\n",
      "\n",
      "Trying to modify attribute `._uns` of view, initializing view as actual.\n",
      "\n"
     ]
    }
   ],
   "source": [
    "post_sec = sm.tl.spatial_distance (post_sec, \n",
    "                               x_coordinate='X_centroid', y_coordinate='Y_centroid', \n",
    "                               z_coordinate=None, \n",
    "                               phenotype='fineBCL6', \n",
    "                               subset=None, \n",
    "                               imageid='ImageID', \n",
    "                               label='fineBCL6_spatial_distance')"
   ]
  },
  {
   "cell_type": "code",
   "execution_count": null,
   "id": "136e53a1-5f19-4dfc-9ea8-e3c71a5eb673",
   "metadata": {},
   "outputs": [],
   "source": []
  },
  {
   "cell_type": "code",
   "execution_count": 26,
   "id": "d87ef018-7db2-4362-b379-b81d2adf8697",
   "metadata": {
    "scrolled": true
   },
   "outputs": [
    {
     "name": "stdout",
     "output_type": "stream",
     "text": [
      "Saved plot to REV1_outs/fineBCL6_spatial_distance_FROMtfh_TOselected_ROIs_AxilNOpreDG_primfol.pdf\n",
      "Saved plot to REV1_outs/fineBCL6_spatial_distance_FROMtfh_TOselected_ROIs_AxilNOpreDG_secfol.pdf\n"
     ]
    }
   ],
   "source": [
    "sm.pl.spatial_distance (post_prim, spatial_distance='fineBCL6_spatial_distance', phenotype='fineBCL6', method='numeric', \n",
    "                        distance_from='Th.PD1.BCL6', distance_to=distance_to, \n",
    "                        log=True, imageid='ROI', \n",
    "                        height=3, aspect=9/8,\n",
    "                        fileName='fineBCL6_spatial_distance_FROMtfh_TOselected_ROIs_AxilNOpreDG_primfol.pdf', saveDir=\"REV1_outs/\")\n",
    "sm.pl.spatial_distance (post_sec, spatial_distance='fineBCL6_spatial_distance', phenotype='fineBCL6', method='numeric', \n",
    "                        distance_from='Th.PD1.BCL6', distance_to=distance_to, \n",
    "                        log=True, imageid='ROI', \n",
    "                        height=3, aspect=9/8,\n",
    "                        fileName='fineBCL6_spatial_distance_FROMtfh_TOselected_ROIs_AxilNOpreDG_secfol.pdf', saveDir=\"REV1_outs/\")"
   ]
  },
  {
   "cell_type": "code",
   "execution_count": 27,
   "id": "27edfed9-d55f-42a3-9f82-2fe662e55597",
   "metadata": {},
   "outputs": [
    {
     "name": "stdout",
     "output_type": "stream",
     "text": [
      "Saved plot to REV1_outs/fineBCL6_heatmap_Dendr_AxilNOpreDG_primfol.pdf\n",
      "Saved plot to REV1_outs/fineBCL6_heatmap_Dendr_AxilNOpreDG_secfol.pdf\n"
     ]
    }
   ],
   "source": [
    "import seaborn as sns\n",
    "\n",
    "sns.set_context(\"talk\", font_scale=0.2)  # smaller fonts\n",
    "\n",
    "\n",
    "#Plot with scimap (shows in notebook)\n",
    "sm.pl.spatial_distance(post_prim,\n",
    "                       spatial_distance='fineBCL6_spatial_distance',\n",
    "                       phenotype='fineBCL6', log=True, \n",
    "                       heatmap_col_cluster=True, heatmap_row_cluster=True,\n",
    "                       figsize=(5,4),\n",
    "                        fileName='fineBCL6_heatmap_Dendr_AxilNOpreDG_primfol.pdf', saveDir=\"REV1_outs/\")\n",
    "\n",
    "sm.pl.spatial_distance(post_sec,\n",
    "                       spatial_distance='fineBCL6_spatial_distance',\n",
    "                       phenotype='fineBCL6', log=True, \n",
    "                       heatmap_col_cluster=True, heatmap_row_cluster=True,\n",
    "                       figsize=(5,4),\n",
    "                        fileName='fineBCL6_heatmap_Dendr_AxilNOpreDG_secfol.pdf', saveDir=\"REV1_outs/\")"
   ]
  },
  {
   "cell_type": "code",
   "execution_count": null,
   "id": "5c335193-7c0e-4a74-a312-f9d594c72214",
   "metadata": {},
   "outputs": [],
   "source": []
  },
  {
   "cell_type": "code",
   "execution_count": null,
   "id": "252f8489-3da8-4f60-832d-dcd1619edff6",
   "metadata": {},
   "outputs": [],
   "source": []
  },
  {
   "cell_type": "code",
   "execution_count": null,
   "id": "2ee07df4-4470-4a69-9db0-4c0147a10da5",
   "metadata": {},
   "outputs": [
    {
     "name": "stdout",
     "output_type": "stream",
     "text": [
      "Processing Image: ['601_GC1']\n",
      "Identifying the 10 nearest neighbours for every cell\n",
      "Mapping phenotype to neighbors\n",
      "Performing 1000 permutations\n"
     ]
    },
    {
     "name": "stderr",
     "output_type": "stream",
     "text": [
      "python(19289) MallocStackLogging: can't turn off malloc stack logging because it was not enabled.\n",
      "python(19291) MallocStackLogging: can't turn off malloc stack logging because it was not enabled.\n",
      "python(19292) MallocStackLogging: can't turn off malloc stack logging because it was not enabled.\n",
      "python(19293) MallocStackLogging: can't turn off malloc stack logging because it was not enabled.\n",
      "python(19294) MallocStackLogging: can't turn off malloc stack logging because it was not enabled.\n",
      "python(19295) MallocStackLogging: can't turn off malloc stack logging because it was not enabled.\n",
      "python(19296) MallocStackLogging: can't turn off malloc stack logging because it was not enabled.\n",
      "python(19297) MallocStackLogging: can't turn off malloc stack logging because it was not enabled.\n"
     ]
    },
    {
     "name": "stdout",
     "output_type": "stream",
     "text": [
      "Consolidating the permutation results\n",
      "Processing Image: ['602_GC1']\n",
      "Identifying the 10 nearest neighbours for every cell\n",
      "Mapping phenotype to neighbors\n",
      "Performing 1000 permutations\n",
      "Consolidating the permutation results\n",
      "Processing Image: ['603_GC1']\n",
      "Identifying the 10 nearest neighbours for every cell\n",
      "Mapping phenotype to neighbors\n",
      "Performing 1000 permutations\n",
      "Consolidating the permutation results\n",
      "Processing Image: ['605_GC1']\n",
      "Identifying the 10 nearest neighbours for every cell\n",
      "Mapping phenotype to neighbors\n",
      "Performing 1000 permutations\n",
      "Consolidating the permutation results\n",
      "Processing Image: ['607_GC1']\n",
      "Identifying the 10 nearest neighbours for every cell\n",
      "Mapping phenotype to neighbors\n",
      "Performing 1000 permutations\n",
      "Consolidating the permutation results\n",
      "Processing Image: ['611_GC1']\n",
      "Identifying the 10 nearest neighbours for every cell\n",
      "Mapping phenotype to neighbors\n",
      "Performing 1000 permutations\n",
      "Consolidating the permutation results\n",
      "Processing Image: ['613_GC2']\n",
      "Identifying the 10 nearest neighbours for every cell\n",
      "Mapping phenotype to neighbors\n",
      "Performing 1000 permutations\n",
      "Consolidating the permutation results\n",
      "Processing Image: ['619_GC2']\n",
      "Identifying the 10 nearest neighbours for every cell\n",
      "Mapping phenotype to neighbors\n",
      "Performing 1000 permutations\n",
      "Consolidating the permutation results\n",
      "Processing Image: ['621_GC1']\n",
      "Identifying the 10 nearest neighbours for every cell\n",
      "Mapping phenotype to neighbors\n",
      "Performing 1000 permutations\n",
      "Consolidating the permutation results\n",
      "Processing Image: ['623_GC1']\n",
      "Identifying the 10 nearest neighbours for every cell\n",
      "Mapping phenotype to neighbors\n",
      "Performing 1000 permutations\n",
      "Consolidating the permutation results\n",
      "Processing Image: ['626_GC1']\n",
      "Identifying the 10 nearest neighbours for every cell\n",
      "Mapping phenotype to neighbors\n",
      "Performing 1000 permutations\n",
      "Consolidating the permutation results\n",
      "Processing Image: ['628_GC1']\n",
      "Identifying the 10 nearest neighbours for every cell\n",
      "Mapping phenotype to neighbors\n",
      "Performing 1000 permutations\n",
      "Consolidating the permutation results\n",
      "Processing Image: ['632_GC2']\n",
      "Identifying the 10 nearest neighbours for every cell\n",
      "Mapping phenotype to neighbors\n",
      "Performing 1000 permutations\n",
      "Consolidating the permutation results\n",
      "Processing Image: ['634_GC2']\n",
      "Identifying the 10 nearest neighbours for every cell\n",
      "Mapping phenotype to neighbors\n",
      "Performing 1000 permutations\n",
      "Consolidating the permutation results\n",
      "Processing Image: ['636_GC1']\n",
      "Identifying the 10 nearest neighbours for every cell\n",
      "Mapping phenotype to neighbors\n",
      "Performing 1000 permutations\n",
      "Consolidating the permutation results\n",
      "Processing Image: ['638_GC1']\n",
      "Identifying the 10 nearest neighbours for every cell\n",
      "Mapping phenotype to neighbors\n",
      "Performing 1000 permutations\n",
      "Consolidating the permutation results\n",
      "Processing Image: ['644_GC2']\n",
      "Identifying the 10 nearest neighbours for every cell\n",
      "Mapping phenotype to neighbors\n",
      "Performing 1000 permutations\n",
      "Consolidating the permutation results\n",
      "Processing Image: ['712_GC2']\n",
      "Identifying the 10 nearest neighbours for every cell\n",
      "Mapping phenotype to neighbors\n",
      "Performing 1000 permutations\n",
      "Consolidating the permutation results\n",
      "Processing Image: ['714_GC1']\n",
      "Identifying the 10 nearest neighbours for every cell\n",
      "Mapping phenotype to neighbors\n",
      "Performing 1000 permutations\n",
      "Consolidating the permutation results\n",
      "Processing Image: ['715_GC1']\n",
      "Identifying the 10 nearest neighbours for every cell\n",
      "Mapping phenotype to neighbors\n",
      "Performing 1000 permutations\n",
      "Consolidating the permutation results\n",
      "Processing Image: ['725_GC1']\n",
      "Identifying the 10 nearest neighbours for every cell\n",
      "Mapping phenotype to neighbors\n",
      "Performing 1000 permutations\n",
      "Consolidating the permutation results\n",
      "Processing Image: ['727_GC1']\n",
      "Identifying the 10 nearest neighbours for every cell\n",
      "Mapping phenotype to neighbors\n",
      "Performing 1000 permutations\n",
      "Consolidating the permutation results\n",
      "Processing Image: ['729_GC1']\n",
      "Identifying the 10 nearest neighbours for every cell\n",
      "Mapping phenotype to neighbors\n",
      "Performing 1000 permutations\n",
      "Consolidating the permutation results\n",
      "Processing Image: ['730_GC1']\n",
      "Identifying the 10 nearest neighbours for every cell\n",
      "Mapping phenotype to neighbors\n",
      "Performing 1000 permutations\n",
      "Consolidating the permutation results\n",
      "Processing Image: ['815_GC1']\n",
      "Identifying the 10 nearest neighbours for every cell\n",
      "Mapping phenotype to neighbors\n",
      "Performing 1000 permutations\n",
      "Consolidating the permutation results\n",
      "Processing Image: ['818_GC1']\n",
      "Identifying the 10 nearest neighbours for every cell\n",
      "Mapping phenotype to neighbors\n",
      "Performing 1000 permutations\n",
      "Consolidating the permutation results\n",
      "Processing Image: ['822_GC2']\n",
      "Identifying the 10 nearest neighbours for every cell\n",
      "Mapping phenotype to neighbors\n",
      "Performing 1000 permutations\n",
      "Consolidating the permutation results\n",
      "Processing Image: ['824_GC1']\n",
      "Identifying the 10 nearest neighbours for every cell\n",
      "Mapping phenotype to neighbors\n",
      "Performing 1000 permutations\n",
      "Consolidating the permutation results\n",
      "Processing Image: ['826_GC1']\n",
      "Identifying the 10 nearest neighbours for every cell\n",
      "Mapping phenotype to neighbors\n",
      "Performing 1000 permutations\n",
      "Consolidating the permutation results\n",
      "Processing Image: ['830_GC1']\n",
      "Identifying the 10 nearest neighbours for every cell\n",
      "Mapping phenotype to neighbors\n",
      "Performing 1000 permutations\n",
      "Consolidating the permutation results\n",
      "Processing Image: ['832_GC2']\n",
      "Identifying the 10 nearest neighbours for every cell\n",
      "Mapping phenotype to neighbors\n",
      "Performing 1000 permutations\n",
      "Consolidating the permutation results\n",
      "Processing Image: ['834_GC2']\n",
      "Identifying the 10 nearest neighbours for every cell\n",
      "Mapping phenotype to neighbors\n",
      "Performing 1000 permutations\n",
      "Consolidating the permutation results\n",
      "Processing Image: ['840_GC2']\n",
      "Identifying the 10 nearest neighbours for every cell\n",
      "Mapping phenotype to neighbors\n",
      "Performing 1000 permutations\n",
      "Consolidating the permutation results\n",
      "Processing Image: ['843_GC2']\n",
      "Identifying the 10 nearest neighbours for every cell\n",
      "Mapping phenotype to neighbors\n",
      "Performing 1000 permutations\n",
      "Consolidating the permutation results\n",
      "Processing Image: ['845_GC1']\n",
      "Identifying the 10 nearest neighbours for every cell\n",
      "Mapping phenotype to neighbors\n",
      "Performing 1000 permutations\n",
      "Consolidating the permutation results\n",
      "Processing Image: ['847_GC1']\n",
      "Identifying the 10 nearest neighbours for every cell\n",
      "Mapping phenotype to neighbors\n",
      "Performing 1000 permutations\n",
      "Consolidating the permutation results\n",
      "Processing Image: ['853_GC1']\n",
      "Identifying the 10 nearest neighbours for every cell\n",
      "Mapping phenotype to neighbors\n",
      "Performing 1000 permutations\n",
      "Consolidating the permutation results\n",
      "Processing Image: ['855_GC1']\n",
      "Identifying the 10 nearest neighbours for every cell\n",
      "Mapping phenotype to neighbors\n",
      "Performing 1000 permutations\n",
      "Consolidating the permutation results\n",
      "Processing Image: ['857_GC1']\n",
      "Identifying the 10 nearest neighbours for every cell\n",
      "Mapping phenotype to neighbors\n",
      "Performing 1000 permutations\n"
     ]
    }
   ],
   "source": [
    "\n",
    "# Using the KNN method to identify local neighbours \n",
    "df_nopre = sm.tl.spatial_interaction(df_nopre, \n",
    "                                  phenotype='spatialpheno2',\n",
    "                                  imageid='ImageID',\n",
    "                                  method='knn', \n",
    "                                  knn=10, \n",
    "                                  label='sp2_spat_interaction_knn10',\n",
    "                                 pval_method='zscore')"
   ]
  },
  {
   "cell_type": "code",
   "execution_count": 26,
   "id": "3b496378-744d-4848-8094-b51fcad058b2",
   "metadata": {},
   "outputs": [],
   "source": [
    "df1 = df_nopre.uns['sp_spat_interaction_knn10']\n",
    "df1.to_csv('REV1_spatialpheno_nb_spat_interaction_knn10.csv')"
   ]
  },
  {
   "cell_type": "code",
   "execution_count": 29,
   "id": "72723442-5715-4d86-94a3-e5a82bb7cdfc",
   "metadata": {},
   "outputs": [
    {
     "name": "stdout",
     "output_type": "stream",
     "text": [
      "Saved plot to REV1_outs/spatialpheno_interaction_Dendr_AxilNOpreDG.pdf\n"
     ]
    }
   ],
   "source": [
    "# spatial_interaction heatmap with dendrograms\n",
    "sns.set_context(\"talk\", font_scale=0.2)  # smaller fonts\n",
    "\n",
    "sm.pl.spatial_interaction(df_nopre, \n",
    "                          summarize_plot=True, \n",
    "                          binary_view=True,\n",
    "                          spatial_interaction='sp2_spat_interaction_knn10',\n",
    "                          row_cluster=True, col_cluster=True, linewidths=0.75, linecolor='black',\n",
    "                          figsize=(5,4),\n",
    "                          fileName='spatialpheno2_interaction_Dendr_AxilNOpreDG.pdf', saveDir=\"REV1_outs/\")"
   ]
  },
  {
   "cell_type": "code",
   "execution_count": 31,
   "id": "643953be-7988-415c-b3a0-f0ebdd00327b",
   "metadata": {},
   "outputs": [
    {
     "name": "stdout",
     "output_type": "stream",
     "text": [
      "Processing Image: ['609_GC1']\n",
      "Identifying the 10 nearest neighbours for every cell\n",
      "Mapping phenotype to neighbors\n",
      "Performing 1000 permutations\n"
     ]
    },
    {
     "name": "stderr",
     "output_type": "stream",
     "text": [
      "python(16040) MallocStackLogging: can't turn off malloc stack logging because it was not enabled.\n",
      "python(16041) MallocStackLogging: can't turn off malloc stack logging because it was not enabled.\n",
      "python(16042) MallocStackLogging: can't turn off malloc stack logging because it was not enabled.\n",
      "python(16043) MallocStackLogging: can't turn off malloc stack logging because it was not enabled.\n",
      "python(16044) MallocStackLogging: can't turn off malloc stack logging because it was not enabled.\n",
      "python(16046) MallocStackLogging: can't turn off malloc stack logging because it was not enabled.\n",
      "python(16047) MallocStackLogging: can't turn off malloc stack logging because it was not enabled.\n",
      "python(16048) MallocStackLogging: can't turn off malloc stack logging because it was not enabled.\n"
     ]
    },
    {
     "name": "stdout",
     "output_type": "stream",
     "text": [
      "Consolidating the permutation results\n",
      "Processing Image: ['705_GC1']\n",
      "Identifying the 10 nearest neighbours for every cell\n",
      "Mapping phenotype to neighbors\n",
      "Performing 1000 permutations\n",
      "Consolidating the permutation results\n",
      "Processing Image: ['706_GC1']\n",
      "Identifying the 10 nearest neighbours for every cell\n",
      "Mapping phenotype to neighbors\n",
      "Performing 1000 permutations\n",
      "Consolidating the permutation results\n",
      "Processing Image: ['709_GC2']\n",
      "Identifying the 10 nearest neighbours for every cell\n",
      "Mapping phenotype to neighbors\n",
      "Performing 1000 permutations\n",
      "Consolidating the permutation results\n",
      "Processing Image: ['711_GC1']\n",
      "Identifying the 10 nearest neighbours for every cell\n",
      "Mapping phenotype to neighbors\n",
      "Performing 1000 permutations\n",
      "Consolidating the permutation results\n",
      "Processing Image: ['815_GC1']\n",
      "Identifying the 10 nearest neighbours for every cell\n",
      "Mapping phenotype to neighbors\n",
      "Performing 1000 permutations\n",
      "Consolidating the permutation results\n",
      "Processing Image: ['818_GC1']\n",
      "Identifying the 10 nearest neighbours for every cell\n",
      "Mapping phenotype to neighbors\n",
      "Performing 1000 permutations\n",
      "Consolidating the permutation results\n",
      "Processing Image: ['822_GC2']\n",
      "Identifying the 10 nearest neighbours for every cell\n",
      "Mapping phenotype to neighbors\n",
      "Performing 1000 permutations\n",
      "Consolidating the permutation results\n",
      "Processing Image: ['824_GC1']\n",
      "Identifying the 10 nearest neighbours for every cell\n",
      "Mapping phenotype to neighbors\n",
      "Performing 1000 permutations\n",
      "Consolidating the permutation results\n",
      "Processing Image: ['826_GC1']\n",
      "Identifying the 10 nearest neighbours for every cell\n",
      "Mapping phenotype to neighbors\n",
      "Performing 1000 permutations\n",
      "Consolidating the permutation results\n",
      "Processing Image: ['830_GC1']\n",
      "Identifying the 10 nearest neighbours for every cell\n",
      "Mapping phenotype to neighbors\n",
      "Performing 1000 permutations\n",
      "Consolidating the permutation results\n",
      "Processing Image: ['832_GC2']\n",
      "Identifying the 10 nearest neighbours for every cell\n",
      "Mapping phenotype to neighbors\n",
      "Performing 1000 permutations\n",
      "Consolidating the permutation results\n",
      "Processing Image: ['834_GC2']\n",
      "Identifying the 10 nearest neighbours for every cell\n",
      "Mapping phenotype to neighbors\n",
      "Performing 1000 permutations\n",
      "Consolidating the permutation results\n",
      "Processing Image: ['836_GC1']\n",
      "Identifying the 10 nearest neighbours for every cell\n",
      "Mapping phenotype to neighbors\n",
      "Performing 1000 permutations\n",
      "Consolidating the permutation results\n",
      "Processing Image: ['840_GC2']\n",
      "Identifying the 10 nearest neighbours for every cell\n",
      "Mapping phenotype to neighbors\n",
      "Performing 1000 permutations\n",
      "Consolidating the permutation results\n",
      "Processing Image: ['843_GC2']\n",
      "Identifying the 10 nearest neighbours for every cell\n",
      "Mapping phenotype to neighbors\n",
      "Performing 1000 permutations\n",
      "Consolidating the permutation results\n",
      "Processing Image: ['845_GC1']\n",
      "Identifying the 10 nearest neighbours for every cell\n",
      "Mapping phenotype to neighbors\n",
      "Performing 1000 permutations\n",
      "Consolidating the permutation results\n",
      "Processing Image: ['847_GC1']\n",
      "Identifying the 10 nearest neighbours for every cell\n",
      "Mapping phenotype to neighbors\n",
      "Performing 1000 permutations\n",
      "Consolidating the permutation results\n",
      "Processing Image: ['853_GC1']\n",
      "Identifying the 10 nearest neighbours for every cell\n",
      "Mapping phenotype to neighbors\n",
      "Performing 1000 permutations\n",
      "Consolidating the permutation results\n",
      "Processing Image: ['855_GC1']\n",
      "Identifying the 10 nearest neighbours for every cell\n",
      "Mapping phenotype to neighbors\n",
      "Performing 1000 permutations\n",
      "Consolidating the permutation results\n",
      "Processing Image: ['857_GC1']\n",
      "Identifying the 10 nearest neighbours for every cell\n",
      "Mapping phenotype to neighbors\n",
      "Performing 1000 permutations\n",
      "Consolidating the permutation results\n",
      "Processing Image: ['859_GC1']\n",
      "Identifying the 10 nearest neighbours for every cell\n",
      "Mapping phenotype to neighbors\n",
      "Performing 1000 permutations\n",
      "Consolidating the permutation results\n",
      "Processing Image: ['860_GC1']\n",
      "Identifying the 10 nearest neighbours for every cell\n",
      "Mapping phenotype to neighbors\n",
      "Performing 1000 permutations\n",
      "Consolidating the permutation results\n",
      "Processing Image: ['862_GC1']\n",
      "Identifying the 10 nearest neighbours for every cell\n",
      "Mapping phenotype to neighbors\n",
      "Performing 1000 permutations\n",
      "Consolidating the permutation results\n",
      "Processing Image: ['864_GC2']\n",
      "Identifying the 10 nearest neighbours for every cell\n",
      "Mapping phenotype to neighbors\n",
      "Performing 1000 permutations\n",
      "Consolidating the permutation results\n",
      "Processing Image: ['870_GC1']\n",
      "Identifying the 10 nearest neighbours for every cell\n",
      "Mapping phenotype to neighbors\n",
      "Performing 1000 permutations\n",
      "Consolidating the permutation results\n",
      "Processing Image: ['874_GC1']\n",
      "Identifying the 10 nearest neighbours for every cell\n",
      "Mapping phenotype to neighbors\n",
      "Performing 1000 permutations\n",
      "Consolidating the permutation results\n",
      "Processing Image: ['880_GC1']\n",
      "Identifying the 10 nearest neighbours for every cell\n",
      "Mapping phenotype to neighbors\n",
      "Performing 1000 permutations\n",
      "Consolidating the permutation results\n",
      "Processing Image: ['907_GC2']\n",
      "Identifying the 10 nearest neighbours for every cell\n",
      "Mapping phenotype to neighbors\n",
      "Performing 1000 permutations\n",
      "Consolidating the permutation results\n",
      "Processing Image: ['909_GC2']\n",
      "Identifying the 10 nearest neighbours for every cell\n",
      "Mapping phenotype to neighbors\n",
      "Performing 1000 permutations\n",
      "Consolidating the permutation results\n",
      "Processing Image: ['919_GC2']\n",
      "Identifying the 10 nearest neighbours for every cell\n",
      "Mapping phenotype to neighbors\n",
      "Performing 1000 permutations\n",
      "Consolidating the permutation results\n",
      "Processing Image: ['921_GC2']\n",
      "Identifying the 10 nearest neighbours for every cell\n",
      "Mapping phenotype to neighbors\n",
      "Performing 1000 permutations\n",
      "Consolidating the permutation results\n",
      "Processing Image: ['923_GC2']\n",
      "Identifying the 10 nearest neighbours for every cell\n",
      "Mapping phenotype to neighbors\n",
      "Performing 1000 permutations\n",
      "Consolidating the permutation results\n",
      "Processing Image: ['925_GC1']\n",
      "Identifying the 10 nearest neighbours for every cell\n",
      "Mapping phenotype to neighbors\n",
      "Performing 1000 permutations\n",
      "Consolidating the permutation results\n",
      "Processing Image: ['930_GC1']\n",
      "Identifying the 10 nearest neighbours for every cell\n",
      "Mapping phenotype to neighbors\n",
      "Performing 1000 permutations\n",
      "Consolidating the permutation results\n",
      "Processing Image: ['938_GC1']\n",
      "Identifying the 10 nearest neighbours for every cell\n",
      "Mapping phenotype to neighbors\n",
      "Performing 1000 permutations\n",
      "Consolidating the permutation results\n",
      "Processing Image: ['939_GC1']\n",
      "Identifying the 10 nearest neighbours for every cell\n",
      "Mapping phenotype to neighbors\n",
      "Performing 1000 permutations\n",
      "Consolidating the permutation results\n",
      "Processing Image: ['946_GC1']\n",
      "Identifying the 10 nearest neighbours for every cell\n",
      "Mapping phenotype to neighbors\n",
      "Performing 1000 permutations\n",
      "Consolidating the permutation results\n",
      "Processing Image: ['948_GC2']\n",
      "Identifying the 10 nearest neighbours for every cell\n",
      "Mapping phenotype to neighbors\n",
      "Performing 1000 permutations\n",
      "Consolidating the permutation results\n",
      "Processing Image: ['957_GC2']\n",
      "Identifying the 10 nearest neighbours for every cell\n",
      "Mapping phenotype to neighbors\n",
      "Performing 1000 permutations\n",
      "Consolidating the permutation results\n"
     ]
    }
   ],
   "source": [
    "# Using the KNN method to identify local neighbours \n",
    "df_pre = sm.tl.spatial_interaction(df_pre, \n",
    "                                  phenotype='spatialpheno2',\n",
    "                                  imageid='ImageID',\n",
    "                                  method='knn', \n",
    "                                  knn=10, \n",
    "                                  label='sp2_spat_interaction_knn10',\n",
    "                                 pval_method='zscore')"
   ]
  },
  {
   "cell_type": "code",
   "execution_count": 32,
   "id": "5949f3fa-cffa-47c9-80a0-c25d34b74fc1",
   "metadata": {},
   "outputs": [],
   "source": [
    "df1 = df_pre.uns['sp2_spat_interaction_knn10']\n",
    "df1.to_csv('REV1_spatialpheno_nb_spat_interaction_knn10_prediagnosticANDcontrols.csv')"
   ]
  },
  {
   "cell_type": "code",
   "execution_count": null,
   "id": "0a539e34-10e9-4644-a398-e0abb4224bda",
   "metadata": {},
   "outputs": [],
   "source": []
  }
 ],
 "metadata": {
  "kernelspec": {
   "display_name": "Python 3 (ipykernel)",
   "language": "python",
   "name": "python3"
  },
  "language_info": {
   "codemirror_mode": {
    "name": "ipython",
    "version": 3
   },
   "file_extension": ".py",
   "mimetype": "text/x-python",
   "name": "python",
   "nbconvert_exporter": "python",
   "pygments_lexer": "ipython3",
   "version": "3.10.15"
  }
 },
 "nbformat": 4,
 "nbformat_minor": 5
}
